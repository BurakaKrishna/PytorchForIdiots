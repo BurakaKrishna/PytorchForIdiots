{
 "cells": [
  {
   "cell_type": "markdown",
   "metadata": {},
   "source": [
    "# PyTorch\n",
    "\n",
    "What is PyTorch?\n",
    "\n",
    "* It is a replacement for NumPy to use GPUs\n",
    "* A deep learning platform built for flexibility and speed\n",
    "\n",
    "\n",
    "## Tensor Overview\n",
    "What are tensors?\n",
    "\n",
    "Tensors are similar to NumPy's `ndarrays`\n",
    "\n",
    "We normally think of tensors as a generalization of matrices. In fact, matrices are 2-D tensors!\n",
    "\n",
    "![](data/img/grumpy_cat_tensor.jpg)\n",
    "\n",
    "Here is a great visualization of tensors from 1-D to 5-D\n",
    "\n",
    "![](data/img/tensor_viz.jpeg)\n",
    "\n",
    "As mentioned before, since tensors are generalizations of matrices, we should be able to create them in similar ways. We can also expect *most* operations to stay the same. In particular, addition of tensors is the same as for matrices. Multiplication is a bit different, but we won't have to concern ourselves with that in this lecture."
   ]
  },
  {
   "cell_type": "markdown",
   "metadata": {},
   "source": [
    "### Tensor Types\n",
    "\n",
    "Torch defines eight CPU tensor types and eight GPU tensor types:\n",
    "\n",
    "| Data type                | dtype                             | CPU Tensor           | GPU Tensor                |\n",
    "|--------------------------|-----------------------------------|----------------------|---------------------------|\n",
    "| 32-bit floating point    | `torch.float32` or `torch.float`  | `torch.FloatTensor`  | `torch.cuda.FloatTensor`  |\n",
    "| 64-bit floating point    | `torch.float64` or `torch.double` | `torch.DoubleTensor` | `torch.cuda.DoubleTensor` |\n",
    "| 16-bit floating point    | `torch.float16` or `torch.half`   | `torch.HalfTensor`   | `torch.cuda.HalfTensor`   |\n",
    "| 8-bit integer (unsigned) | `torch.uint8`                     | `torch.ByteTensor`   | `torch.cuda.ByteTensor`   |\n",
    "| 8-bit integer (signed)   | `torch.int8`                      | `torch.CharTensor`   | `torch.cuda.CharTensor`   |\n",
    "| 16-bit integer (signed)  | `torch.int16` or `torch.short`    | `torch.ShortTensor`  | `torch.cuda.ShortTensor`  |\n",
    "| 32-bit integer (signed)  | `torch.int32` or `torch.int`      | `torch.IntTensor`    | `torch.cuda.IntTensor`    |\n",
    "| 64-bit integer (signed)  | `torch.int64` or `torch.long`     | `torch.LongTensor`   | `torch.cuda.LongTensor`   |\n",
    "\n",
    "**Note**: Tensor types need to match when doing calculations with them."
   ]
  },
  {
   "cell_type": "markdown",
   "metadata": {},
   "source": [
    "# Installing PyTorch (on Google Server)\n",
    "\n",
    "Go to https://colab.research.google.com and sign in with your Google account. If you do not have a Google account you can create one. From there you can create a new notebook."
   ]
  },
  {
   "cell_type": "markdown",
   "metadata": {},
   "source": [
    "# Install using Conda (for local installation)\n",
    "\n",
    "`conda install pytorch torchvision -c pytorch`"
   ]
  },
  {
   "cell_type": "code",
   "execution_count": 6,
   "metadata": {
    "ExecuteTime": {
     "end_time": "2019-04-30T21:58:09.320174Z",
     "start_time": "2019-04-30T21:58:06.131991Z"
    }
   },
   "outputs": [
    {
     "name": "stdout",
     "output_type": "stream",
     "text": [
      "Requirement already satisfied: torchvision in /home/user/anaconda2/lib/python2.7/site-packages (0.2.2.post3)\n",
      "Requirement already satisfied: six in /home/user/.local/lib/python2.7/site-packages (from torchvision) (1.11.0)\n",
      "Requirement already satisfied: numpy in /home/user/anaconda2/lib/python2.7/site-packages (from torchvision) (1.15.1)\n",
      "Requirement already satisfied: torch in /home/user/anaconda2/lib/python2.7/site-packages (from torchvision) (1.1.0)\n",
      "Requirement already satisfied: pillow>=4.1.1 in /home/user/anaconda2/lib/python2.7/site-packages (from torchvision) (5.2.0)\n",
      "Requirement already satisfied: future in /home/user/anaconda2/lib/python2.7/site-packages (from torch->torchvision) (0.17.1)\n",
      "\u001b[31mtwisted 18.7.0 requires PyHamcrest>=1.9.0, which is not installed.\u001b[0m\n",
      "\u001b[31mgrin 1.2.1 requires argparse>=1.1, which is not installed.\u001b[0m\n",
      "\u001b[31mkgp 0.3.2 has requirement keras==2.1.3, but you'll have keras 2.2.4 which is incompatible.\u001b[0m\n",
      "\u001b[31mthinc 6.12.1 has requirement msgpack<0.6.0,>=0.5.6, but you'll have msgpack 0.6.1 which is incompatible.\u001b[0m\n",
      "\u001b[33mYou are using pip version 10.0.1, however version 19.1.1 is available.\n",
      "You should consider upgrading via the 'pip install --upgrade pip' command.\u001b[0m\n"
     ]
    }
   ],
   "source": [
    "!pip install torchvision\n",
    "import os\n",
    "import time\n",
    "import shutil\n",
    "import requests\n",
    "import zipfile\n",
    "import numpy as np\n",
    "import pandas as pd\n",
    "import torch\n",
    "import torch.nn as nn\n",
    "import torch.nn.functional as F\n",
    "import torchvision\n",
    "\n",
    "from PIL import Image\n",
    "from cycler import cycler\n",
    "from torch.autograd import Variable\n",
    "from torch.utils.data import Dataset, DataLoader\n",
    "from torchvision import datasets, models, transforms\n",
    "from sklearn.metrics import accuracy_score"
   ]
  },
  {
   "cell_type": "code",
   "execution_count": 7,
   "metadata": {
    "ExecuteTime": {
     "end_time": "2019-04-30T21:58:09.320174Z",
     "start_time": "2019-04-30T21:58:06.131991Z"
    }
   },
   "outputs": [],
   "source": [
    "import matplotlib.pyplot as plt\n",
    "cmap=plt.cm.tab10\n",
    "c = cycler('color', cmap(np.linspace(0,1,10)))\n",
    "plt.rcParams[\"axes.prop_cycle\"] = c\n",
    "\n",
    "%matplotlib inline"
   ]
  },
  {
   "cell_type": "code",
   "execution_count": 8,
   "metadata": {},
   "outputs": [],
   "source": [
    "data_url = 'https://www.dropbox.com/s/z0ilg0u8rsl2udz/pytorch_data.zip?dl=1'\n",
    "if not os.path.exists('data'):\n",
    "    response = requests.get(data_url, stream=True)\n",
    "    zip_path = 'pytorch_data.zip'\n",
    "    with open(zip_path, 'wb') as f: shutil.copyfileobj(response.raw, f)\n",
    "    with zipfile.ZipFile(zip_path, 'r') as z: z.extractall()\n",
    "    os.remove(zip_path)"
   ]
  },
  {
   "cell_type": "code",
   "execution_count": 3,
   "metadata": {
    "ExecuteTime": {
     "end_time": "2019-04-30T21:58:09.320174Z",
     "start_time": "2019-04-30T21:58:06.131991Z"
    }
   },
   "outputs": [],
   "source": [
    "import matplotlib.pyplot as plt\n",
    "cmap=plt.cm.tab10\n",
    "c = cycler('color', cmap(np.linspace(0,1,10)))\n",
    "plt.rcParams[\"axes.prop_cycle\"] = c\n",
    "\n",
    "%matplotlib inline"
   ]
  },
  {
   "cell_type": "code",
   "execution_count": 4,
   "metadata": {},
   "outputs": [],
   "source": [
    "data_url = 'https://www.dropbox.com/s/z0ilg0u8rsl2udz/pytorch_data.zip?dl=1'\n",
    "if not os.path.exists('data'):\n",
    "    response = requests.get(data_url, stream=True)\n",
    "    zip_path = 'pytorch_data.zip'\n",
    "    with open(zip_path, 'wb') as f: shutil.copyfileobj(response.raw, f)\n",
    "    with zipfile.ZipFile(zip_path, 'r') as z: z.extractall()\n",
    "    os.remove(zip_path)"
   ]
  },
  {
   "cell_type": "code",
   "execution_count": 2,
   "metadata": {},
   "outputs": [
    {
     "data": {
      "text/plain": [
       "'1.1.0'"
      ]
     },
     "execution_count": 2,
     "metadata": {},
     "output_type": "execute_result"
    }
   ],
   "source": [
    "torch.__version__  # should be 1.0.0 or higher"
   ]
  },
  {
   "cell_type": "code",
   "execution_count": 3,
   "metadata": {},
   "outputs": [],
   "source": [
    "import livelossplot"
   ]
  },
  {
   "cell_type": "code",
   "execution_count": 21,
   "metadata": {},
   "outputs": [],
   "source": [
    "import torch\n",
    "from torch import tensor"
   ]
  },
  {
   "cell_type": "markdown",
   "metadata": {},
   "source": [
    "\n",
    "\n",
    "Linear algebra is the language of deep learning... and quantum mechanics.\n",
    "\n",
    "Note: in physics and engineering, tensor is not any array. There is a one-two-many rule: \n",
    "\n",
    "* 0: scalar\n",
    "* 1: vector\n",
    "* 2: matrix\n",
    "* 3 and above: n-dimensional tensor\n",
    "\n",
    "In theory, tensors can be of an arbitrarily high dimension. In deep learning, they rare exceed 5."
   ]
  },
  {
   "cell_type": "markdown",
   "metadata": {},
   "source": [
    "## Scalar\n",
    "\n",
    "Scalar is \"just a number\". Real-world examples of a scalar are: temperature, pressure, price of an apple in a given shop, etc."
   ]
  },
  {
   "cell_type": "code",
   "execution_count": 22,
   "metadata": {},
   "outputs": [
    {
     "data": {
      "text/plain": [
       "tensor(42.)"
      ]
     },
     "execution_count": 22,
     "metadata": {},
     "output_type": "execute_result"
    }
   ],
   "source": [
    "x = tensor(42.)\n",
    "x"
   ]
  },
  {
   "cell_type": "code",
   "execution_count": 23,
   "metadata": {},
   "outputs": [
    {
     "data": {
      "text/plain": [
       "0"
      ]
     },
     "execution_count": 23,
     "metadata": {},
     "output_type": "execute_result"
    }
   ],
   "source": [
    "x.dim()"
   ]
  },
  {
   "cell_type": "code",
   "execution_count": 24,
   "metadata": {},
   "outputs": [
    {
     "data": {
      "text/plain": [
       "tensor(84.)"
      ]
     },
     "execution_count": 24,
     "metadata": {},
     "output_type": "execute_result"
    }
   ],
   "source": [
    "2 * x"
   ]
  },
  {
   "cell_type": "code",
   "execution_count": 25,
   "metadata": {},
   "outputs": [
    {
     "data": {
      "text/plain": [
       "42.0"
      ]
     },
     "execution_count": 25,
     "metadata": {},
     "output_type": "execute_result"
    }
   ],
   "source": [
    "x.item()"
   ]
  },
  {
   "cell_type": "markdown",
   "metadata": {},
   "source": [
    "### Food for thought\n",
    "\n",
    "> The scalar fallacy is the false but pervasive assumption that real-world things (hotels, sandwiches, people, mutual funds, chemo drugs, whatever) have some single-dimension ordering of \"goodness\".\n",
    "\n",
    "> When you project a multi-dimensional space down to one dimension, you are involving a lot of context and preferences in the act of projecting. - [rlucas on HN](https://news.ycombinator.com/item?id=8132525)\n",
    "\n",
    "See also: [Scalar fallacy](http://observationalepidemiology.blogspot.com/2011/01/scalar-fallacy.html).\n"
   ]
  },
  {
   "cell_type": "markdown",
   "metadata": {},
   "source": [
    "## Vector\n",
    "\n",
    "Vector is an ordered list of numbers, such as `[-5., 2., 0.]`.\n",
    "\n",
    "In physics and mechanical engineering, not everything is a vector:\n",
    "\n",
    "> it is not generally true that any three numbers form a vector. It is true only if, when we rotate the coordinate system, the components of the vector transform among themselves in the correct way. - [II 02: Differential Calculus of Vector Fields](http://www.feynmanlectures.caltech.edu/II_02.html) from [The Feynman Lectures on Physics](http://www.feynmanlectures.caltech.edu/)\n",
    "\n",
    "* position\n",
    "* velocity\n",
    "* electric field\n",
    "* spatial gradient of a scalar field ($\\nabla T$)\n",
    "\n",
    "\n",
    "In deep learning we are more... relaxed. Usually vectors are abstract, \n",
    "\n",
    "\n",
    "* feature vector after a ImageNet-trained vector\n",
    "* a word representation in (see: [king - man + woman is queen; but why?](https://p.migdal.pl/2017/01/06/king-man-woman-queen-why.html))\n",
    "* user and product vectors in [Factorization Machines](https://www.reddit.com/r/MachineLearning/comments/65d3lt/r_factorization_machines_2010_a_classic_paper_in/) and related recommendation systems\n",
    "\n",
    "\n",
    "$$\\vec{v} = \\left[ v_1, v_2, \\ldots, v_n \\right]$$"
   ]
  },
  {
   "cell_type": "code",
   "execution_count": 26,
   "metadata": {},
   "outputs": [
    {
     "data": {
      "text/plain": [
       "tensor([ 1.5000, -0.5000,  3.0000])"
      ]
     },
     "execution_count": 26,
     "metadata": {},
     "output_type": "execute_result"
    }
   ],
   "source": [
    "v = tensor([1.5, -0.5, 3.0])\n",
    "v"
   ]
  },
  {
   "cell_type": "code",
   "execution_count": 27,
   "metadata": {},
   "outputs": [
    {
     "data": {
      "text/plain": [
       "1"
      ]
     },
     "execution_count": 27,
     "metadata": {},
     "output_type": "execute_result"
    }
   ],
   "source": [
    "v.dim()"
   ]
  },
  {
   "cell_type": "code",
   "execution_count": 28,
   "metadata": {},
   "outputs": [
    {
     "data": {
      "text/plain": [
       "torch.Size([3])"
      ]
     },
     "execution_count": 28,
     "metadata": {},
     "output_type": "execute_result"
    }
   ],
   "source": [
    "v.size()"
   ]
  },
  {
   "cell_type": "markdown",
   "metadata": {},
   "source": [
    "### Vector arithmetics\n",
    "\n",
    "We can multiply vectors by a scalar: \n",
    "\n",
    "$$a \\vec{v} = \\left[a v_1, a v_2, \\ldots, a v_n \\right]$$\n",
    "\n",
    "Or, provided that two vectors have the same lenth, add and substract vectors to each other:\n",
    "\n",
    "$$\\vec{v} + \\vec{u}$$"
   ]
  },
  {
   "cell_type": "code",
   "execution_count": 29,
   "metadata": {},
   "outputs": [
    {
     "data": {
      "text/plain": [
       "tensor([ 3., -1.,  6.])"
      ]
     },
     "execution_count": 29,
     "metadata": {},
     "output_type": "execute_result"
    }
   ],
   "source": [
    "2 * v"
   ]
  },
  {
   "cell_type": "code",
   "execution_count": 30,
   "metadata": {},
   "outputs": [],
   "source": [
    "u = tensor([1., 0., 1.])"
   ]
  },
  {
   "cell_type": "code",
   "execution_count": 31,
   "metadata": {},
   "outputs": [
    {
     "data": {
      "text/plain": [
       "tensor([ 2.5000, -0.5000,  4.0000])"
      ]
     },
     "execution_count": 31,
     "metadata": {},
     "output_type": "execute_result"
    }
   ],
   "source": [
    "v + u"
   ]
  },
  {
   "cell_type": "markdown",
   "metadata": {},
   "source": [
    "### Vector length\n",
    "\n",
    "\n",
    "$$|\\vec{v}| = \\sqrt{v_1^2 + v_2^2 + \\ldots + v_n^2} = \\sqrt{\\sum_{i=1}^n v_i^2}$$"
   ]
  },
  {
   "cell_type": "code",
   "execution_count": 32,
   "metadata": {},
   "outputs": [
    {
     "data": {
      "text/plain": [
       "tensor(3.3912)"
      ]
     },
     "execution_count": 32,
     "metadata": {},
     "output_type": "execute_result"
    }
   ],
   "source": [
    "v.pow(2).sum().sqrt()"
   ]
  },
  {
   "cell_type": "code",
   "execution_count": 33,
   "metadata": {},
   "outputs": [
    {
     "data": {
      "text/plain": [
       "tensor([2.2500, 0.2500, 9.0000])"
      ]
     },
     "execution_count": 33,
     "metadata": {},
     "output_type": "execute_result"
    }
   ],
   "source": [
    "v**2"
   ]
  },
  {
   "cell_type": "code",
   "execution_count": 34,
   "metadata": {},
   "outputs": [
    {
     "data": {
      "text/plain": [
       "tensor([2.2500, 0.2500, 9.0000])"
      ]
     },
     "execution_count": 34,
     "metadata": {},
     "output_type": "execute_result"
    }
   ],
   "source": [
    "torch.pow(v, 2)"
   ]
  },
  {
   "cell_type": "code",
   "execution_count": 35,
   "metadata": {},
   "outputs": [
    {
     "data": {
      "text/plain": [
       "tensor(11.5000)"
      ]
     },
     "execution_count": 35,
     "metadata": {},
     "output_type": "execute_result"
    }
   ],
   "source": [
    "v.pow(2).sum()"
   ]
  },
  {
   "cell_type": "code",
   "execution_count": 36,
   "metadata": {},
   "outputs": [
    {
     "data": {
      "text/plain": [
       "tensor([ 0.4423, -0.1474,  0.8847])"
      ]
     },
     "execution_count": 36,
     "metadata": {},
     "output_type": "execute_result"
    }
   ],
   "source": [
    "v / v.norm()"
   ]
  },
  {
   "cell_type": "markdown",
   "metadata": {},
   "source": [
    "## Matrix\n",
    "\n",
    "Typical operations:\n",
    "\n",
    "* rotation\n",
    "* next step in a stochastic process\n",
    "* scalar products\n",
    "\n",
    "\n",
    "Give example with colors to $RGB$ to $black/R-G$\n",
    "\n",
    "https://xkcd.com/184/\n",
    "\n",
    "* [Hessian matrix](https://en.wikipedia.org/wiki/Hessian_matrix) of a scalar\n",
    "\n",
    "Add:\n",
    "\n",
    "* matrix as in Quantum Game"
   ]
  },
  {
   "cell_type": "code",
   "execution_count": 37,
   "metadata": {},
   "outputs": [
    {
     "data": {
      "text/plain": [
       "tensor([[1., 2.],\n",
       "        [3., 4.]])"
      ]
     },
     "execution_count": 37,
     "metadata": {},
     "output_type": "execute_result"
    }
   ],
   "source": [
    "M = tensor([[1., 2.], [3., 4.]])\n",
    "M"
   ]
  },
  {
   "cell_type": "code",
   "execution_count": 38,
   "metadata": {},
   "outputs": [
    {
     "data": {
      "text/plain": [
       "tensor([[ 7., 10.],\n",
       "        [15., 22.]])"
      ]
     },
     "execution_count": 38,
     "metadata": {},
     "output_type": "execute_result"
    }
   ],
   "source": [
    "M.matmul(M)"
   ]
  },
  {
   "cell_type": "code",
   "execution_count": 39,
   "metadata": {},
   "outputs": [
    {
     "data": {
      "text/plain": [
       "tensor([1., 2.])"
      ]
     },
     "execution_count": 39,
     "metadata": {},
     "output_type": "execute_result"
    }
   ],
   "source": [
    "tensor([1., 0.]).matmul(M)"
   ]
  },
  {
   "cell_type": "code",
   "execution_count": 40,
   "metadata": {},
   "outputs": [
    {
     "data": {
      "text/plain": [
       "tensor([[ 1.,  4.],\n",
       "        [ 9., 16.]])"
      ]
     },
     "execution_count": 40,
     "metadata": {},
     "output_type": "execute_result"
    }
   ],
   "source": [
    "M * M"
   ]
  },
  {
   "cell_type": "code",
   "execution_count": 41,
   "metadata": {},
   "outputs": [
    {
     "data": {
      "text/plain": [
       "tensor([ 7., 10.])"
      ]
     },
     "execution_count": 41,
     "metadata": {},
     "output_type": "execute_result"
    }
   ],
   "source": [
    "tensor([1., 2.]).matmul(M)"
   ]
  },
  {
   "cell_type": "code",
   "execution_count": 42,
   "metadata": {},
   "outputs": [
    {
     "data": {
      "text/plain": [
       "torch.return_types.svd(\n",
       "U=tensor([[-0.4046, -0.9145],\n",
       "        [-0.9145,  0.4046]]),\n",
       "S=tensor([5.4650, 0.3660]),\n",
       "V=tensor([[-0.5760,  0.8174],\n",
       "        [-0.8174, -0.5760]]))"
      ]
     },
     "execution_count": 42,
     "metadata": {},
     "output_type": "execute_result"
    }
   ],
   "source": [
    "M.svd()"
   ]
  },
  {
   "cell_type": "code",
   "execution_count": 43,
   "metadata": {},
   "outputs": [
    {
     "data": {
      "text/plain": [
       "tensor(-2.0000)"
      ]
     },
     "execution_count": 43,
     "metadata": {},
     "output_type": "execute_result"
    }
   ],
   "source": [
    "M.det()"
   ]
  },
  {
   "cell_type": "markdown",
   "metadata": {},
   "source": [
    "## Tensor\n",
    "\n",
    "\n",
    "Tensor is a generalization of vectors and matrices for more dimensions.\n",
    "\n",
    "In physics and engineering they have more properties, as in:\n",
    "\n",
    "\n",
    "![](https://upload.wikimedia.org/wikipedia/commons/thumb/f/fe/StressEnergyTensor_contravariant.svg/250px-StressEnergyTensor_contravariant.svg.png)\n",
    "\n",
    "[Electromagnetic tensor](https://en.wikipedia.org/wiki/Electromagnetic_tensor) from [Introduction to the mathematics of general relativity - Wikipedia](https://en.wikipedia.org/wiki/Introduction_to_the_mathematics_of_general_relativity), see also: [Tensor](https://en.wikipedia.org/wiki/Tensor).\n",
    "\n",
    "In deep learning, there are any arrays.\n",
    "You can look at See also:\n",
    "\n",
    "* [Einsum is All you Need - Einstein Summation in Deep Learning - Tim Rocktäschel](https://rockt.github.io/2018/04/30/einsum)"
   ]
  },
  {
   "cell_type": "markdown",
   "metadata": {},
   "source": [
    "# PyTorch arithmetics\n"
   ]
  },
  {
   "cell_type": "code",
   "execution_count": 1,
   "metadata": {},
   "outputs": [],
   "source": [
    "import torch\n",
    "from torch import nn"
   ]
  },
  {
   "cell_type": "code",
   "execution_count": 2,
   "metadata": {},
   "outputs": [
    {
     "data": {
      "text/plain": [
       "False"
      ]
     },
     "execution_count": 2,
     "metadata": {},
     "output_type": "execute_result"
    }
   ],
   "source": [
    "# most likely will be False\n",
    "torch.cuda.is_available()"
   ]
  },
  {
   "cell_type": "code",
   "execution_count": 3,
   "metadata": {},
   "outputs": [
    {
     "data": {
      "text/plain": [
       "'1.1.0'"
      ]
     },
     "execution_count": 3,
     "metadata": {},
     "output_type": "execute_result"
    }
   ],
   "source": [
    "# we work on 1.0.1\n",
    "torch.__version__"
   ]
  },
  {
   "cell_type": "markdown",
   "metadata": {},
   "source": [
    "## Arithmetics\n",
    "PyTorch arithmetics works like `numpy` operations.\n",
    "\n",
    "Vide: [What is PyTorch?](https://pytorch.org/tutorials/beginner/blitz/tensor_tutorial.html#sphx-glr-beginner-blitz-tensor-tutorial-py)"
   ]
  },
  {
   "cell_type": "code",
   "execution_count": 4,
   "metadata": {},
   "outputs": [],
   "source": [
    "a = torch.tensor([[0.5, -2., 1., 3., 0., 0.9], [-1., 0., 10., -5., 4., 4.2]])\n",
    "b = torch.randn(2, 6)"
   ]
  },
  {
   "cell_type": "code",
   "execution_count": 5,
   "metadata": {},
   "outputs": [
    {
     "data": {
      "text/plain": [
       "tensor([[ 1.6806,  1.9944, -0.1886, -2.1955, -1.7889,  0.2210],\n",
       "        [-0.4126, -0.9485, -0.8595, -1.4291,  0.6104, -1.8695]])"
      ]
     },
     "execution_count": 5,
     "metadata": {},
     "output_type": "execute_result"
    }
   ],
   "source": [
    "b"
   ]
  },
  {
   "cell_type": "code",
   "execution_count": 6,
   "metadata": {},
   "outputs": [
    {
     "data": {
      "text/plain": [
       "tensor([[ 2.1806e+00, -5.6169e-03,  8.1141e-01,  8.0448e-01, -1.7889e+00,\n",
       "          1.1210e+00],\n",
       "        [-1.4126e+00, -9.4848e-01,  9.1405e+00, -6.4291e+00,  4.6104e+00,\n",
       "          2.3305e+00]])"
      ]
     },
     "execution_count": 6,
     "metadata": {},
     "output_type": "execute_result"
    }
   ],
   "source": [
    "a + b"
   ]
  },
  {
   "cell_type": "code",
   "execution_count": 7,
   "metadata": {},
   "outputs": [
    {
     "data": {
      "text/plain": [
       "tensor([[  1.0000,  -4.0000,   2.0000,   6.0000,   0.0000,   1.8000],\n",
       "        [ -2.0000,   0.0000,  20.0000, -10.0000,   8.0000,   8.4000]])"
      ]
     },
     "execution_count": 7,
     "metadata": {},
     "output_type": "execute_result"
    }
   ],
   "source": [
    "2 * a "
   ]
  },
  {
   "cell_type": "code",
   "execution_count": 8,
   "metadata": {},
   "outputs": [
    {
     "data": {
      "text/plain": [
       "tensor([[ 1.6806, -0.4126],\n",
       "        [ 1.9944, -0.9485],\n",
       "        [-0.1886, -0.8595],\n",
       "        [-2.1955, -1.4291],\n",
       "        [-1.7889,  0.6104],\n",
       "        [ 0.2210, -1.8695]])"
      ]
     },
     "execution_count": 8,
     "metadata": {},
     "output_type": "execute_result"
    }
   ],
   "source": [
    "# matrix transposition\n",
    "b.t()"
   ]
  },
  {
   "cell_type": "code",
   "execution_count": 9,
   "metadata": {},
   "outputs": [
    {
     "data": {
      "text/plain": [
       "tensor([[-9.7247, -5.1388],\n",
       "        [ 1.1839, -6.4469]])"
      ]
     },
     "execution_count": 9,
     "metadata": {},
     "output_type": "execute_result"
    }
   ],
   "source": [
    "# matrix multiplication\n",
    "a.mm(b.t())"
   ]
  },
  {
   "cell_type": "code",
   "execution_count": 10,
   "metadata": {},
   "outputs": [
    {
     "ename": "RuntimeError",
     "evalue": "size mismatch, m1: [2 x 6], m2: [2 x 6] at /pytorch/aten/src/TH/generic/THTensorMath.cpp:961",
     "output_type": "error",
     "traceback": [
      "\u001b[0;31m---------------------------------------------------------------------------\u001b[0m",
      "\u001b[0;31mRuntimeError\u001b[0m                              Traceback (most recent call last)",
      "\u001b[0;32m<ipython-input-10-e96ad5b82bf8>\u001b[0m in \u001b[0;36m<module>\u001b[0;34m()\u001b[0m\n\u001b[0;32m----> 1\u001b[0;31m \u001b[0ma\u001b[0m\u001b[0;34m.\u001b[0m\u001b[0mmm\u001b[0m\u001b[0;34m(\u001b[0m\u001b[0mb\u001b[0m\u001b[0;34m)\u001b[0m\u001b[0;34m\u001b[0m\u001b[0m\n\u001b[0m",
      "\u001b[0;31mRuntimeError\u001b[0m: size mismatch, m1: [2 x 6], m2: [2 x 6] at /pytorch/aten/src/TH/generic/THTensorMath.cpp:961"
     ]
    }
   ],
   "source": [
    "a.mm(b)"
   ]
  },
  {
   "cell_type": "markdown",
   "metadata": {},
   "source": [
    "Note that error messaes are very descriptive."
   ]
  },
  {
   "cell_type": "code",
   "execution_count": 11,
   "metadata": {},
   "outputs": [
    {
     "data": {
      "text/plain": [
       "tensor([[ 2.1806e+00, -5.6169e-03,  8.1141e-01,  8.0448e-01, -1.7889e+00,\n",
       "          1.1210e+00],\n",
       "        [-1.4126e+00, -9.4848e-01,  9.1405e+00, -6.4291e+00,  4.6104e+00,\n",
       "          2.3305e+00]])"
      ]
     },
     "execution_count": 11,
     "metadata": {},
     "output_type": "execute_result"
    }
   ],
   "source": [
    "# equivalent to +\n",
    "a.add(b)"
   ]
  },
  {
   "cell_type": "code",
   "execution_count": 12,
   "metadata": {},
   "outputs": [
    {
     "data": {
      "text/plain": [
       "tensor([[ 0.5000, -2.0000,  1.0000,  3.0000,  0.0000,  0.9000],\n",
       "        [-1.0000,  0.0000, 10.0000, -5.0000,  4.0000,  4.2000]])"
      ]
     },
     "execution_count": 12,
     "metadata": {},
     "output_type": "execute_result"
    }
   ],
   "source": [
    "a"
   ]
  },
  {
   "cell_type": "code",
   "execution_count": 13,
   "metadata": {},
   "outputs": [
    {
     "data": {
      "text/plain": [
       "tensor([[ 2.1806e+00, -5.6169e-03,  8.1141e-01,  8.0448e-01, -1.7889e+00,\n",
       "          1.1210e+00],\n",
       "        [-1.4126e+00, -9.4848e-01,  9.1405e+00, -6.4291e+00,  4.6104e+00,\n",
       "          2.3305e+00]])"
      ]
     },
     "execution_count": 13,
     "metadata": {},
     "output_type": "execute_result"
    }
   ],
   "source": [
    "# inplace operations\n",
    "a.add_(b)"
   ]
  },
  {
   "cell_type": "code",
   "execution_count": 14,
   "metadata": {},
   "outputs": [
    {
     "data": {
      "text/plain": [
       "tensor([[ 2.1806e+00, -5.6169e-03,  8.1141e-01,  8.0448e-01, -1.7889e+00,\n",
       "          1.1210e+00],\n",
       "        [-1.4126e+00, -9.4848e-01,  9.1405e+00, -6.4291e+00,  4.6104e+00,\n",
       "          2.3305e+00]])"
      ]
     },
     "execution_count": 14,
     "metadata": {},
     "output_type": "execute_result"
    }
   ],
   "source": [
    "a"
   ]
  },
  {
   "cell_type": "code",
   "execution_count": 15,
   "metadata": {},
   "outputs": [
    {
     "data": {
      "text/plain": [
       "tensor([[4.7551e+00, 3.1550e-05, 6.5839e-01, 6.4719e-01, 3.2000e+00, 1.2566e+00],\n",
       "        [1.9955e+00, 8.9962e-01, 8.3548e+01, 4.1334e+01, 2.1256e+01, 5.4313e+00]])"
      ]
     },
     "execution_count": 15,
     "metadata": {},
     "output_type": "execute_result"
    }
   ],
   "source": [
    "torch.pow(a, 2)"
   ]
  },
  {
   "cell_type": "code",
   "execution_count": 16,
   "metadata": {},
   "outputs": [
    {
     "data": {
      "text/plain": [
       "tensor([[4.7551e+00, 3.1550e-05, 6.5839e-01, 6.4719e-01, 3.2000e+00, 1.2566e+00],\n",
       "        [1.9955e+00, 8.9962e-01, 8.3548e+01, 4.1334e+01, 2.1256e+01, 5.4313e+00]])"
      ]
     },
     "execution_count": 16,
     "metadata": {},
     "output_type": "execute_result"
    }
   ],
   "source": [
    "a.pow(2)"
   ]
  },
  {
   "cell_type": "code",
   "execution_count": 17,
   "metadata": {},
   "outputs": [
    {
     "data": {
      "text/plain": [
       "tensor([3.1230, 7.2912])"
      ]
     },
     "execution_count": 17,
     "metadata": {},
     "output_type": "execute_result"
    }
   ],
   "source": [
    "a.sum(dim=1)"
   ]
  },
  {
   "cell_type": "code",
   "execution_count": 18,
   "metadata": {},
   "outputs": [
    {
     "data": {
      "text/plain": [
       "tensor([[0., 0., 0., 0., 0., 0.],\n",
       "        [0., 0., 0., 0., 0., 0.]])"
      ]
     },
     "execution_count": 18,
     "metadata": {},
     "output_type": "execute_result"
    }
   ],
   "source": [
    "# methods with underscores **change** the object\n",
    "a.zero_()"
   ]
  },
  {
   "cell_type": "code",
   "execution_count": 19,
   "metadata": {},
   "outputs": [
    {
     "data": {
      "text/plain": [
       "tensor([[0., 0., 0., 0., 0., 0.],\n",
       "        [0., 0., 0., 0., 0., 0.]])"
      ]
     },
     "execution_count": 19,
     "metadata": {},
     "output_type": "execute_result"
    }
   ],
   "source": [
    "a"
   ]
  },
  {
   "cell_type": "code",
   "execution_count": 20,
   "metadata": {},
   "outputs": [
    {
     "data": {
      "text/plain": [
       "torch.Size([2, 6])"
      ]
     },
     "execution_count": 20,
     "metadata": {},
     "output_type": "execute_result"
    }
   ],
   "source": [
    "b.size()"
   ]
  },
  {
   "cell_type": "code",
   "execution_count": 21,
   "metadata": {},
   "outputs": [
    {
     "data": {
      "text/plain": [
       "torch.Size([2, 6])"
      ]
     },
     "execution_count": 21,
     "metadata": {},
     "output_type": "execute_result"
    }
   ],
   "source": [
    "b.shape"
   ]
  },
  {
   "cell_type": "code",
   "execution_count": 22,
   "metadata": {},
   "outputs": [
    {
     "data": {
      "text/plain": [
       "tensor([[[ 1.6806,  1.9944],\n",
       "         [-0.1886, -2.1955],\n",
       "         [-1.7889,  0.2210]],\n",
       "\n",
       "        [[-0.4126, -0.9485],\n",
       "         [-0.8595, -1.4291],\n",
       "         [ 0.6104, -1.8695]]])"
      ]
     },
     "execution_count": 22,
     "metadata": {},
     "output_type": "execute_result"
    }
   ],
   "source": [
    "# to rearrange array elements we use view\n",
    "b.view(2, 3, -1)"
   ]
  },
  {
   "cell_type": "code",
   "execution_count": 23,
   "metadata": {},
   "outputs": [
    {
     "data": {
      "text/plain": [
       "tensor([ 1.6806,  1.9944, -0.1886, -2.1955, -1.7889,  0.2210, -0.4126, -0.9485,\n",
       "        -0.8595, -1.4291,  0.6104, -1.8695])"
      ]
     },
     "execution_count": 23,
     "metadata": {},
     "output_type": "execute_result"
    }
   ],
   "source": [
    "# flattening an array into 1-d array\n",
    "b.view(-1)"
   ]
  },
  {
   "cell_type": "code",
   "execution_count": 24,
   "metadata": {},
   "outputs": [
    {
     "data": {
      "text/plain": [
       "tensor([[ 1.6806,  1.9944, -0.1886, -2.1955, -1.7889,  0.2210],\n",
       "        [-0.4126, -0.9485, -0.8595, -1.4291,  0.6104, -1.8695]])"
      ]
     },
     "execution_count": 24,
     "metadata": {},
     "output_type": "execute_result"
    }
   ],
   "source": [
    "b.view(b.size(0), -1)"
   ]
  },
  {
   "cell_type": "code",
   "execution_count": 25,
   "metadata": {},
   "outputs": [
    {
     "data": {
      "text/plain": [
       "tensor([[ 1.6806,  1.9944, -0.1886, -2.1955, -1.7889,  0.2210],\n",
       "        [-0.4126, -0.9485, -0.8595, -1.4291,  0.6104, -1.8695]])"
      ]
     },
     "execution_count": 25,
     "metadata": {},
     "output_type": "execute_result"
    }
   ],
   "source": [
    "b"
   ]
  },
  {
   "cell_type": "markdown",
   "metadata": {},
   "source": [
    "## Variable broadcasting"
   ]
  },
  {
   "cell_type": "code",
   "execution_count": 26,
   "metadata": {},
   "outputs": [],
   "source": [
    "b2 = torch.tensor([-100., 100.])"
   ]
  },
  {
   "cell_type": "code",
   "execution_count": 27,
   "metadata": {},
   "outputs": [
    {
     "ename": "RuntimeError",
     "evalue": "The size of tensor a (6) must match the size of tensor b (2) at non-singleton dimension 1",
     "output_type": "error",
     "traceback": [
      "\u001b[0;31m---------------------------------------------------------------------------\u001b[0m",
      "\u001b[0;31mRuntimeError\u001b[0m                              Traceback (most recent call last)",
      "\u001b[0;32m<ipython-input-27-bfbebacd8f28>\u001b[0m in \u001b[0;36m<module>\u001b[0;34m()\u001b[0m\n\u001b[1;32m      1\u001b[0m \u001b[0;31m# error!\u001b[0m\u001b[0;34m\u001b[0m\u001b[0;34m\u001b[0m\u001b[0m\n\u001b[1;32m      2\u001b[0m \u001b[0;31m# to add tensors they need to have the same shape\u001b[0m\u001b[0;34m\u001b[0m\u001b[0;34m\u001b[0m\u001b[0m\n\u001b[0;32m----> 3\u001b[0;31m \u001b[0mb\u001b[0m \u001b[0;34m+\u001b[0m \u001b[0mb2\u001b[0m\u001b[0;34m\u001b[0m\u001b[0m\n\u001b[0m",
      "\u001b[0;31mRuntimeError\u001b[0m: The size of tensor a (6) must match the size of tensor b (2) at non-singleton dimension 1"
     ]
    }
   ],
   "source": [
    "# error!\n",
    "# to add tensors they need to have the same shape\n",
    "b + b2"
   ]
  },
  {
   "cell_type": "code",
   "execution_count": 28,
   "metadata": {},
   "outputs": [
    {
     "data": {
      "text/plain": [
       "torch.Size([2])"
      ]
     },
     "execution_count": 28,
     "metadata": {},
     "output_type": "execute_result"
    }
   ],
   "source": [
    "b2.size()"
   ]
  },
  {
   "cell_type": "code",
   "execution_count": 29,
   "metadata": {},
   "outputs": [
    {
     "data": {
      "text/plain": [
       "tensor([[-100.],\n",
       "        [ 100.]])"
      ]
     },
     "execution_count": 29,
     "metadata": {},
     "output_type": "execute_result"
    }
   ],
   "source": [
    "b2.view(2, 1)"
   ]
  },
  {
   "cell_type": "code",
   "execution_count": 30,
   "metadata": {},
   "outputs": [
    {
     "data": {
      "text/plain": [
       "tensor([[-100.],\n",
       "        [ 100.]])"
      ]
     },
     "execution_count": 30,
     "metadata": {},
     "output_type": "execute_result"
    }
   ],
   "source": [
    "b2.unsqueeze(1)"
   ]
  },
  {
   "cell_type": "code",
   "execution_count": 31,
   "metadata": {},
   "outputs": [
    {
     "data": {
      "text/plain": [
       "tensor([[-100., -100., -100., -100., -100., -100.],\n",
       "        [ 100.,  100.,  100.,  100.,  100.,  100.]])"
      ]
     },
     "execution_count": 31,
     "metadata": {},
     "output_type": "execute_result"
    }
   ],
   "source": [
    "b2.unsqueeze(1).expand_as(b)"
   ]
  },
  {
   "cell_type": "code",
   "execution_count": 32,
   "metadata": {},
   "outputs": [
    {
     "data": {
      "text/plain": [
       "tensor([[ -98.3194,  -98.0056, -100.1886, -102.1955, -101.7889,  -99.7790],\n",
       "        [  99.5874,   99.0515,   99.1405,   98.5709,  100.6105,   98.1305]])"
      ]
     },
     "execution_count": 32,
     "metadata": {},
     "output_type": "execute_result"
    }
   ],
   "source": [
    "b + b2.unsqueeze(1)"
   ]
  },
  {
   "cell_type": "code",
   "execution_count": 33,
   "metadata": {},
   "outputs": [
    {
     "data": {
      "text/plain": [
       "tensor([[ 2.1128,  2.4265,  0.2436, -1.7634, -1.3567,  0.6531],\n",
       "        [ 0.0195, -0.5163, -0.4274, -0.9970,  1.0426, -1.4373]])"
      ]
     },
     "execution_count": 33,
     "metadata": {},
     "output_type": "execute_result"
    }
   ],
   "source": [
    "b - torch.tensor([b.mean()])"
   ]
  },
  {
   "cell_type": "code",
   "execution_count": 34,
   "metadata": {},
   "outputs": [],
   "source": [
    "v = torch.tensor([1., 2., 3.])\n",
    "\n",
    "v1 = v.unsqueeze(0)\n",
    "v2 = v.unsqueeze(1)"
   ]
  },
  {
   "cell_type": "code",
   "execution_count": 35,
   "metadata": {},
   "outputs": [
    {
     "data": {
      "text/plain": [
       "tensor([[1., 2., 3.]])"
      ]
     },
     "execution_count": 35,
     "metadata": {},
     "output_type": "execute_result"
    }
   ],
   "source": [
    "v1"
   ]
  },
  {
   "cell_type": "code",
   "execution_count": 36,
   "metadata": {},
   "outputs": [
    {
     "data": {
      "text/plain": [
       "tensor([[1.],\n",
       "        [2.],\n",
       "        [3.]])"
      ]
     },
     "execution_count": 36,
     "metadata": {},
     "output_type": "execute_result"
    }
   ],
   "source": [
    "v2"
   ]
  },
  {
   "cell_type": "code",
   "execution_count": 37,
   "metadata": {},
   "outputs": [
    {
     "data": {
      "text/plain": [
       "tensor(12.)"
      ]
     },
     "execution_count": 37,
     "metadata": {},
     "output_type": "execute_result"
    }
   ],
   "source": [
    "(v1 - v2).pow(2).sum()"
   ]
  },
  {
   "cell_type": "code",
   "execution_count": 38,
   "metadata": {},
   "outputs": [
    {
     "data": {
      "text/plain": [
       "tensor([[ 0.,  1.,  2.],\n",
       "        [-1.,  0.,  1.],\n",
       "        [-2., -1.,  0.]])"
      ]
     },
     "execution_count": 38,
     "metadata": {},
     "output_type": "execute_result"
    }
   ],
   "source": [
    "v1 - v2"
   ]
  },
  {
   "cell_type": "code",
   "execution_count": 39,
   "metadata": {},
   "outputs": [
    {
     "data": {
      "text/plain": [
       "torch.Size([1, 3])"
      ]
     },
     "execution_count": 39,
     "metadata": {},
     "output_type": "execute_result"
    }
   ],
   "source": [
    "v1.size()"
   ]
  },
  {
   "cell_type": "code",
   "execution_count": 40,
   "metadata": {},
   "outputs": [
    {
     "data": {
      "text/plain": [
       "torch.Size([3, 1])"
      ]
     },
     "execution_count": 40,
     "metadata": {},
     "output_type": "execute_result"
    }
   ],
   "source": [
    "v2.size()"
   ]
  },
  {
   "cell_type": "code",
   "execution_count": 41,
   "metadata": {},
   "outputs": [
    {
     "data": {
      "text/plain": [
       "tensor([[0., 0., 0.]])"
      ]
     },
     "execution_count": 41,
     "metadata": {},
     "output_type": "execute_result"
    }
   ],
   "source": [
    "v1 - v"
   ]
  },
  {
   "cell_type": "markdown",
   "metadata": {},
   "source": [
    "## PyTorch: Autograd"
   ]
  },
  {
   "cell_type": "markdown",
   "metadata": {},
   "source": [
    "Autograd is PyTorch's automatic differentiation tool: It allows us to compute gradients by keeping track of all the operations that have happened to a tensor. In the context of neural networks, we'll interpret these gradient calculations as backpropagating a loss through a network."
   ]
  },
  {
   "cell_type": "markdown",
   "metadata": {},
   "source": [
    "To understand how autograd works, we first need to understand the idea of a __computation graph__. A computation graph is a directed, acyclic graph (DAG) that contains a blueprint of a sequence of operations. For a neural network, these computations consist of matrix multiplications, bias additions, ReLUs, softmaxes, etc. Nodes in this graph consist of the operations themselves, while the edges represent tensors that flow forward along this graph."
   ]
  },
  {
   "cell_type": "markdown",
   "metadata": {},
   "source": [
    "In PyTorch, the creation of this graph is __dynamic__. This means that tensors themselves keep track of their own computational history, and this history is build as the tensors flow through the network; this is unlike TensorFlow, where an external controller keeps track of the entire computation graph. This dynamic creation of the computation graph allows for lots of cool control-flows that are not possible (or at least very difficult) in TensorFlow."
   ]
  },
  {
   "cell_type": "markdown",
   "metadata": {},
   "source": [
    "![alt text](https://raw.githubusercontent.com/pytorch/pytorch/master/docs/source/_static/img/dynamic_graph.gif)\n",
    "<center>_Dynamic computation graphs are cool!_</center>\n",
    "_ _"
   ]
  },
  {
   "cell_type": "markdown",
   "metadata": {},
   "source": [
    "Let's take a look at a simple computation to see what autograd is doing. First, let's create two tensors and add them together. To signal to PyTorch that we want to build a computation graph, we must set the flag requires_grad to be True when creating a tensor."
   ]
  },
  {
   "cell_type": "code",
   "execution_count": 9,
   "metadata": {},
   "outputs": [],
   "source": [
    "a = torch.tensor([1.0, 2.0], requires_grad=True)\n",
    "b = torch.tensor([8.0, 3.0], requires_grad=True)\n",
    "\n",
    "c = a + b"
   ]
  },
  {
   "cell_type": "markdown",
   "metadata": {},
   "source": [
    "Now, since a and b are both part of our computation graph, c will automatically be added:"
   ]
  },
  {
   "cell_type": "code",
   "execution_count": 10,
   "metadata": {},
   "outputs": [
    {
     "data": {
      "text/plain": [
       "True"
      ]
     },
     "execution_count": 10,
     "metadata": {},
     "output_type": "execute_result"
    }
   ],
   "source": [
    "c.requires_grad"
   ]
  },
  {
   "cell_type": "markdown",
   "metadata": {},
   "source": [
    "When we add a tensor to our computation graph in this way, our tensor now has a grad_fn attribute. This attribute tells autograd how this tensor was generated, and what tensor(s) this particular node was created from."
   ]
  },
  {
   "cell_type": "markdown",
   "metadata": {},
   "source": [
    "In the case of c, its grad_fn is of type AddBackward1, PyTorch's notation for a tensor that was created by adding two tensors together:"
   ]
  },
  {
   "cell_type": "code",
   "execution_count": 11,
   "metadata": {},
   "outputs": [
    {
     "data": {
      "text/plain": [
       "<ThAddBackward at 0x1086c0ef0>"
      ]
     },
     "execution_count": 11,
     "metadata": {},
     "output_type": "execute_result"
    }
   ],
   "source": [
    "c.grad_fn"
   ]
  },
  {
   "cell_type": "markdown",
   "metadata": {},
   "source": [
    "Every grad_fn has an attribute called next_functions: This attribute lets the grad_fn pass on its gradient to the tensors that were used to compute it."
   ]
  },
  {
   "cell_type": "code",
   "execution_count": 12,
   "metadata": {},
   "outputs": [
    {
     "data": {
      "text/plain": [
       "((<AccumulateGrad at 0x1086c00f0>, 0), (<AccumulateGrad at 0x114789668>, 0))"
      ]
     },
     "execution_count": 12,
     "metadata": {},
     "output_type": "execute_result"
    }
   ],
   "source": [
    "c.grad_fn.next_functions"
   ]
  },
  {
   "cell_type": "markdown",
   "metadata": {},
   "source": [
    "If we extract the tensor values corresponding to each of these functions, we can see a and b! "
   ]
  },
  {
   "cell_type": "code",
   "execution_count": 13,
   "metadata": {},
   "outputs": [
    {
     "name": "stdout",
     "output_type": "stream",
     "text": [
      "tensor([1., 2.], requires_grad=True)\n",
      "tensor([8., 3.], requires_grad=True)\n"
     ]
    }
   ],
   "source": [
    "print(c.grad_fn.next_functions[0][0].variable)\n",
    "print(c.grad_fn.next_functions[1][0].variable)"
   ]
  },
  {
   "cell_type": "markdown",
   "metadata": {},
   "source": [
    "In this way, autograd allows a tensor to record its entire computational history, implicitly creating a computational graph -- All dynamically and on-the-fly!"
   ]
  },
  {
   "cell_type": "markdown",
   "metadata": {},
   "source": [
    "## PyTorch: Modules and Parameters"
   ]
  },
  {
   "cell_type": "markdown",
   "metadata": {},
   "source": [
    "In PyTorch, collections of operations are encapsulated as __modules__. One way to visualize a module is to take a section of a computational graph and collapse it into a single node. Not only are modules useful for encapsulation, they have the ability to keep track of tensors that are contained inside of them: To do this, simply wrap a tensor with the class torch.nn.Parameter."
   ]
  },
  {
   "cell_type": "markdown",
   "metadata": {},
   "source": [
    "To define a module, we must subclass the type torch.nn.Module. In addition, we must define a _forward_ method that tells PyTorch how to traverse through a module."
   ]
  },
  {
   "cell_type": "markdown",
   "metadata": {},
   "source": [
    "For example, let's define a logistic regression module. This module will contain two parameters: The weight vector and the bias. Calling the _forward_ method will output a probability between zero and one."
   ]
  },
  {
   "cell_type": "code",
   "execution_count": 14,
   "metadata": {},
   "outputs": [],
   "source": [
    "class LogisticRegression(torch.nn.Module):\n",
    "    \n",
    "    def __init__(self):\n",
    "        \n",
    "        super().__init__()\n",
    "        self.weight = torch.nn.Parameter(torch.randn(10))\n",
    "        self.bias = torch.nn.Parameter(torch.randn(1))\n",
    "        self.sigmoid = torch.nn.Sigmoid()\n",
    "        \n",
    "    def forward(self, vector):\n",
    "        return self.sigmoid(torch.dot(vector, self.weight) + self.bias)\n",
    "        "
   ]
  },
  {
   "cell_type": "markdown",
   "metadata": {},
   "source": [
    "Note that we have fixed the dimension of our weight to be 10, so our module will only accept 10-dimensional data."
   ]
  },
  {
   "cell_type": "markdown",
   "metadata": {},
   "source": [
    "We can now create a random vector and pass it through the module:"
   ]
  },
  {
   "cell_type": "code",
   "execution_count": 15,
   "metadata": {},
   "outputs": [],
   "source": [
    "module = LogisticRegression()\n",
    "vector = torch.randn(10)\n",
    "output = module(vector)"
   ]
  },
  {
   "cell_type": "code",
   "execution_count": 16,
   "metadata": {},
   "outputs": [
    {
     "data": {
      "text/plain": [
       "tensor([0.9871], grad_fn=<SigmoidBackward>)"
      ]
     },
     "execution_count": 16,
     "metadata": {},
     "output_type": "execute_result"
    }
   ],
   "source": [
    "output"
   ]
  },
  {
   "cell_type": "markdown",
   "metadata": {},
   "source": [
    "Now, say that our loss function is mean-squared-error and our target value is 1. We can then write our loss as:"
   ]
  },
  {
   "cell_type": "code",
   "execution_count": 17,
   "metadata": {},
   "outputs": [],
   "source": [
    "loss = (output - 1) ** 2"
   ]
  },
  {
   "cell_type": "code",
   "execution_count": 18,
   "metadata": {},
   "outputs": [
    {
     "data": {
      "text/plain": [
       "tensor([0.0002], grad_fn=<PowBackward0>)"
      ]
     },
     "execution_count": 18,
     "metadata": {},
     "output_type": "execute_result"
    }
   ],
   "source": [
    "loss"
   ]
  },
  {
   "cell_type": "markdown",
   "metadata": {},
   "source": [
    "To minimize this loss, we just call loss.backward(), and all the gradients will be computed for us! Note that wrapping a tensor as a Parameter will automatically set requires_grad = True."
   ]
  },
  {
   "cell_type": "code",
   "execution_count": 19,
   "metadata": {},
   "outputs": [],
   "source": [
    "loss.backward()"
   ]
  },
  {
   "cell_type": "code",
   "execution_count": 20,
   "metadata": {},
   "outputs": [
    {
     "name": "stdout",
     "output_type": "stream",
     "text": [
      "tensor([-0.0001, -0.0002,  0.0006, -0.0006,  0.0004, -0.0004,  0.0002,  0.0013,\n",
      "        -0.0001,  0.0000])\n",
      "tensor([-0.0003])\n"
     ]
    }
   ],
   "source": [
    "print(module.weight.grad)\n",
    "print(module.bias.grad)"
   ]
  },
  {
   "cell_type": "markdown",
   "metadata": {},
   "source": [
    "## Fully-connected Networks for Image Classification"
   ]
  },
  {
   "cell_type": "code",
   "execution_count": 36,
   "metadata": {},
   "outputs": [],
   "source": [
    "import torchvision.datasets as dset\n",
    "import torchvision.transforms as transforms\n",
    "\n",
    "class NeuralNetwork(torch.nn.Module):\n",
    "    \n",
    "    def __init__(self):    \n",
    "        super().__init__()\n",
    "        self.weight1 = torch.nn.Parameter(torch.randn(784, 500))\n",
    "        self.bias1 = torch.nn.Parameter(torch.randn(500))\n",
    "        self.weight2 = torch.nn.Parameter(torch.randn(500, 300))\n",
    "        self.bias2 = torch.nn.Parameter(torch.randn(300))\n",
    "        self.weight3 = torch.nn.Parameter(torch.randn(300, 10))\n",
    "        self.bias3 = torch.nn.Parameter(torch.randn(10))\n",
    "        self.sigmoid = torch.nn.Sigmoid()\n",
    "        self.relu = torch.nn.ReLU()\n",
    "        self.softmax = torch.nn.Softmax()\n",
    "    \n",
    "    def forward(self, vector):\n",
    "        layer1 = self.relu(torch.matmul(vector, self.weight1) + self.bias1)\n",
    "        layer2 = self.relu(torch.matmul(layer1, self.weight2) + self.bias2)\n",
    "        layer3 = self.softmax(torch.matmul(layer2, self.weight3) + self.bias3)\n",
    "        return layer3"
   ]
  },
  {
   "cell_type": "markdown",
   "metadata": {},
   "source": [
    "# Gradient descent\n",
    "\n",
    "> X: I want to learn Deep Learning.  \n",
    "> Me: Do you know what is gradient?  \n",
    "> X: Yes  \n",
    "> Me: Then, it an easy way downhill!\n",
    "\n",
    "Memic content:\n",
    "\n",
    "* https://twitter.com/jebbery/status/995491957559439360\n",
    "* https://twitter.com/smaine/status/994723834434502658\n",
    "* https://towardsdatascience.com/gradient-descent-algorithm-and-its-variants-10f652806a3\n"
   ]
  },
  {
   "cell_type": "code",
   "execution_count": 7,
   "metadata": {},
   "outputs": [],
   "source": [
    "import torch\n",
    "import numpy as np\n",
    "import matplotlib.pyplot as plt"
   ]
  },
  {
   "cell_type": "markdown",
   "metadata": {},
   "source": [
    "$$y = x^2$$\n",
    "\n",
    "$$ \\frac{\\partial y}{\\partial x} = 2 x$$\n",
    "\n",
    "For $x^2$ we can calculate it:\n",
    "\n",
    "$$\\lim_{x \\to 0} \\frac{y(x + h) - y(x)} {h}$$\n",
    "\n",
    "Limit is a mathematical tool for \n",
    "\n",
    "$$\\frac{x^2 + 2 x h + h^2 - x^2}{h} = 2 x + h $$"
   ]
  },
  {
   "cell_type": "code",
   "execution_count": 8,
   "metadata": {},
   "outputs": [],
   "source": [
    "X = np.linspace(-4, 4, num=100)\n",
    "Y = X**2"
   ]
  },
  {
   "cell_type": "code",
   "execution_count": 9,
   "metadata": {},
   "outputs": [
    {
     "data": {
      "image/png": "[encoded data removed]",
      "text/plain": [
       "<Figure size 504x288 with 2 Axes>"
      ]
     },
     "metadata": {
      "needs_background": "light"
     },
     "output_type": "display_data"
    }
   ],
   "source": [
    "fig, (ax0, ax1) = plt.subplots(nrows=2, ncols=1,\n",
    "                               sharex=True, figsize=(7, 4))\n",
    "\n",
    "ax0.plot(X, Y)\n",
    "ax0.set(title='', xlabel='', ylabel='y')\n",
    "\n",
    "ax1.plot(X, 2 * X)\n",
    "ax1.set(title='', xlabel='x', ylabel='dy/dx')\n",
    "\n",
    "fig.tight_layout()"
   ]
  },
  {
   "cell_type": "markdown",
   "metadata": {},
   "source": [
    "## Numerical derivative in NumPy"
   ]
  },
  {
   "cell_type": "code",
   "execution_count": 10,
   "metadata": {},
   "outputs": [
    {
     "data": {
      "text/plain": [
       "[<matplotlib.lines.Line2D at 0x7f770526fb90>]"
      ]
     },
     "execution_count": 10,
     "metadata": {},
     "output_type": "execute_result"
    },
    {
     "data": {
      "image/png": "[encoded data removed]",
      "text/plain": [
       "<Figure size 432x288 with 1 Axes>"
      ]
     },
     "metadata": {
      "needs_background": "light"
     },
     "output_type": "display_data"
    }
   ],
   "source": [
    "# we can go it automatically\n",
    "plt.plot((X[1:] + X[:-1]) / 2, np.diff(Y) / np.diff(X))"
   ]
  },
  {
   "cell_type": "markdown",
   "metadata": {},
   "source": [
    "## Symbolic derivative in PyTorch"
   ]
  },
  {
   "cell_type": "code",
   "execution_count": 11,
   "metadata": {},
   "outputs": [
    {
     "data": {
      "text/plain": [
       "tensor(20.)"
      ]
     },
     "execution_count": 11,
     "metadata": {},
     "output_type": "execute_result"
    }
   ],
   "source": [
    "x = torch.tensor(10., requires_grad=True)\n",
    "y = x.pow(2)\n",
    "y.backward()\n",
    "\n",
    "# y\n",
    "y\n",
    "\n",
    "# dy / dx\n",
    "x.grad"
   ]
  },
  {
   "cell_type": "markdown",
   "metadata": {},
   "source": [
    "## Gradient descent"
   ]
  },
  {
   "cell_type": "code",
   "execution_count": 12,
   "metadata": {},
   "outputs": [
    {
     "data": {
      "text/plain": [
       "[4.0,\n",
       " 2.4000000953674316,\n",
       " 1.440000057220459,\n",
       " 0.8640000224113464,\n",
       " 0.5184000134468079,\n",
       " 0.3110399842262268,\n",
       " 0.18662399053573608,\n",
       " 0.11197439581155777,\n",
       " 0.06718464195728302,\n",
       " 0.04031078517436981,\n",
       " 0.024186471477150917]"
      ]
     },
     "execution_count": 12,
     "metadata": {},
     "output_type": "execute_result"
    }
   ],
   "source": [
    "lr = 0.2\n",
    "x0 = 4.\n",
    "\n",
    "xs = [x0]\n",
    "x = torch.tensor(x0, requires_grad=True)\n",
    "\n",
    "for i in range(10):\n",
    "    y = x.pow(2)\n",
    "    y.backward()\n",
    "    x.data.add_(- lr * x.grad.data)\n",
    "    x.grad.data.zero_()\n",
    "    xs.append(x.item())\n",
    "\n",
    "xs"
   ]
  },
  {
   "cell_type": "code",
   "execution_count": 13,
   "metadata": {},
   "outputs": [
    {
     "data": {
      "image/png": "[encoded data removed]",
      "text/plain": [
       "<Figure size 504x288 with 1 Axes>"
      ]
     },
     "metadata": {
      "needs_background": "light"
     },
     "output_type": "display_data"
    }
   ],
   "source": [
    "points_X = np.array(xs)\n",
    "points_Y = points_X**2\n",
    "\n",
    "fig, ax = plt.subplots(nrows=1, ncols=1, figsize=(7, 4))\n",
    "ax.plot(X, Y)\n",
    "ax.plot(points_X, points_Y, '-')\n",
    "ax.plot(points_X, points_Y, 'r.')\n",
    "ax.set(title='Gradient descent', xlabel='x', ylabel='y');"
   ]
  },
  {
   "cell_type": "markdown",
   "metadata": {},
   "source": [
    "## Exercise\n",
    "\n",
    "Try other learning rates, e.g.:\n",
    "\n",
    "* 0.1\n",
    "* 0.5\n",
    "* 0.75\n",
    "* 1.\n",
    "* 1.5\n",
    "* -0.5"
   ]
  },
  {
   "cell_type": "markdown",
   "metadata": {},
   "source": [
    "## Slightly more complicated functions"
   ]
  },
  {
   "cell_type": "code",
   "execution_count": 14,
   "metadata": {},
   "outputs": [],
   "source": [
    "def f(x):\n",
    "    return x - 4 * x**2 + 0.25 * x**4\n",
    "\n",
    "def df(x):\n",
    "    return 1 - 8 * x + x**3"
   ]
  },
  {
   "cell_type": "code",
   "execution_count": 15,
   "metadata": {},
   "outputs": [
    {
     "data": {
      "image/png": "[encoded data removed]",
      "text/plain": [
       "<Figure size 504x288 with 2 Axes>"
      ]
     },
     "metadata": {
      "needs_background": "light"
     },
     "output_type": "display_data"
    }
   ],
   "source": [
    "X = np.linspace(-4, 4, num=100)\n",
    "\n",
    "fig, (ax0, ax1) = plt.subplots(nrows=2, ncols=1,\n",
    "                               sharex=True, figsize=(7, 4))\n",
    "\n",
    "ax0.plot(X, f(X))\n",
    "ax0.set(title='', xlabel='', ylabel='y')\n",
    "\n",
    "ax1.plot(X, df(X))\n",
    "ax1.hlines(y=0, xmin=-4, xmax=4, linestyles='dashed')\n",
    "ax1.set(title='', xlabel='x', ylabel='dy/dx')\n",
    "\n",
    "fig.tight_layout()"
   ]
  },
  {
   "cell_type": "code",
   "execution_count": 16,
   "metadata": {},
   "outputs": [
    {
     "data": {
      "text/plain": [
       "[4.0,\n",
       " 0.7000000476837158,\n",
       " 1.1257001161575317,\n",
       " 1.7836114168167114,\n",
       " 2.5430855751037598,\n",
       " 2.8328683376312256,\n",
       " 2.725745677947998,\n",
       " 2.7811977863311768,\n",
       " 2.754882574081421,\n",
       " 2.7680041790008545,\n",
       " 2.7616050243377686]"
      ]
     },
     "execution_count": 16,
     "metadata": {},
     "output_type": "execute_result"
    }
   ],
   "source": [
    "lr = 0.1\n",
    "x0 = 4.\n",
    "\n",
    "xs = [x0]\n",
    "x = torch.tensor(x0, requires_grad=True)\n",
    "\n",
    "for i in range(10):\n",
    "    y = f(x)\n",
    "    y.backward()\n",
    "    x.data.add_(- lr * x.grad.data)\n",
    "    x.grad.data.zero_()\n",
    "    xs.append(x.item())\n",
    "\n",
    "xs"
   ]
  },
  {
   "cell_type": "code",
   "execution_count": 17,
   "metadata": {},
   "outputs": [
    {
     "data": {
      "image/png": "[encoded data removed]",
      "text/plain": [
       "<Figure size 504x288 with 1 Axes>"
      ]
     },
     "metadata": {
      "needs_background": "light"
     },
     "output_type": "display_data"
    }
   ],
   "source": [
    "points_X = np.array(xs)\n",
    "points_Y = f(points_X)\n",
    "\n",
    "fig, ax = plt.subplots(nrows=1, ncols=1, figsize=(7, 4))\n",
    "ax.plot(X, f(X))\n",
    "ax.plot(points_X, points_Y, '-')\n",
    "ax.plot(points_X, points_Y, 'r.')\n",
    "ax.set(title='Gradient descent', xlabel='x', ylabel='y');"
   ]
  },
  {
   "cell_type": "markdown",
   "metadata": {},
   "source": [
    "## Gradient in 2d\n",
    "\n",
    "Gradients make sense for more dimensions. For mountains, gradient would be a vector directed along to the biggest slope.\n",
    "\n",
    "\n",
    "\n",
    "For example, let's have a function:\n",
    "\n",
    "$$y = g(x_1, x_2) = x_1^2 + \\sin(x_2)$$\n",
    "\n",
    "In this case, gradient is a vector. To calculate gradient we use [partial derviative](https://en.wikipedia.org/wiki/Partial_derivative).\n",
    "\n",
    "$$\\nabla g = \\left( \\frac{\\partial g}{\\partial x_1}, \\frac{\\partial g}{\\partial x_2} \\right) = \\left( 2 x_1, \\cos(x_2) \\right) $$\n",
    "\n",
    "\n",
    "Gradient symbol:\n",
    "\n",
    "$$\\nabla = \\left( \\frac{\\partial }{\\partial x_1}, \\frac{\\partial }{\\partial x_2} \\right)$$"
   ]
  },
  {
   "cell_type": "code",
   "execution_count": 18,
   "metadata": {},
   "outputs": [],
   "source": [
    "X0_ = np.linspace(-4, 4, num=100)\n",
    "X1_ = np.linspace(-4, 4, num=100)\n",
    "X0, X1 = np.meshgrid(X0_, X1_)"
   ]
  },
  {
   "cell_type": "code",
   "execution_count": 19,
   "metadata": {},
   "outputs": [],
   "source": [
    "# purely technically, so that we have the same code\n",
    "# for NumPy and PyTorch\n",
    "\n",
    "def sin(x):\n",
    "    if type(x) == torch.Tensor:\n",
    "        return x.sin()\n",
    "    else:\n",
    "        return np.sin(x)\n",
    "    \n",
    "def cos(x):\n",
    "    if type(x) == torch.Tensor:\n",
    "        return x.cos()\n",
    "    else:\n",
    "        return np.cos(x)\n",
    "\n",
    "# now the functions and their gradients\n",
    "# (calculated by hand)\n",
    "    \n",
    "def g(x0, x1):\n",
    "    return 0.25 * x0**2 + sin(x1)\n",
    "\n",
    "def dg_dx0(x0, x1):\n",
    "    return 0.5 * x0\n",
    "\n",
    "def dg_dx1(x0, x1):\n",
    "    return cos(x1)"
   ]
  },
  {
   "cell_type": "markdown",
   "metadata": {},
   "source": [
    "Or, let's draw a [contour plot](https://en.wikipedia.org/wiki/Contour_line), well known from topographic maps."
   ]
  },
  {
   "cell_type": "code",
   "execution_count": 20,
   "metadata": {},
   "outputs": [
    {
     "data": {
      "image/png": "[encoded data removed]",
      "text/plain": [
       "<Figure size 432x288 with 1 Axes>"
      ]
     },
     "metadata": {
      "needs_background": "light"
     },
     "output_type": "display_data"
    }
   ],
   "source": [
    "cs = plt.contour(X0, X1, g(X0, X1), cmap='coolwarm')\n",
    "plt.clabel(cs, inline=1, fontsize=10)\n",
    "plt.title(\"g\")\n",
    "plt.xlabel(\"x0\")\n",
    "plt.ylabel(\"x1\");"
   ]
  },
  {
   "cell_type": "code",
   "execution_count": 21,
   "metadata": {},
   "outputs": [
    {
     "data": {
      "image/png": "[encoded data removed]",
      "text/plain": [
       "<Figure size 432x288 with 1 Axes>"
      ]
     },
     "metadata": {
      "needs_background": "light"
     },
     "output_type": "display_data"
    }
   ],
   "source": [
    "cs = plt.contour(X0, X1, dg_dx0(X0, X1), cmap='coolwarm')\n",
    "plt.clabel(cs, inline=1, fontsize=10)\n",
    "plt.title(\"dg/dx0\")\n",
    "plt.xlabel(\"x0\")\n",
    "plt.ylabel(\"x1\");"
   ]
  },
  {
   "cell_type": "code",
   "execution_count": 22,
   "metadata": {},
   "outputs": [
    {
     "data": {
      "image/png": "[encoded data removed]",
      "text/plain": [
       "<Figure size 432x288 with 1 Axes>"
      ]
     },
     "metadata": {
      "needs_background": "light"
     },
     "output_type": "display_data"
    }
   ],
   "source": [
    "cs = plt.contour(X0, X1, dg_dx1(X0, X1), cmap='coolwarm')\n",
    "plt.clabel(cs, inline=1, fontsize=10)\n",
    "plt.title(\"dg/dx1\")\n",
    "plt.xlabel(\"x0\")\n",
    "plt.ylabel(\"x1\");"
   ]
  },
  {
   "cell_type": "code",
   "execution_count": 23,
   "metadata": {},
   "outputs": [
    {
     "data": {
      "image/png": "[encoded data removed]",
      "text/plain": [
       "<Figure size 432x288 with 1 Axes>"
      ]
     },
     "metadata": {
      "needs_background": "light"
     },
     "output_type": "display_data"
    }
   ],
   "source": [
    "X0_less = X0[::5, ::5]\n",
    "X1_less = X1[::5, ::5]\n",
    "\n",
    "fig1, ax1 = plt.subplots()\n",
    "ax1.set_title(r'$\\nabla g$')\n",
    "Q = ax1.quiver(X0_less, X1_less,\n",
    "               dg_dx0(X0_less, X1_less), dg_dx1(X0_less, X1_less),\n",
    "               units='width')"
   ]
  },
  {
   "cell_type": "markdown",
   "metadata": {},
   "source": [
    "\n",
    "## Gradient descent in 2d"
   ]
  },
  {
   "cell_type": "code",
   "execution_count": 24,
   "metadata": {},
   "outputs": [],
   "source": [
    "lr = 0.25\n",
    "v = [-3.5, 1.0]\n",
    "\n",
    "xs = [v[0]]\n",
    "ys = [v[1]]\n",
    "v = torch.tensor(v, requires_grad=True)\n",
    "\n",
    "for i in range(20):\n",
    "    y = g(v[0], v[1])\n",
    "    y.backward()\n",
    "    v.data.add_(- lr * v.grad.data)\n",
    "    v.grad.data.zero_()\n",
    "    \n",
    "    xs.append(v[0].item())\n",
    "    ys.append(v[1].item())"
   ]
  },
  {
   "cell_type": "code",
   "execution_count": 25,
   "metadata": {},
   "outputs": [
    {
     "data": {
      "text/plain": [
       "[<matplotlib.lines.Line2D at 0x7f76f15d0d90>]"
      ]
     },
     "execution_count": 25,
     "metadata": {},
     "output_type": "execute_result"
    },
    {
     "data": {
      "image/png": "[encoded data removed]",
      "text/plain": [
       "<Figure size 432x288 with 1 Axes>"
      ]
     },
     "metadata": {
      "needs_background": "light"
     },
     "output_type": "display_data"
    }
   ],
   "source": [
    "cs = plt.contour(X0, X1, g(X0, X1), cmap='coolwarm')\n",
    "plt.clabel(cs, inline=1, fontsize=10)\n",
    "plt.plot(xs, ys, '-')\n",
    "plt.plot(xs, ys, 'o')"
   ]
  },
  {
   "cell_type": "markdown",
   "metadata": {},
   "source": [
    "#  Linear regression\n",
    "\n",
    "[Linear regression](https://en.wikipedia.org/wiki/Linear_regression) is one of the most common predictive models. In plain words, we fit a straight line that fits to the data. Mathematically speaking, we use linear combination of input variables to predict the output variable.\n",
    "\n",
    "$$y = a_1 x_1 + \\ldots + a_n x_n + b$$\n",
    "\n",
    "Before moving any further, try to experience it viscerally with [Ordinary Least Squares Regression\n",
    "Explained Visually - Visually Explained](http://setosa.io/ev/ordinary-least-squares-regression/):\n",
    "\n",
    "![http://setosa.io/ev/ordinary-least-squares-regression/](imgs/linreg_setosa.png)\n",
    "\n",
    "However, it occurs that lots of dependencies in the actual world can be described just by fitting a linear equation to the observed data. That's what we are going to do now!\n",
    "\n",
    "In Python we typically use [LinearRegression from scikit-learn](https://scikit-learn.org/stable/modules/generated/sklearn.linear_model.LinearRegression.html). Here we use PyTorch to show everything step-by-step. Moreover, linear regression is a building block of any regression with deep learning - so it is good to understand it well!"
   ]
  },
  {
   "cell_type": "code",
   "execution_count": 2,
   "metadata": {},
   "outputs": [
    {
     "name": "stdout",
     "output_type": "stream",
     "text": [
      "Requirement already satisfied: torch in /home/yam/anaconda2/lib/python2.7/site-packages\n",
      "\u001b[33mYou are using pip version 9.0.1, however version 19.1.1 is available.\n",
      "You should consider upgrading via the 'pip install --upgrade pip' command.\u001b[0m\n",
      "Collecting livelossplot\n",
      "  Downloading https://files.pythonhosted.org/packages/0a/b7/bac0b68f69f1131a289b6e7b82546e7fd62191df49aa8a5cfe1d5b29e00f/livelossplot-0.4.0.tar.gz\n",
      "Requirement already satisfied: matplotlib in /home/yam/anaconda2/lib/python2.7/site-packages (from livelossplot)\n",
      "Requirement already satisfied: notebook in /home/yam/anaconda2/lib/python2.7/site-packages (from livelossplot)\n",
      "Requirement already satisfied: numpy>=1.7.1 in /home/yam/anaconda2/lib/python2.7/site-packages (from matplotlib->livelossplot)\n",
      "Requirement already satisfied: six>=1.10 in /home/yam/anaconda2/lib/python2.7/site-packages (from matplotlib->livelossplot)\n",
      "Requirement already satisfied: python-dateutil>=2.1 in /home/yam/anaconda2/lib/python2.7/site-packages (from matplotlib->livelossplot)\n",
      "Requirement already satisfied: backports.functools_lru_cache in /home/yam/anaconda2/lib/python2.7/site-packages (from matplotlib->livelossplot)\n",
      "Requirement already satisfied: subprocess32 in /home/yam/anaconda2/lib/python2.7/site-packages (from matplotlib->livelossplot)\n",
      "Requirement already satisfied: pytz in /home/yam/anaconda2/lib/python2.7/site-packages (from matplotlib->livelossplot)\n",
      "Requirement already satisfied: cycler>=0.10 in /home/yam/anaconda2/lib/python2.7/site-packages (from matplotlib->livelossplot)\n",
      "Requirement already satisfied: pyparsing!=2.0.4,!=2.1.2,!=2.1.6,>=2.0.1 in /home/yam/anaconda2/lib/python2.7/site-packages (from matplotlib->livelossplot)\n",
      "Requirement already satisfied: jinja2 in /home/yam/anaconda2/lib/python2.7/site-packages (from notebook->livelossplot)\n",
      "Requirement already satisfied: tornado>=4 in /home/yam/anaconda2/lib/python2.7/site-packages (from notebook->livelossplot)\n",
      "Requirement already satisfied: ipython_genutils in /home/yam/anaconda2/lib/python2.7/site-packages (from notebook->livelossplot)\n",
      "Requirement already satisfied: traitlets>=4.2.1 in /home/yam/anaconda2/lib/python2.7/site-packages (from notebook->livelossplot)\n",
      "Requirement already satisfied: jupyter_core>=4.4.0 in /home/yam/anaconda2/lib/python2.7/site-packages (from notebook->livelossplot)\n",
      "Requirement already satisfied: jupyter_client>=5.2.0 in /home/yam/anaconda2/lib/python2.7/site-packages (from notebook->livelossplot)\n",
      "Requirement already satisfied: nbformat in /home/yam/anaconda2/lib/python2.7/site-packages (from notebook->livelossplot)\n",
      "Requirement already satisfied: nbconvert in /home/yam/anaconda2/lib/python2.7/site-packages (from notebook->livelossplot)\n",
      "Requirement already satisfied: ipykernel in /home/yam/anaconda2/lib/python2.7/site-packages (from notebook->livelossplot)\n",
      "Requirement already satisfied: Send2Trash in /home/yam/anaconda2/lib/python2.7/site-packages (from notebook->livelossplot)\n",
      "Requirement already satisfied: terminado>=0.8.1 in /home/yam/anaconda2/lib/python2.7/site-packages (from notebook->livelossplot)\n",
      "Requirement already satisfied: MarkupSafe>=0.23 in /home/yam/anaconda2/lib/python2.7/site-packages (from jinja2->notebook->livelossplot)\n",
      "Requirement already satisfied: singledispatch in /home/yam/anaconda2/lib/python2.7/site-packages (from tornado>=4->notebook->livelossplot)\n",
      "Requirement already satisfied: certifi in /home/yam/anaconda2/lib/python2.7/site-packages (from tornado>=4->notebook->livelossplot)\n",
      "Requirement already satisfied: backports_abc>=0.4 in /home/yam/anaconda2/lib/python2.7/site-packages (from tornado>=4->notebook->livelossplot)\n",
      "Requirement already satisfied: decorator in /home/yam/anaconda2/lib/python2.7/site-packages (from traitlets>=4.2.1->notebook->livelossplot)\n",
      "Requirement already satisfied: enum34 in /home/yam/anaconda2/lib/python2.7/site-packages (from traitlets>=4.2.1->notebook->livelossplot)\n",
      "Requirement already satisfied: pyzmq>=13 in /home/yam/anaconda2/lib/python2.7/site-packages (from jupyter_client>=5.2.0->notebook->livelossplot)\n",
      "Requirement already satisfied: jsonschema!=2.5.0,>=2.4 in /home/yam/anaconda2/lib/python2.7/site-packages (from nbformat->notebook->livelossplot)\n",
      "Requirement already satisfied: mistune>=0.7.4 in /home/yam/anaconda2/lib/python2.7/site-packages (from nbconvert->notebook->livelossplot)\n",
      "Requirement already satisfied: pygments in /home/yam/anaconda2/lib/python2.7/site-packages (from nbconvert->notebook->livelossplot)\n",
      "Requirement already satisfied: entrypoints>=0.2.2 in /home/yam/anaconda2/lib/python2.7/site-packages (from nbconvert->notebook->livelossplot)\n",
      "Requirement already satisfied: bleach in /home/yam/anaconda2/lib/python2.7/site-packages (from nbconvert->notebook->livelossplot)\n",
      "Requirement already satisfied: pandocfilters>=1.4.1 in /home/yam/anaconda2/lib/python2.7/site-packages (from nbconvert->notebook->livelossplot)\n",
      "Requirement already satisfied: testpath in /home/yam/anaconda2/lib/python2.7/site-packages (from nbconvert->notebook->livelossplot)\n",
      "Requirement already satisfied: ipython>=4.0.0 in /home/yam/anaconda2/lib/python2.7/site-packages (from ipykernel->notebook->livelossplot)\n",
      "Requirement already satisfied: functools32 in /home/yam/anaconda2/lib/python2.7/site-packages (from jsonschema!=2.5.0,>=2.4->nbformat->notebook->livelossplot)\n",
      "Requirement already satisfied: html5lib!=1.0b1,!=1.0b2,!=1.0b3,!=1.0b4,!=1.0b5,!=1.0b6,!=1.0b7,!=1.0b8,>=0.99999999pre in /home/yam/anaconda2/lib/python2.7/site-packages (from bleach->nbconvert->notebook->livelossplot)\n",
      "Requirement already satisfied: pathlib2; python_version == \"2.7\" or python_version == \"3.3\" in /home/yam/anaconda2/lib/python2.7/site-packages (from ipython>=4.0.0->ipykernel->notebook->livelossplot)\n",
      "Requirement already satisfied: backports.shutil-get-terminal-size; python_version == \"2.7\" in /home/yam/anaconda2/lib/python2.7/site-packages (from ipython>=4.0.0->ipykernel->notebook->livelossplot)\n",
      "Requirement already satisfied: simplegeneric>0.8 in /home/yam/anaconda2/lib/python2.7/site-packages (from ipython>=4.0.0->ipykernel->notebook->livelossplot)\n",
      "Requirement already satisfied: pexpect; sys_platform != \"win32\" in /home/yam/anaconda2/lib/python2.7/site-packages (from ipython>=4.0.0->ipykernel->notebook->livelossplot)\n",
      "Requirement already satisfied: setuptools>=18.5 in /home/yam/anaconda2/lib/python2.7/site-packages (from ipython>=4.0.0->ipykernel->notebook->livelossplot)\n",
      "Requirement already satisfied: prompt-toolkit<2.0.0,>=1.0.4 in /home/yam/anaconda2/lib/python2.7/site-packages (from ipython>=4.0.0->ipykernel->notebook->livelossplot)\n",
      "Requirement already satisfied: pickleshare in /home/yam/anaconda2/lib/python2.7/site-packages (from ipython>=4.0.0->ipykernel->notebook->livelossplot)\n",
      "Requirement already satisfied: webencodings in /home/yam/anaconda2/lib/python2.7/site-packages (from html5lib!=1.0b1,!=1.0b2,!=1.0b3,!=1.0b4,!=1.0b5,!=1.0b6,!=1.0b7,!=1.0b8,>=0.99999999pre->bleach->nbconvert->notebook->livelossplot)\n",
      "Requirement already satisfied: scandir in /home/yam/anaconda2/lib/python2.7/site-packages (from pathlib2; python_version == \"2.7\" or python_version == \"3.3\"->ipython>=4.0.0->ipykernel->notebook->livelossplot)\n",
      "Requirement already satisfied: wcwidth in /home/yam/anaconda2/lib/python2.7/site-packages (from prompt-toolkit<2.0.0,>=1.0.4->ipython>=4.0.0->ipykernel->notebook->livelossplot)\n",
      "Building wheels for collected packages: livelossplot\n",
      "  Running setup.py bdist_wheel for livelossplot ... \u001b[?25ldone\n",
      "\u001b[?25h  Stored in directory: /home/yam/.cache/pip/wheels/77/d2/35/1231a687e00d5a8da9c854fe22eb90d7dd1a15bee9c89d3c9e\n",
      "Successfully built livelossplot\n",
      "Installing collected packages: livelossplot\n",
      "Successfully installed livelossplot-0.4.0\n",
      "\u001b[33mYou are using pip version 9.0.1, however version 19.1.1 is available.\n",
      "You should consider upgrading via the 'pip install --upgrade pip' command.\u001b[0m\n"
     ]
    }
   ],
   "source": [
    "!pip install torch\n",
    "!pip install livelossplot"
   ]
  },
  {
   "cell_type": "code",
   "execution_count": 3,
   "metadata": {},
   "outputs": [],
   "source": [
    "import numpy as np\n",
    "import matplotlib.pyplot as plt\n",
    "import pandas as pd\n",
    "\n",
    "import torch\n",
    "import torch.nn as nn\n",
    "import torch.nn.functional as F\n",
    "\n",
    "from livelossplot import PlotLosses\n",
    "from ipywidgets import interact, fixed"
   ]
  },
  {
   "cell_type": "markdown",
   "metadata": {},
   "source": [
    "### Data\n",
    "\n",
    "Have you ever wondered what is the relation between brain and body weights among various animal species?\n",
    "\n",
    "Let's try a [Brain to Body Weight Dataset](http://wiki.stat.ucla.edu/socr/index.php/SOCR_Data_Brain2BodyWeight)!\n",
    "\n",
    "> These data represent the relation between weights of the body and brain of various species. It may be used to discuss bivariate exploratory and quantitative data analyses in the case of allometric relationships. Brain-to-body weight ratio is assumed to be related to species intelligence. The encephalization quotient is a more complex measurement that takes into account allometric effects of widely divergent body sizes across several taxa. The brain-to-body mass ratio is a simpler measure of encephalization within species."
   ]
  },
  {
   "cell_type": "code",
   "execution_count": 27,
   "metadata": {},
   "outputs": [
    {
     "data": {
      "text/html": [
       "<div>\n",
       "<style scoped>\n",
       "    .dataframe tbody tr th:only-of-type {\n",
       "        vertical-align: middle;\n",
       "    }\n",
       "\n",
       "    .dataframe tbody tr th {\n",
       "        vertical-align: top;\n",
       "    }\n",
       "\n",
       "    .dataframe thead th {\n",
       "        text-align: right;\n",
       "    }\n",
       "</style>\n",
       "<table border=\"1\" class=\"dataframe\">\n",
       "  <thead>\n",
       "    <tr style=\"text-align: right;\">\n",
       "      <th></th>\n",
       "      <th>BodyWeight(kg)</th>\n",
       "      <th>BrainWeight(kg)</th>\n",
       "      <th>Brain-to-Body-Weight_Proportion</th>\n",
       "    </tr>\n",
       "    <tr>\n",
       "      <th>Species</th>\n",
       "      <th></th>\n",
       "      <th></th>\n",
       "      <th></th>\n",
       "    </tr>\n",
       "  </thead>\n",
       "  <tbody>\n",
       "    <tr>\n",
       "      <th>Yam_Peleg</th>\n",
       "      <td>71.00</td>\n",
       "      <td>0.000031</td>\n",
       "      <td>0.000031</td>\n",
       "    </tr>\n",
       "    <tr>\n",
       "      <th>Newborn_Human</th>\n",
       "      <td>3.20</td>\n",
       "      <td>0.374985</td>\n",
       "      <td>0.117183</td>\n",
       "    </tr>\n",
       "    <tr>\n",
       "      <th>Adult_Human</th>\n",
       "      <td>73.00</td>\n",
       "      <td>1.349982</td>\n",
       "      <td>0.018493</td>\n",
       "    </tr>\n",
       "    <tr>\n",
       "      <th>Pithecanthropus_Man</th>\n",
       "      <td>70.00</td>\n",
       "      <td>0.925011</td>\n",
       "      <td>0.013214</td>\n",
       "    </tr>\n",
       "    <tr>\n",
       "      <th>Squirrel</th>\n",
       "      <td>0.80</td>\n",
       "      <td>0.007620</td>\n",
       "      <td>0.009525</td>\n",
       "    </tr>\n",
       "    <tr>\n",
       "      <th>Hamster</th>\n",
       "      <td>0.15</td>\n",
       "      <td>0.001406</td>\n",
       "      <td>0.009374</td>\n",
       "    </tr>\n",
       "    <tr>\n",
       "      <th>Chimpanzee</th>\n",
       "      <td>50.00</td>\n",
       "      <td>0.419981</td>\n",
       "      <td>0.008400</td>\n",
       "    </tr>\n",
       "    <tr>\n",
       "      <th>Rabbit</th>\n",
       "      <td>1.40</td>\n",
       "      <td>0.011521</td>\n",
       "      <td>0.008229</td>\n",
       "    </tr>\n",
       "    <tr>\n",
       "      <th>Dog_(Beagle)</th>\n",
       "      <td>10.00</td>\n",
       "      <td>0.071985</td>\n",
       "      <td>0.007199</td>\n",
       "    </tr>\n",
       "    <tr>\n",
       "      <th>Cat</th>\n",
       "      <td>4.50</td>\n",
       "      <td>0.029982</td>\n",
       "      <td>0.006663</td>\n",
       "    </tr>\n",
       "    <tr>\n",
       "      <th>Rat</th>\n",
       "      <td>0.40</td>\n",
       "      <td>0.001996</td>\n",
       "      <td>0.004990</td>\n",
       "    </tr>\n",
       "    <tr>\n",
       "      <th>Bottle-Nosed_Dolphin</th>\n",
       "      <td>400.00</td>\n",
       "      <td>1.499985</td>\n",
       "      <td>0.003750</td>\n",
       "    </tr>\n",
       "    <tr>\n",
       "      <th>Beaver</th>\n",
       "      <td>24.00</td>\n",
       "      <td>0.044996</td>\n",
       "      <td>0.001875</td>\n",
       "    </tr>\n",
       "    <tr>\n",
       "      <th>Gorilla</th>\n",
       "      <td>320.00</td>\n",
       "      <td>0.502490</td>\n",
       "      <td>0.001570</td>\n",
       "    </tr>\n",
       "    <tr>\n",
       "      <th>Tiger</th>\n",
       "      <td>170.00</td>\n",
       "      <td>0.263492</td>\n",
       "      <td>0.001550</td>\n",
       "    </tr>\n",
       "    <tr>\n",
       "      <th>Owl</th>\n",
       "      <td>1.50</td>\n",
       "      <td>0.002223</td>\n",
       "      <td>0.001482</td>\n",
       "    </tr>\n",
       "    <tr>\n",
       "      <th>Camel</th>\n",
       "      <td>550.00</td>\n",
       "      <td>0.761990</td>\n",
       "      <td>0.001385</td>\n",
       "    </tr>\n",
       "    <tr>\n",
       "      <th>Elephant</th>\n",
       "      <td>4600.00</td>\n",
       "      <td>5.999984</td>\n",
       "      <td>0.001304</td>\n",
       "    </tr>\n",
       "    <tr>\n",
       "      <th>Lion</th>\n",
       "      <td>187.00</td>\n",
       "      <td>0.239996</td>\n",
       "      <td>0.001283</td>\n",
       "    </tr>\n",
       "    <tr>\n",
       "      <th>Sheep</th>\n",
       "      <td>120.00</td>\n",
       "      <td>0.139979</td>\n",
       "      <td>0.001166</td>\n",
       "    </tr>\n",
       "    <tr>\n",
       "      <th>Walrus</th>\n",
       "      <td>800.00</td>\n",
       "      <td>0.925011</td>\n",
       "      <td>0.001156</td>\n",
       "    </tr>\n",
       "    <tr>\n",
       "      <th>Horse</th>\n",
       "      <td>450.00</td>\n",
       "      <td>0.502490</td>\n",
       "      <td>0.001117</td>\n",
       "    </tr>\n",
       "    <tr>\n",
       "      <th>Cow</th>\n",
       "      <td>700.00</td>\n",
       "      <td>0.441481</td>\n",
       "      <td>0.000631</td>\n",
       "    </tr>\n",
       "    <tr>\n",
       "      <th>Giraffe</th>\n",
       "      <td>950.00</td>\n",
       "      <td>0.532018</td>\n",
       "      <td>0.000560</td>\n",
       "    </tr>\n",
       "    <tr>\n",
       "      <th>Green_Lizard</th>\n",
       "      <td>0.20</td>\n",
       "      <td>0.000091</td>\n",
       "      <td>0.000454</td>\n",
       "    </tr>\n",
       "    <tr>\n",
       "      <th>Sperm_Whale</th>\n",
       "      <td>35000.00</td>\n",
       "      <td>7.799974</td>\n",
       "      <td>0.000223</td>\n",
       "    </tr>\n",
       "    <tr>\n",
       "      <th>Turtle</th>\n",
       "      <td>3.00</td>\n",
       "      <td>0.000318</td>\n",
       "      <td>0.000106</td>\n",
       "    </tr>\n",
       "    <tr>\n",
       "      <th>Alligator</th>\n",
       "      <td>270.00</td>\n",
       "      <td>0.008391</td>\n",
       "      <td>0.000031</td>\n",
       "    </tr>\n",
       "  </tbody>\n",
       "</table>\n",
       "</div>"
      ],
      "text/plain": [
       "                      BodyWeight(kg)  BrainWeight(kg)  \\\n",
       "Species                                                 \n",
       "Yam_Peleg                      71.00         0.000031   \n",
       "Newborn_Human                   3.20         0.374985   \n",
       "Adult_Human                    73.00         1.349982   \n",
       "Pithecanthropus_Man            70.00         0.925011   \n",
       "Squirrel                        0.80         0.007620   \n",
       "Hamster                         0.15         0.001406   \n",
       "Chimpanzee                     50.00         0.419981   \n",
       "Rabbit                          1.40         0.011521   \n",
       "Dog_(Beagle)                   10.00         0.071985   \n",
       "Cat                             4.50         0.029982   \n",
       "Rat                             0.40         0.001996   \n",
       "Bottle-Nosed_Dolphin          400.00         1.499985   \n",
       "Beaver                         24.00         0.044996   \n",
       "Gorilla                       320.00         0.502490   \n",
       "Tiger                         170.00         0.263492   \n",
       "Owl                             1.50         0.002223   \n",
       "Camel                         550.00         0.761990   \n",
       "Elephant                     4600.00         5.999984   \n",
       "Lion                          187.00         0.239996   \n",
       "Sheep                         120.00         0.139979   \n",
       "Walrus                        800.00         0.925011   \n",
       "Horse                         450.00         0.502490   \n",
       "Cow                           700.00         0.441481   \n",
       "Giraffe                       950.00         0.532018   \n",
       "Green_Lizard                    0.20         0.000091   \n",
       "Sperm_Whale                 35000.00         7.799974   \n",
       "Turtle                          3.00         0.000318   \n",
       "Alligator                     270.00         0.008391   \n",
       "\n",
       "                      Brain-to-Body-Weight_Proportion  \n",
       "Species                                                \n",
       "Yam_Peleg                                    0.000031  \n",
       "Newborn_Human                                0.117183  \n",
       "Adult_Human                                  0.018493  \n",
       "Pithecanthropus_Man                          0.013214  \n",
       "Squirrel                                     0.009525  \n",
       "Hamster                                      0.009374  \n",
       "Chimpanzee                                   0.008400  \n",
       "Rabbit                                       0.008229  \n",
       "Dog_(Beagle)                                 0.007199  \n",
       "Cat                                          0.006663  \n",
       "Rat                                          0.004990  \n",
       "Bottle-Nosed_Dolphin                         0.003750  \n",
       "Beaver                                       0.001875  \n",
       "Gorilla                                      0.001570  \n",
       "Tiger                                        0.001550  \n",
       "Owl                                          0.001482  \n",
       "Camel                                        0.001385  \n",
       "Elephant                                     0.001304  \n",
       "Lion                                         0.001283  \n",
       "Sheep                                        0.001166  \n",
       "Walrus                                       0.001156  \n",
       "Horse                                        0.001117  \n",
       "Cow                                          0.000631  \n",
       "Giraffe                                      0.000560  \n",
       "Green_Lizard                                 0.000454  \n",
       "Sperm_Whale                                  0.000223  \n",
       "Turtle                                       0.000106  \n",
       "Alligator                                    0.000031  "
      ]
     },
     "execution_count": 27,
     "metadata": {},
     "output_type": "execute_result"
    }
   ],
   "source": [
    "data = pd.read_csv(\"data/Animals.csv\", index_col='Species')\n",
    "data"
   ]
  },
  {
   "cell_type": "code",
   "execution_count": 28,
   "metadata": {},
   "outputs": [
    {
     "data": {
      "text/plain": [
       "<matplotlib.axes._subplots.AxesSubplot at 0x7f90371ff090>"
      ]
     },
     "execution_count": 28,
     "metadata": {},
     "output_type": "execute_result"
    },
    {
     "data": {
      "image/png": "[encoded data removed]",
      "text/plain": [
       "<matplotlib.figure.Figure at 0x7f9037306650>"
      ]
     },
     "metadata": {},
     "output_type": "display_data"
    }
   ],
   "source": [
    "# Let's make a scatter plot\n",
    "data.plot.scatter(x=\"BodyWeight(kg)\", y=\"BrainWeight(kg)\")"
   ]
  },
  {
   "cell_type": "markdown",
   "metadata": {},
   "source": [
    "At first glance it does not resemble any particular dependance. However, if we change the scale something interesting can be spotted with [logarithmic scaling](https://simple.wikipedia.org/wiki/Logarithmic_scale):"
   ]
  },
  {
   "cell_type": "code",
   "execution_count": 29,
   "metadata": {},
   "outputs": [
    {
     "data": {
      "image/png": "[encoded data removed]",
      "text/plain": [
       "<matplotlib.figure.Figure at 0x7f90374ed590>"
      ]
     },
     "metadata": {},
     "output_type": "display_data"
    }
   ],
   "source": [
    "data.plot.scatter(x=\"BodyWeight(kg)\", y=\"BrainWeight(kg)\", logx=True, logy=True);"
   ]
  },
  {
   "cell_type": "markdown",
   "metadata": {},
   "source": [
    "We see a clear dependence that the bigger body weight (on average) the bigger brain weight.\n",
    "Let's investigate that!\n",
    "\n",
    "First of all, we need to prepare the data. We see some dependence on the scatterplot only after scaling both x and y axes logarithmically ([Logarithmic scale](https://en.wikipedia.org/wiki/Logarithmic_scale#Graphic_representation)). That is why, if we want to see the same relationship in the data itself, we take natural logarithm of brain and body weights."
   ]
  },
  {
   "cell_type": "code",
   "execution_count": 30,
   "metadata": {},
   "outputs": [],
   "source": [
    "X = np.log(data['BodyWeight(kg)'])\n",
    "Y = np.log(data['BrainWeight(kg)'])"
   ]
  },
  {
   "cell_type": "markdown",
   "metadata": {},
   "source": [
    "### A toy example\n",
    "\n",
    "\n",
    "At the beginning let's take a look only on a few points from the dataset."
   ]
  },
  {
   "cell_type": "code",
   "execution_count": 31,
   "metadata": {},
   "outputs": [
    {
     "data": {
      "text/plain": [
       "Species\n",
       "Yam_Peleg       4.262680\n",
       "Chimpanzee      3.912023\n",
       "Beaver          3.178054\n",
       "Lion            5.231109\n",
       "Green_Lizard   -1.609438\n",
       "Name: BodyWeight(kg), dtype: float64"
      ]
     },
     "execution_count": 31,
     "metadata": {},
     "output_type": "execute_result"
    }
   ],
   "source": [
    "x = X[::6]\n",
    "x"
   ]
  },
  {
   "cell_type": "code",
   "execution_count": 32,
   "metadata": {},
   "outputs": [
    {
     "data": {
      "text/plain": [
       "Species\n",
       "Yam_Peleg      -10.378962\n",
       "Chimpanzee      -0.867545\n",
       "Beaver          -3.101174\n",
       "Lion            -1.427134\n",
       "Green_Lizard    -9.307749\n",
       "Name: BrainWeight(kg), dtype: float64"
      ]
     },
     "execution_count": 32,
     "metadata": {},
     "output_type": "execute_result"
    }
   ],
   "source": [
    "y = Y[::6]\n",
    "y"
   ]
  },
  {
   "cell_type": "code",
   "execution_count": 34,
   "metadata": {},
   "outputs": [
    {
     "data": {
      "text/plain": [
       "(-6, 4)"
      ]
     },
     "execution_count": 34,
     "metadata": {},
     "output_type": "execute_result"
    },
    {
     "data": {
      "image/png": "[encoded data removed]",
      "text/plain": [
       "<matplotlib.figure.Figure at 0x7f9037486b90>"
      ]
     },
     "metadata": {},
     "output_type": "display_data"
    }
   ],
   "source": [
    "fig, ax = plt.subplots(figsize=(5, 6))\n",
    "ax.scatter(x, y)\n",
    "ax.set_xlabel('x')\n",
    "ax.set_ylabel('y')\n",
    "ax.set_ylim([-6, 4])"
   ]
  },
  {
   "cell_type": "markdown",
   "metadata": {},
   "source": [
    "On the scatterplot it can be seen that the relationship between presented data is almost linear. We will try to apply the equation:\n",
    "\n",
    "$$ y = ax+b$$\n",
    "\n",
    "to the analysed dataset. The only problem is how to find $a$ and $b$.\n",
    "\n",
    "Try to find a proper line manually!"
   ]
  },
  {
   "cell_type": "code",
   "execution_count": 35,
   "metadata": {},
   "outputs": [
    {
     "data": {
      "application/vnd.jupyter.widget-view+json": {
       "model_id": "264575ca84a74bf5852915a06ce8a021",
       "version_major": 2,
       "version_minor": 0
      },
      "text/html": [
       "<p>Failed to display Jupyter Widget of type <code>interactive</code>.</p>\n",
       "<p>\n",
       "  If you're reading this message in the Jupyter Notebook or JupyterLab Notebook, it may mean\n",
       "  that the widgets JavaScript is still loading. If this message persists, it\n",
       "  likely means that the widgets JavaScript library is either not installed or\n",
       "  not enabled. See the <a href=\"https://ipywidgets.readthedocs.io/en/stable/user_install.html\">Jupyter\n",
       "  Widgets Documentation</a> for setup instructions.\n",
       "</p>\n",
       "<p>\n",
       "  If you're reading this message in another frontend (for example, a static\n",
       "  rendering on GitHub or <a href=\"https://nbviewer.jupyter.org/\">NBViewer</a>),\n",
       "  it may mean that your frontend doesn't currently support widgets.\n",
       "</p>\n"
      ],
      "text/plain": [
       "interactive(children=(FloatSlider(value=0.0, description=u'a', max=4.0, min=-4.0), FloatSlider(value=0.0, description=u'b', max=6.0, min=-6.0), Output()), _dom_classes=('widget-interact',))"
      ]
     },
     "metadata": {},
     "output_type": "display_data"
    }
   ],
   "source": [
    "def plot_model(a, b, x, y):\n",
    "    x = np.sort(x)\n",
    "    y_pred = a * x + b\n",
    "    fig, ax = plt.subplots(figsize=(5, 6))\n",
    "    ax.plot(x, y_pred, color='orange')\n",
    "    ax.scatter(x, y)\n",
    "    ax.set_xlabel('x')\n",
    "    ax.set_ylabel('y')\n",
    "    ax.set_ylim([-6, 4])\n",
    "    \n",
    "interact(plot_model, \n",
    "         a=(-4.0, 4.0), \n",
    "         b=(-6.0, 6.0),\n",
    "         x=fixed(x),\n",
    "         y=fixed(y)\n",
    "        );"
   ]
  },
  {
   "cell_type": "markdown",
   "metadata": {},
   "source": [
    "### Loss function\n",
    "\n",
    "We will try to somehow measure if the coefficients in the equation are good enough to describe our problem. In order to do it we will define a loss function - an equation that will tell us how much our approximation differs from the expected output. \n",
    "\n",
    "The loss function should:\n",
    "\n",
    "* depend only on the coefficients of the model, expected output and our approximation,\n",
    "* shrink if our approximation is becoming better and grow if it gets worse.\n",
    "\n",
    "When it comes to linear regression the most common approach is the least-squares loss function. We will calculate the average square of the vertical deviations from each data point to the line. Since we first square the dviations, it does not matter if the data point is above or below the line. \n",
    "\n",
    "\n",
    "$$y^{ pred}_{i} = ax_{i}+b $$\n",
    "$$L=\\frac{1}{N}\\sum_{i=0}^{N-1}( y^{pred}_{i} - y_{i})^2 $$"
   ]
  },
  {
   "cell_type": "code",
   "execution_count": 36,
   "metadata": {},
   "outputs": [
    {
     "data": {
      "text/plain": [
       "Text(0,0.5,u'b')"
      ]
     },
     "execution_count": 36,
     "metadata": {},
     "output_type": "execute_result"
    },
    {
     "data": {
      "image/png": "[encoded data removed]",
      "text/plain": [
       "<matplotlib.figure.Figure at 0x7f90371ffb10>"
      ]
     },
     "metadata": {},
     "output_type": "display_data"
    }
   ],
   "source": [
    "aa_ = np.linspace(-2, 3, num=100)\n",
    "bb_ = np.linspace(-8, 8, num=100)\n",
    "aa, bb = np.meshgrid(aa_, bb_)\n",
    "\n",
    "def loss_numpy(aa, bb, x, y):\n",
    "    loss = np.zeros_like(aa)\n",
    "    for i in range(len(loss)):\n",
    "        for j in range(len(loss[0])):\n",
    "            loss[i][j] = ((aa[i,j] * x + bb[i,j] - y)**2).sum()\n",
    "    return loss\n",
    "\n",
    "cs = plt.contour(aa, bb, np.sqrt(loss_numpy(aa, bb, x, y)), cmap='coolwarm')\n",
    "plt.clabel(cs, inline=1, fontsize=10)\n",
    "plt.title(\"Loss\")\n",
    "plt.xlabel('a')\n",
    "plt.ylabel('b')"
   ]
  },
  {
   "cell_type": "markdown",
   "metadata": {},
   "source": [
    "If we want to use PyTorch in our model we need tensors!"
   ]
  },
  {
   "cell_type": "code",
   "execution_count": 49,
   "metadata": {},
   "outputs": [
    {
     "data": {
      "text/plain": [
       "tensor([ 4.2627,  3.9120,  3.1781,  5.2311, -1.6094])"
      ]
     },
     "execution_count": 49,
     "metadata": {},
     "output_type": "execute_result"
    }
   ],
   "source": [
    "x = torch.tensor(x)\n",
    "x"
   ]
  },
  {
   "cell_type": "code",
   "execution_count": 50,
   "metadata": {},
   "outputs": [
    {
     "data": {
      "text/plain": [
       "tensor([-10.3790,  -0.8675,  -3.1012,  -1.4271,  -9.3077])"
      ]
     },
     "execution_count": 50,
     "metadata": {},
     "output_type": "execute_result"
    }
   ],
   "source": [
    "y = torch.tensor(y)\n",
    "y"
   ]
  },
  {
   "cell_type": "code",
   "execution_count": 51,
   "metadata": {},
   "outputs": [],
   "source": [
    "def Y_pred(A, B, x):\n",
    "    return A * x + B  # matrix multiplication"
   ]
  },
  {
   "cell_type": "code",
   "execution_count": 52,
   "metadata": {},
   "outputs": [],
   "source": [
    "def loss(y_pred, y):\n",
    "    return (y_pred - y).pow(2).mean()"
   ]
  },
  {
   "cell_type": "markdown",
   "metadata": {},
   "source": [
    "### Minimizing loss function\n",
    "\n",
    "There is an explicit formula for the coefficients that will guarantee the best fit of the line for particular data:\n",
    "    $$a=\\frac{\\sum_{i=0}^{N-1}{x_i} \\cdot \\sum_{i=0}^{N-1}{y_i}  - \\sum_{i=0}^{N-1}{x_iy_i} }{(\\sum_{i=0}^{N-1}{x_i})^2-\\sum_{i=0}^{N-1}{x_i^2} }$$    \n",
    "    $$b=\\frac{1}{N}\\left(\\sum_{i=0}^{N-1}{y_i} -a\\sum_{i=0}^{N-1}{x_i}\\right) $$\n",
    "    \n",
    "However, for didactic purpose we will minimize the loss function differently.\n",
    "\n",
    "You will find more detailed explanation of what will happen here in the chapter \"Gradient descent\".\n",
    "\n",
    "Since we have defined the loss function, we should minimize it. By doing so we will step by step rotate and move the line, so it will reflect the actual location of data points. In order to do it we need to repeatedly shift the weights till we find a minimum of the loss function. What we need is a mathematical operation that will tell us how the loss function will change, if we increase or decrease $a$ and $b$. The operation we are looking for is partial derivative."
   ]
  },
  {
   "cell_type": "markdown",
   "metadata": {},
   "source": [
    "$$\\dfrac{\\partial L}{\\partial a}  = \\frac{2}{N}\\sum_{i=0}^{N-1} (y^{pred}_{i} -y_{i}) \\cdot x_{i}$$ \n",
    "\n",
    "$$\\dfrac{\\partial L}{\\partial b} = \\frac{2}{N}\\sum_{i=0}^{N-1} (y^{pred}_{i} -y_{i})$$"
   ]
  },
  {
   "cell_type": "code",
   "execution_count": 53,
   "metadata": {},
   "outputs": [],
   "source": [
    "def dL_da(A, B, x, y):\n",
    "    y_pred = Y_pred(A, B, x)\n",
    "    return 2*((y_pred - y)*x).mean()"
   ]
  },
  {
   "cell_type": "code",
   "execution_count": 54,
   "metadata": {},
   "outputs": [],
   "source": [
    "def dL_db(A, B, x, y):\n",
    "    y_pred = Y_pred(A, B, x)\n",
    "    return 2*(y_pred - y).mean()"
   ]
  },
  {
   "cell_type": "markdown",
   "metadata": {},
   "source": [
    "Two more things we have to specify are:\n",
    "\n",
    "- **learning\\_rate** - hyperparamiter that will define how much the value of the derivative will influance the change of $a$ and $b$,\n",
    "\n",
    "- **num\\_epochs** - hyperparameter defining how many iterations it will take to sufficiently minimiaze the loss function."
   ]
  },
  {
   "cell_type": "code",
   "execution_count": 55,
   "metadata": {},
   "outputs": [],
   "source": [
    "import livelossplot\n",
    "def minimise_loss_function(x, y, A, B, learning_rate, num_epochs):\n",
    "    epoch_loss = 0.0\n",
    "    liveloss = PlotLosses()\n",
    "    \n",
    "    for i in range(num_epochs):\n",
    "        A -= learning_rate * dL_da(A, B, x, y)\n",
    "        B -= learning_rate * dL_db(A, B, x, y)\n",
    "        \n",
    "        epoch_loss = loss(Y_pred(A, B, x), y)\n",
    "        \n",
    "        avg_loss = epoch_loss / len(x)\n",
    "\n",
    "        liveloss.update({\n",
    "            'loss': avg_loss,\n",
    "        })\n",
    "        try: liveloss.draw()\n",
    "        except: pass\n",
    "    return A, B"
   ]
  },
  {
   "cell_type": "markdown",
   "metadata": {},
   "source": [
    "Last thing we need to do before trying to minimalize the loss function is to initialize the coefficients with some random values."
   ]
  },
  {
   "cell_type": "code",
   "execution_count": 56,
   "metadata": {},
   "outputs": [
    {
     "data": {
      "text/plain": [
       "tensor([-0.4908])"
      ]
     },
     "execution_count": 56,
     "metadata": {},
     "output_type": "execute_result"
    }
   ],
   "source": [
    "A = torch.randn(1)\n",
    "A"
   ]
  },
  {
   "cell_type": "code",
   "execution_count": 57,
   "metadata": {},
   "outputs": [
    {
     "data": {
      "text/plain": [
       "tensor([-1.5636])"
      ]
     },
     "execution_count": 57,
     "metadata": {},
     "output_type": "execute_result"
    }
   ],
   "source": [
    "B = torch.randn(1)\n",
    "B"
   ]
  },
  {
   "cell_type": "code",
   "execution_count": null,
   "metadata": {},
   "outputs": [
    {
     "data": {
      "image/png": "[encoded data removed]",
      "text/plain": [
       "<matplotlib.figure.Figure at 0x7f902f435ad0>"
      ]
     },
     "metadata": {},
     "output_type": "display_data"
    }
   ],
   "source": [
    "A_trained, B_trained = minimise_loss_function(x, y, A, B, learning_rate=0.025, num_epochs=200)"
   ]
  },
  {
   "cell_type": "code",
   "execution_count": 83,
   "metadata": {},
   "outputs": [
    {
     "data": {
      "text/plain": [
       "tensor([0.4917])"
      ]
     },
     "execution_count": 83,
     "metadata": {},
     "output_type": "execute_result"
    }
   ],
   "source": [
    "A_trained"
   ]
  },
  {
   "cell_type": "code",
   "execution_count": 84,
   "metadata": {},
   "outputs": [
    {
     "data": {
      "text/plain": [
       "tensor([-3.4073])"
      ]
     },
     "execution_count": 84,
     "metadata": {},
     "output_type": "execute_result"
    }
   ],
   "source": [
    "B_trained"
   ]
  },
  {
   "cell_type": "code",
   "execution_count": 85,
   "metadata": {},
   "outputs": [
    {
     "data": {
      "image/png": "[encoded data removed]",
      "text/plain": [
       "<Figure size 360x432 with 1 Axes>"
      ]
     },
     "metadata": {
      "needs_background": "light"
     },
     "output_type": "display_data"
    }
   ],
   "source": [
    "plot_model(A.numpy(), B.numpy(), np.array(x), y)"
   ]
  },
  {
   "cell_type": "markdown",
   "metadata": {},
   "source": [
    "And that is how we find the propper line!"
   ]
  },
  {
   "cell_type": "markdown",
   "metadata": {},
   "source": [
    "### Linear regression using PyTorch\n",
    "\n",
    "Knowing how linear regression works, let's come back to the relation between body and brain weights. This time we will use built-in PyTorch functions.\n",
    "\n",
    "Firstly, we need to prepare the data. PyTorch built-in models have specified shapes of the input data. It is all specified in [PyTorch documentation](https://pytorch.org/docs/stable/nn.html#linear). Below, we are changing the shape of our data into format **(number_of_datapoints, in_features)**."
   ]
  },
  {
   "cell_type": "code",
   "execution_count": 86,
   "metadata": {},
   "outputs": [
    {
     "data": {
      "text/plain": [
       "torch.Size([27, 1])"
      ]
     },
     "execution_count": 86,
     "metadata": {},
     "output_type": "execute_result"
    }
   ],
   "source": [
    "X = torch.tensor(X).view(-1, 1)\n",
    "X.size()"
   ]
  },
  {
   "cell_type": "code",
   "execution_count": 87,
   "metadata": {},
   "outputs": [
    {
     "data": {
      "text/plain": [
       "torch.Size([27, 1])"
      ]
     },
     "execution_count": 87,
     "metadata": {},
     "output_type": "execute_result"
    }
   ],
   "source": [
    "Y = torch.tensor(Y).view(-1, 1)\n",
    "Y.size()"
   ]
  },
  {
   "cell_type": "markdown",
   "metadata": {},
   "source": [
    "Instead of initializing the coefficients manually, we can define the model using a built in class. Since both input and output in the analysed problem have only one dimension we set **(in_features=1, out_features=1)** as arguments of **nn.Linear**. That is also specified in [PyTorch documentation](https://pytorch.org/docs/stable/nn.html#linear)."
   ]
  },
  {
   "cell_type": "code",
   "execution_count": 88,
   "metadata": {},
   "outputs": [
    {
     "name": "stdout",
     "output_type": "stream",
     "text": [
      "Parameter containing:\n",
      "tensor([[-0.2359]], requires_grad=True)\n",
      "Parameter containing:\n",
      "tensor([0.7289], requires_grad=True)\n"
     ]
    }
   ],
   "source": [
    "linear_model = nn.Linear(in_features=1, out_features=1)\n",
    "print(linear_model.weight)\n",
    "print(linear_model.bias)"
   ]
  },
  {
   "cell_type": "markdown",
   "metadata": {},
   "source": [
    "Instead of **gradient\\_step** function, we will define an **optimizer** with learning rate and built-in **loss function**."
   ]
  },
  {
   "cell_type": "code",
   "execution_count": 89,
   "metadata": {},
   "outputs": [
    {
     "name": "stdout",
     "output_type": "stream",
     "text": [
      "tensor(17.7329, grad_fn=<MseLossBackward>)\n"
     ]
    }
   ],
   "source": [
    "#pytorch loss criterion\n",
    "optim = torch.optim.SGD(linear_model.parameters(), lr=0.03)\n",
    "loss_function = F.mse_loss\n",
    "# criterion = nn.MSELoss()\n",
    "loss = loss_function(linear_model(X), Y)\n",
    "print(loss)  "
   ]
  },
  {
   "cell_type": "markdown",
   "metadata": {},
   "source": [
    "Before training the model, let's see what does the line with random coefficients look like."
   ]
  },
  {
   "cell_type": "code",
   "execution_count": 90,
   "metadata": {},
   "outputs": [
    {
     "name": "stdout",
     "output_type": "stream",
     "text": [
      "('a =', -0.23592793941497803)\n",
      "('b =', 0.7288539409637451)\n"
     ]
    },
    {
     "data": {
      "image/png": "[encoded data removed]",
      "text/plain": [
       "<Figure size 432x288 with 1 Axes>"
      ]
     },
     "metadata": {
      "needs_background": "light"
     },
     "output_type": "display_data"
    }
   ],
   "source": [
    "def plot_model_annotate(X, Y, A, B, ann):\n",
    "    fig, ax = plt.subplots()\n",
    "    ax.scatter(X, Y)\n",
    "    y_pred = A * X + B\n",
    "    ax.plot(X, y_pred, color='orange')\n",
    "    ax.set_xlabel(\"BodyWeight(kg)\")\n",
    "    ax.set_ylabel(\"BrainWeight(kg)\")\n",
    "    ax.set_ylim([-8, 4])\n",
    "    \n",
    "    for i, txt in enumerate(ann):\n",
    "        if i%5 == 1: \n",
    "            ax.annotate(txt, (X[i], Y[i]))\n",
    "   \n",
    "            \n",
    "    print('a =', A)\n",
    "    print('b =', B)\n",
    "    \n",
    "plot_model_annotate(X.view(-1).numpy(), Y.view(-1).numpy(), linear_model.weight.item(), linear_model.bias.item(), data.index)"
   ]
  },
  {
   "cell_type": "markdown",
   "metadata": {},
   "source": [
    "Now we can train the model - minimise the loss function."
   ]
  },
  {
   "cell_type": "code",
   "execution_count": 91,
   "metadata": {},
   "outputs": [
    {
     "data": {
      "image/png": "[encoded data removed]",
      "text/plain": [
       "<Figure size 864x864 with 3 Axes>"
      ]
     },
     "metadata": {
      "needs_background": "light"
     },
     "output_type": "display_data"
    }
   ],
   "source": [
    "def train(X, Y, model, loss_function, optim, num_epochs):\n",
    "    loss_history = []\n",
    "    preds = torch.tensor([])\n",
    "    liveloss = PlotLosses()\n",
    "\n",
    "    for epoch in range(num_epochs):\n",
    "        \n",
    "        epoch_loss = 0.0\n",
    "        \n",
    "        Y_pred = model(X)\n",
    "        loss = loss_function(Y_pred, Y)\n",
    "        \n",
    "        loss.backward()\n",
    "        optim.step()\n",
    "        optim.zero_grad()\n",
    "        \n",
    "        preds = torch.cat([preds, Y_pred], 0)\n",
    "        \n",
    "        epoch_loss = loss.data.item()\n",
    "        \n",
    "        avg_loss = epoch_loss / len(X)\n",
    "\n",
    "        liveloss.update({\n",
    "            'loss': avg_loss,\n",
    "            'a': model.weight[0][0].item(),\n",
    "            'b': model.bias[0].item()\n",
    "        })\n",
    "        try: liveloss.draw()\n",
    "        except: pass\n",
    "\n",
    "    return preds\n",
    "\n",
    "predictions = train(X, Y, linear_model, loss_function, optim, num_epochs=50)\n"
   ]
  },
  {
   "cell_type": "markdown",
   "metadata": {},
   "source": [
    "We can see, how the line was changing during learning process:"
   ]
  },
  {
   "cell_type": "code",
   "execution_count": 92,
   "metadata": {},
   "outputs": [
    {
     "data": {
      "image/png": "[encoded data removed]",
      "text/plain": [
       "<Figure size 432x288 with 1 Axes>"
      ]
     },
     "metadata": {
      "needs_background": "light"
     },
     "output_type": "display_data"
    }
   ],
   "source": [
    "predictions=predictions.view(50, 27)\n",
    "plt.scatter(X, Y)\n",
    "for i in range(predictions.size()[0]):\n",
    "    if i%10 == 9:\n",
    "        plt.plot(X.view(-1).numpy(),predictions[i].detach().numpy())\n",
    "    "
   ]
  },
  {
   "cell_type": "markdown",
   "metadata": {},
   "source": [
    "Let's see if we fitted the final line properly!"
   ]
  },
  {
   "cell_type": "code",
   "execution_count": 93,
   "metadata": {},
   "outputs": [
    {
     "name": "stdout",
     "output_type": "stream",
     "text": [
      "('a =', 0.49903780221939087)\n",
      "('b =', -3.557624101638794)\n"
     ]
    },
    {
     "data": {
      "image/png": "[encoded data removed]",
      "text/plain": [
       "<Figure size 432x288 with 1 Axes>"
      ]
     },
     "metadata": {
      "needs_background": "light"
     },
     "output_type": "display_data"
    }
   ],
   "source": [
    "plot_model_annotate(X.view(-1).numpy(), Y.view(-1).numpy(), linear_model.weight.item(), linear_model.bias.item(), data.index)"
   ]
  },
  {
   "cell_type": "markdown",
   "metadata": {},
   "source": [
    "It fits the data much better than at the begining. We have found the relation between brain and body weights among various animal species:"
   ]
  },
  {
   "cell_type": "code",
   "execution_count": 94,
   "metadata": {},
   "outputs": [
    {
     "data": {
      "text/plain": [
       "'log(PredictedBrainWeight) = 0.499 * log(BodyWeight) -3.558'"
      ]
     },
     "execution_count": 94,
     "metadata": {},
     "output_type": "execute_result"
    }
   ],
   "source": [
    "\"log(PredictedBrainWeight) = {a:.3f} * log(BodyWeight) {b:.3f}\".format(a=linear_model.weight[0][0].item(), b=linear_model.bias[0].item())"
   ]
  },
  {
   "cell_type": "markdown",
   "metadata": {},
   "source": [
    "It can be transformed into more explicit formula:"
   ]
  },
  {
   "cell_type": "code",
   "execution_count": 95,
   "metadata": {},
   "outputs": [
    {
     "data": {
      "text/plain": [
       "'PredictedBrainWeight =  0.029 * (BodyWeight)^1.647'"
      ]
     },
     "execution_count": 95,
     "metadata": {},
     "output_type": "execute_result"
    }
   ],
   "source": [
    "\"PredictedBrainWeight =  {e_b:.3f} * (BodyWeight)^{e_a:.3f}\".format(e_a=linear_model.weight[0][0].exp().item(), e_b=linear_model.bias[0].exp().item())"
   ]
  },
  {
   "cell_type": "code",
   "execution_count": 96,
   "metadata": {},
   "outputs": [
    {
     "data": {
      "text/html": [
       "<div>\n",
       "<style scoped>\n",
       "    .dataframe tbody tr th:only-of-type {\n",
       "        vertical-align: middle;\n",
       "    }\n",
       "\n",
       "    .dataframe tbody tr th {\n",
       "        vertical-align: top;\n",
       "    }\n",
       "\n",
       "    .dataframe thead th {\n",
       "        text-align: right;\n",
       "    }\n",
       "</style>\n",
       "<table border=\"1\" class=\"dataframe\">\n",
       "  <thead>\n",
       "    <tr style=\"text-align: right;\">\n",
       "      <th></th>\n",
       "      <th>BodyWeight(kg)</th>\n",
       "      <th>BrainWeight(kg)</th>\n",
       "      <th>PredictedBrainWeight(kg)</th>\n",
       "    </tr>\n",
       "    <tr>\n",
       "      <th>Species</th>\n",
       "      <th></th>\n",
       "      <th></th>\n",
       "      <th></th>\n",
       "    </tr>\n",
       "  </thead>\n",
       "  <tbody>\n",
       "    <tr>\n",
       "      <th>Newborn_Human</th>\n",
       "      <td>3.20</td>\n",
       "      <td>0.374985</td>\n",
       "      <td>0.052822</td>\n",
       "    </tr>\n",
       "    <tr>\n",
       "      <th>Adult_Human</th>\n",
       "      <td>73.00</td>\n",
       "      <td>1.349982</td>\n",
       "      <td>0.246001</td>\n",
       "    </tr>\n",
       "    <tr>\n",
       "      <th>Pithecanthropus_Man</th>\n",
       "      <td>70.00</td>\n",
       "      <td>0.925011</td>\n",
       "      <td>0.240975</td>\n",
       "    </tr>\n",
       "    <tr>\n",
       "      <th>Squirrel</th>\n",
       "      <td>0.80</td>\n",
       "      <td>0.007620</td>\n",
       "      <td>0.026708</td>\n",
       "    </tr>\n",
       "    <tr>\n",
       "      <th>Hamster</th>\n",
       "      <td>0.15</td>\n",
       "      <td>0.001406</td>\n",
       "      <td>0.011722</td>\n",
       "    </tr>\n",
       "    <tr>\n",
       "      <th>Chimpanzee</th>\n",
       "      <td>50.00</td>\n",
       "      <td>0.419981</td>\n",
       "      <td>0.204215</td>\n",
       "    </tr>\n",
       "    <tr>\n",
       "      <th>Rabbit</th>\n",
       "      <td>1.40</td>\n",
       "      <td>0.011521</td>\n",
       "      <td>0.035173</td>\n",
       "    </tr>\n",
       "    <tr>\n",
       "      <th>Dog_(Beagle)</th>\n",
       "      <td>10.00</td>\n",
       "      <td>0.071985</td>\n",
       "      <td>0.092522</td>\n",
       "    </tr>\n",
       "    <tr>\n",
       "      <th>Cat</th>\n",
       "      <td>4.50</td>\n",
       "      <td>0.029982</td>\n",
       "      <td>0.062467</td>\n",
       "    </tr>\n",
       "    <tr>\n",
       "      <th>Rat</th>\n",
       "      <td>0.40</td>\n",
       "      <td>0.001996</td>\n",
       "      <td>0.018992</td>\n",
       "    </tr>\n",
       "    <tr>\n",
       "      <th>Bottle-Nosed_Dolphin</th>\n",
       "      <td>400.00</td>\n",
       "      <td>1.499985</td>\n",
       "      <td>0.567990</td>\n",
       "    </tr>\n",
       "    <tr>\n",
       "      <th>Beaver</th>\n",
       "      <td>24.00</td>\n",
       "      <td>0.044996</td>\n",
       "      <td>0.142325</td>\n",
       "    </tr>\n",
       "    <tr>\n",
       "      <th>Gorilla</th>\n",
       "      <td>320.00</td>\n",
       "      <td>0.502490</td>\n",
       "      <td>0.508942</td>\n",
       "    </tr>\n",
       "    <tr>\n",
       "      <th>Tiger</th>\n",
       "      <td>170.00</td>\n",
       "      <td>0.263492</td>\n",
       "      <td>0.372851</td>\n",
       "    </tr>\n",
       "    <tr>\n",
       "      <th>Owl</th>\n",
       "      <td>1.50</td>\n",
       "      <td>0.002223</td>\n",
       "      <td>0.036387</td>\n",
       "    </tr>\n",
       "    <tr>\n",
       "      <th>Camel</th>\n",
       "      <td>550.00</td>\n",
       "      <td>0.761990</td>\n",
       "      <td>0.664316</td>\n",
       "    </tr>\n",
       "    <tr>\n",
       "      <th>Elephant</th>\n",
       "      <td>4600.00</td>\n",
       "      <td>5.999984</td>\n",
       "      <td>1.888534</td>\n",
       "    </tr>\n",
       "    <tr>\n",
       "      <th>Lion</th>\n",
       "      <td>187.00</td>\n",
       "      <td>0.239996</td>\n",
       "      <td>0.390749</td>\n",
       "    </tr>\n",
       "    <tr>\n",
       "      <th>Sheep</th>\n",
       "      <td>120.00</td>\n",
       "      <td>0.139979</td>\n",
       "      <td>0.314140</td>\n",
       "    </tr>\n",
       "    <tr>\n",
       "      <th>Walrus</th>\n",
       "      <td>800.00</td>\n",
       "      <td>0.925011</td>\n",
       "      <td>0.798775</td>\n",
       "    </tr>\n",
       "    <tr>\n",
       "      <th>Horse</th>\n",
       "      <td>450.00</td>\n",
       "      <td>0.502490</td>\n",
       "      <td>0.601871</td>\n",
       "    </tr>\n",
       "    <tr>\n",
       "      <th>Cow</th>\n",
       "      <td>700.00</td>\n",
       "      <td>0.441481</td>\n",
       "      <td>0.747992</td>\n",
       "    </tr>\n",
       "    <tr>\n",
       "      <th>Giraffe</th>\n",
       "      <td>950.00</td>\n",
       "      <td>0.532018</td>\n",
       "      <td>0.869238</td>\n",
       "    </tr>\n",
       "    <tr>\n",
       "      <th>Green_Lizard</th>\n",
       "      <td>0.20</td>\n",
       "      <td>0.000091</td>\n",
       "      <td>0.013505</td>\n",
       "    </tr>\n",
       "    <tr>\n",
       "      <th>Sperm_Whale</th>\n",
       "      <td>35000.00</td>\n",
       "      <td>7.799974</td>\n",
       "      <td>5.124645</td>\n",
       "    </tr>\n",
       "    <tr>\n",
       "      <th>Turtle</th>\n",
       "      <td>3.00</td>\n",
       "      <td>0.000318</td>\n",
       "      <td>0.051172</td>\n",
       "    </tr>\n",
       "    <tr>\n",
       "      <th>Alligator</th>\n",
       "      <td>270.00</td>\n",
       "      <td>0.008391</td>\n",
       "      <td>0.468134</td>\n",
       "    </tr>\n",
       "  </tbody>\n",
       "</table>\n",
       "</div>"
      ],
      "text/plain": [
       "                      BodyWeight(kg)  BrainWeight(kg)  \\\n",
       "Species                                                 \n",
       "Newborn_Human                   3.20         0.374985   \n",
       "Adult_Human                    73.00         1.349982   \n",
       "Pithecanthropus_Man            70.00         0.925011   \n",
       "Squirrel                        0.80         0.007620   \n",
       "Hamster                         0.15         0.001406   \n",
       "Chimpanzee                     50.00         0.419981   \n",
       "Rabbit                          1.40         0.011521   \n",
       "Dog_(Beagle)                   10.00         0.071985   \n",
       "Cat                             4.50         0.029982   \n",
       "Rat                             0.40         0.001996   \n",
       "Bottle-Nosed_Dolphin          400.00         1.499985   \n",
       "Beaver                         24.00         0.044996   \n",
       "Gorilla                       320.00         0.502490   \n",
       "Tiger                         170.00         0.263492   \n",
       "Owl                             1.50         0.002223   \n",
       "Camel                         550.00         0.761990   \n",
       "Elephant                     4600.00         5.999984   \n",
       "Lion                          187.00         0.239996   \n",
       "Sheep                         120.00         0.139979   \n",
       "Walrus                        800.00         0.925011   \n",
       "Horse                         450.00         0.502490   \n",
       "Cow                           700.00         0.441481   \n",
       "Giraffe                       950.00         0.532018   \n",
       "Green_Lizard                    0.20         0.000091   \n",
       "Sperm_Whale                 35000.00         7.799974   \n",
       "Turtle                          3.00         0.000318   \n",
       "Alligator                     270.00         0.008391   \n",
       "\n",
       "                      PredictedBrainWeight(kg)  \n",
       "Species                                         \n",
       "Newborn_Human                         0.052822  \n",
       "Adult_Human                           0.246001  \n",
       "Pithecanthropus_Man                   0.240975  \n",
       "Squirrel                              0.026708  \n",
       "Hamster                               0.011722  \n",
       "Chimpanzee                            0.204215  \n",
       "Rabbit                                0.035173  \n",
       "Dog_(Beagle)                          0.092522  \n",
       "Cat                                   0.062467  \n",
       "Rat                                   0.018992  \n",
       "Bottle-Nosed_Dolphin                  0.567990  \n",
       "Beaver                                0.142325  \n",
       "Gorilla                               0.508942  \n",
       "Tiger                                 0.372851  \n",
       "Owl                                   0.036387  \n",
       "Camel                                 0.664316  \n",
       "Elephant                              1.888534  \n",
       "Lion                                  0.390749  \n",
       "Sheep                                 0.314140  \n",
       "Walrus                                0.798775  \n",
       "Horse                                 0.601871  \n",
       "Cow                                   0.747992  \n",
       "Giraffe                               0.869238  \n",
       "Green_Lizard                          0.013505  \n",
       "Sperm_Whale                           5.124645  \n",
       "Turtle                                0.051172  \n",
       "Alligator                             0.468134  "
      ]
     },
     "execution_count": 96,
     "metadata": {},
     "output_type": "execute_result"
    }
   ],
   "source": [
    "predictions_n = predictions[-1].exp().detach().numpy()\n",
    "df = pd.DataFrame({'BodyWeight(kg)'  : data['BodyWeight(kg)'], 'BrainWeight(kg)'  : data['BrainWeight(kg)'], 'PredictedBrainWeight(kg)': predictions_n})\n",
    "df.index = data.index\n",
    "df"
   ]
  },
  {
   "cell_type": "code",
   "execution_count": 97,
   "metadata": {
    "scrolled": true
   },
   "outputs": [],
   "source": [
    "#data_p = pd.concat([data, df['PredictedBrainWeight(kg)']], axis=1)\n",
    "#data_p"
   ]
  },
  {
   "cell_type": "markdown",
   "metadata": {},
   "source": [
    "We can now compare predicted brain weights with actual data. What does it mean that the actual brain weight is bigger than predicted one? Is an animal more clever in that case?"
   ]
  },
  {
   "cell_type": "markdown",
   "metadata": {},
   "source": []
  },
  {
   "cell_type": "markdown",
   "metadata": {},
   "source": [
    "## Homework\n",
    "\n",
    "If you want to practice linear regression, here is another dataset. It describes the relation between weight and average heart rate of various animals. \n",
    "\n",
    "(Tip: try to scale the data, by taking logarithm of both values)"
   ]
  },
  {
   "cell_type": "code",
   "execution_count": 98,
   "metadata": {},
   "outputs": [
    {
     "data": {
      "text/html": [
       "<div>\n",
       "<style scoped>\n",
       "    .dataframe tbody tr th:only-of-type {\n",
       "        vertical-align: middle;\n",
       "    }\n",
       "\n",
       "    .dataframe tbody tr th {\n",
       "        vertical-align: top;\n",
       "    }\n",
       "\n",
       "    .dataframe thead th {\n",
       "        text-align: right;\n",
       "    }\n",
       "</style>\n",
       "<table border=\"1\" class=\"dataframe\">\n",
       "  <thead>\n",
       "    <tr style=\"text-align: right;\">\n",
       "      <th></th>\n",
       "      <th>Average Heart Rate\n",
       "(beats per \n",
       "minute)</th>\n",
       "      <th>Weight\n",
       "(grams)</th>\n",
       "    </tr>\n",
       "    <tr>\n",
       "      <th>Creature</th>\n",
       "      <th></th>\n",
       "      <th></th>\n",
       "    </tr>\n",
       "  </thead>\n",
       "  <tbody>\n",
       "    <tr>\n",
       "      <th>Human</th>\n",
       "      <td>60</td>\n",
       "      <td>90000</td>\n",
       "    </tr>\n",
       "    <tr>\n",
       "      <th>Cat</th>\n",
       "      <td>150</td>\n",
       "      <td>2000</td>\n",
       "    </tr>\n",
       "    <tr>\n",
       "      <th>Small dog</th>\n",
       "      <td>100</td>\n",
       "      <td>2000</td>\n",
       "    </tr>\n",
       "    <tr>\n",
       "      <th>Medium dog</th>\n",
       "      <td>90</td>\n",
       "      <td>5000</td>\n",
       "    </tr>\n",
       "    <tr>\n",
       "      <th>Large dogs:</th>\n",
       "      <td>75</td>\n",
       "      <td>8000</td>\n",
       "    </tr>\n",
       "    <tr>\n",
       "      <th>Hamster</th>\n",
       "      <td>450</td>\n",
       "      <td>60</td>\n",
       "    </tr>\n",
       "    <tr>\n",
       "      <th>Chick</th>\n",
       "      <td>400</td>\n",
       "      <td>50</td>\n",
       "    </tr>\n",
       "    <tr>\n",
       "      <th>Chicken</th>\n",
       "      <td>275</td>\n",
       "      <td>1500</td>\n",
       "    </tr>\n",
       "    <tr>\n",
       "      <th>Monkey</th>\n",
       "      <td>192</td>\n",
       "      <td>5000</td>\n",
       "    </tr>\n",
       "    <tr>\n",
       "      <th>Horse</th>\n",
       "      <td>44</td>\n",
       "      <td>1200000</td>\n",
       "    </tr>\n",
       "    <tr>\n",
       "      <th>Cow</th>\n",
       "      <td>65</td>\n",
       "      <td>800000</td>\n",
       "    </tr>\n",
       "    <tr>\n",
       "      <th>Pig</th>\n",
       "      <td>70</td>\n",
       "      <td>150000</td>\n",
       "    </tr>\n",
       "    <tr>\n",
       "      <th>Rabbit</th>\n",
       "      <td>205</td>\n",
       "      <td>1000</td>\n",
       "    </tr>\n",
       "    <tr>\n",
       "      <th>elephant</th>\n",
       "      <td>30</td>\n",
       "      <td>5000000</td>\n",
       "    </tr>\n",
       "    <tr>\n",
       "      <th>giraffe</th>\n",
       "      <td>65</td>\n",
       "      <td>900000</td>\n",
       "    </tr>\n",
       "    <tr>\n",
       "      <th>large whales</th>\n",
       "      <td>20</td>\n",
       "      <td>120000000</td>\n",
       "    </tr>\n",
       "  </tbody>\n",
       "</table>\n",
       "</div>"
      ],
      "text/plain": [
       "              Average Heart Rate\\n(beats per \\nminute)  Weight\\n(grams)\n",
       "Creature                                                               \n",
       "Human                                               60            90000\n",
       "Cat                                                150             2000\n",
       "Small dog                                          100             2000\n",
       "Medium dog                                          90             5000\n",
       "Large dogs:                                         75             8000\n",
       "Hamster                                            450               60\n",
       "Chick                                              400               50\n",
       "Chicken                                            275             1500\n",
       "Monkey                                             192             5000\n",
       "Horse                                               44          1200000\n",
       "Cow                                                 65           800000\n",
       "Pig                                                 70           150000\n",
       "Rabbit                                             205             1000\n",
       "elephant                                            30          5000000\n",
       "giraffe                                             65           900000\n",
       "large whales                                        20        120000000"
      ]
     },
     "execution_count": 98,
     "metadata": {},
     "output_type": "execute_result"
    }
   ],
   "source": [
    "heart_rate_dataset = pd.read_csv(\"data/Heart_rate_and_weight.csv\", index_col=0)\n",
    "heart_rate_dataset"
   ]
  },
  {
   "cell_type": "markdown",
   "metadata": {},
   "source": [
    "# Non-linear regression\n",
    "\n",
    "### Exercise\n",
    "\n",
    "Which of the following can be described by linear regression:\n",
    "\n",
    "* without any modifications,\n",
    "* by after rescaling *x* or *y*,\n",
    "* cannot be described by linear regression?\n"
   ]
  },
  {
   "cell_type": "code",
   "execution_count": 30,
   "metadata": {},
   "outputs": [],
   "source": [
    "%matplotlib inline\n",
    "\n",
    "from matplotlib import pyplot as plt\n",
    "\n",
    "import torch\n",
    "from torch import nn\n",
    "from torch import tensor\n",
    "from livelossplot import PlotLosses"
   ]
  },
  {
   "cell_type": "code",
   "execution_count": 31,
   "metadata": {},
   "outputs": [
    {
     "data": {
      "text/plain": [
       "[<matplotlib.lines.Line2D at 0x7ffa351effd0>]"
      ]
     },
     "execution_count": 31,
     "metadata": {},
     "output_type": "execute_result"
    },
    {
     "data": {
      "image/png": "[encoded data removed]",
      "text/plain": [
       "<Figure size 432x288 with 1 Axes>"
      ]
     },
     "metadata": {
      "needs_background": "light"
     },
     "output_type": "display_data"
    }
   ],
   "source": [
    "X = torch.linspace(-2., 2., 30).unsqueeze(1)\n",
    "Y = torch.cat([torch.zeros(10),  torch.linspace(0., 1., 10), 1. + torch.zeros(10)], dim=0)\n",
    "plt.plot(X.squeeze().numpy(), Y.numpy(), 'r.')"
   ]
  },
  {
   "cell_type": "code",
   "execution_count": 32,
   "metadata": {},
   "outputs": [],
   "source": [
    "linear_model = nn.Linear(in_features=1, out_features=1)"
   ]
  },
  {
   "cell_type": "code",
   "execution_count": 33,
   "metadata": {},
   "outputs": [],
   "source": [
    "def train(X, Y, model, loss_function, optim, num_epochs):\n",
    "    loss_history = []\n",
    "    \n",
    "    def extra_plot(*args):\n",
    "        plt.plot(X.squeeze(1).numpy(), Y.numpy(), 'r.', label=\"Ground truth\")\n",
    "        plt.plot(X.squeeze(1).numpy(), model(X).detach().numpy(), '-', label=\"Model\")\n",
    "        plt.title(\"Prediction\")\n",
    "        plt.legend(loc='lower right')\n",
    "    \n",
    "    liveloss = PlotLosses(extra_plots=[extra_plot], plot_extrema=False)\n",
    "\n",
    "    for epoch in range(num_epochs):\n",
    "        \n",
    "        epoch_loss = 0.0\n",
    "        \n",
    "        Y_pred = model(X)\n",
    "        loss = loss_function(Y_pred, Y)\n",
    "        \n",
    "        loss.backward()\n",
    "        optim.step()\n",
    "        optim.zero_grad()\n",
    "        \n",
    "        liveloss.update({\n",
    "            'loss': loss.data.item(),\n",
    "        })\n",
    "        liveloss.draw()"
   ]
  },
  {
   "cell_type": "markdown",
   "metadata": {},
   "source": [
    "## Linear model\n",
    "\n",
    "$$y = a x + b$$"
   ]
  },
  {
   "cell_type": "code",
   "execution_count": 34,
   "metadata": {},
   "outputs": [],
   "source": [
    "class Linear(nn.Module):\n",
    "    def __init__(self):\n",
    "        super(Linear, self).__init__()       \n",
    "        self.layer_weights = nn.Parameter(torch.randn(1, 1))\n",
    "        self.layer_bias = nn.Parameter(torch.randn(1))\n",
    "        \n",
    "    def forward(self, x):\n",
    "        return x.matmul(self.layer_weights).add(self.layer_bias).squeeze()"
   ]
  },
  {
   "cell_type": "code",
   "execution_count": 35,
   "metadata": {},
   "outputs": [],
   "source": [
    "linear_model = Linear()\n",
    "optim = torch.optim.SGD(linear_model.parameters(), lr=0.03)\n",
    "loss_function = nn.MSELoss()"
   ]
  },
  {
   "cell_type": "code",
   "execution_count": 36,
   "metadata": {},
   "outputs": [
    {
     "data": {
      "text/plain": [
       "[Parameter containing:\n",
       " tensor([[0.9003]], requires_grad=True), Parameter containing:\n",
       " tensor([-0.0237], requires_grad=True)]"
      ]
     },
     "execution_count": 36,
     "metadata": {},
     "output_type": "execute_result"
    }
   ],
   "source": [
    "list(linear_model.parameters())"
   ]
  },
  {
   "cell_type": "code",
   "execution_count": 37,
   "metadata": {},
   "outputs": [
    {
     "data": {
      "text/plain": [
       "tensor([-1.8243, -1.7001, -1.5759, -1.4518, -1.3276, -1.2034, -1.0792, -0.9550,\n",
       "        -0.8308, -0.7067, -0.5825, -0.4583, -0.3341, -0.2099, -0.0857,  0.0384,\n",
       "         0.1626,  0.2868,  0.4110,  0.5352,  0.6594,  0.7835,  0.9077,  1.0319,\n",
       "         1.1561,  1.2803,  1.4045,  1.5286,  1.6528,  1.7770],\n",
       "       grad_fn=<SqueezeBackward0>)"
      ]
     },
     "execution_count": 37,
     "metadata": {},
     "output_type": "execute_result"
    }
   ],
   "source": [
    "linear_model(X)"
   ]
  },
  {
   "cell_type": "code",
   "execution_count": 38,
   "metadata": {},
   "outputs": [
    {
     "data": {
      "image/png": "[encoded data removed]",
      "text/plain": [
       "<Figure size 864x576 with 2 Axes>"
      ]
     },
     "metadata": {
      "needs_background": "light"
     },
     "output_type": "display_data"
    }
   ],
   "source": [
    "train(X, Y, linear_model, loss_function, optim, num_epochs=50)"
   ]
  },
  {
   "cell_type": "markdown",
   "metadata": {},
   "source": [
    "## Nonlinear\n",
    "\n",
    "$$ x \\mapsto h \\mapsto y$$"
   ]
  },
  {
   "cell_type": "code",
   "execution_count": 39,
   "metadata": {},
   "outputs": [],
   "source": [
    "class Nonlinear(nn.Module):\n",
    "    def __init__(self, hidden_size=2):\n",
    "        super(Nonlinear, self).__init__()\n",
    "        \n",
    "        self.layer_1_weights = nn.Parameter(torch.randn(1, hidden_size))\n",
    "        self.layer_1_bias = nn.Parameter(torch.randn(hidden_size)) \n",
    "        \n",
    "        self.layer_2_weights = nn.Parameter(torch.randn(hidden_size, 1) ) \n",
    "        self.layer_2_bias = nn.Parameter(torch.randn(1))\n",
    "        \n",
    "    def forward(self, x):\n",
    "        x = x.matmul(self.layer_1_weights).add(self.layer_1_bias)\n",
    "        x = x.relu()\n",
    "        x = x.matmul(self.layer_2_weights).add(self.layer_2_bias)\n",
    "        return x.squeeze()\n",
    "    \n",
    "    def nonrandom_init(self):\n",
    "        self.layer_1_weights.data = tensor([[1.1, 0.8]])\n",
    "        self.layer_1_bias.data = tensor([0.5 , -0.7]) \n",
    "        self.layer_2_weights.data = tensor([[0.3], [-0.7]])\n",
    "        self.layer_2_bias.data = tensor([0.2])"
   ]
  },
  {
   "cell_type": "code",
   "execution_count": 40,
   "metadata": {},
   "outputs": [],
   "source": [
    "nonlinear_model = Nonlinear(hidden_size=2)\n",
    "nonlinear_model.nonrandom_init()\n",
    "\n",
    "optim = torch.optim.SGD(nonlinear_model.parameters(), lr=0.2)\n",
    "#optim = torch.optim.Adam(nonlinear_model.parameters(), lr=0.1)\n",
    "loss_function = nn.MSELoss()"
   ]
  },
  {
   "cell_type": "code",
   "execution_count": 41,
   "metadata": {
    "scrolled": true
   },
   "outputs": [
    {
     "data": {
      "image/png": "[encoded data removed]",
      "text/plain": [
       "<Figure size 864x576 with 2 Axes>"
      ]
     },
     "metadata": {
      "needs_background": "light"
     },
     "output_type": "display_data"
    }
   ],
   "source": [
    "train(X, Y, nonlinear_model, loss_function, optim, num_epochs=200)"
   ]
  },
  {
   "cell_type": "code",
   "execution_count": 43,
   "metadata": {},
   "outputs": [],
   "source": [
    "class NonlinearSigmoid2(nn.Module):\n",
    "    def __init__(self, hidden_size=2):\n",
    "        super(NonlinearSigmoid2, self).__init__()\n",
    "        \n",
    "        self.layer_1_weights = nn.Parameter(torch.randn(1, hidden_size))\n",
    "        self.layer_1_bias = nn.Parameter(torch.randn(hidden_size))\n",
    "        \n",
    "        self.layer_2_weights = nn.Parameter(torch.randn(hidden_size, 1))\n",
    "        self.layer_2_bias = nn.Parameter(torch.randn(1))\n",
    "        \n",
    "    def forward(self, x):\n",
    "        x = x.matmul(self.layer_1_weights).add(self.layer_1_bias)\n",
    "        x = x.sigmoid()\n",
    "        x = x.matmul(self.layer_2_weights).add(self.layer_2_bias)\n",
    "        x = x.sigmoid()\n",
    "        return x.squeeze()"
   ]
  },
  {
   "cell_type": "code",
   "execution_count": 44,
   "metadata": {},
   "outputs": [
    {
     "data": {
      "text/plain": [
       "[<matplotlib.lines.Line2D at 0x7ffa3462bd90>]"
      ]
     },
     "execution_count": 44,
     "metadata": {},
     "output_type": "execute_result"
    },
    {
     "data": {
      "image/png": "[encoded data removed]",
      "text/plain": [
       "<Figure size 432x288 with 1 Axes>"
      ]
     },
     "metadata": {
      "needs_background": "light"
     },
     "output_type": "display_data"
    }
   ],
   "source": [
    "X1 = torch.linspace(-2., 2., 30).unsqueeze(1)\n",
    "Y1 = torch.cat([torch.zeros(10), 1. + torch.zeros(10),  torch.zeros(10)], dim=0)\n",
    "plt.plot(X1.squeeze().numpy(), Y1.numpy(), 'r.')"
   ]
  },
  {
   "cell_type": "code",
   "execution_count": 45,
   "metadata": {},
   "outputs": [
    {
     "data": {
      "image/png": "[encoded data removed]",
      "text/plain": [
       "<Figure size 864x576 with 2 Axes>"
      ]
     },
     "metadata": {
      "needs_background": "light"
     },
     "output_type": "display_data"
    }
   ],
   "source": [
    "nonlinear_model = NonlinearSigmoid2(hidden_size=2)\n",
    "optim = torch.optim.Adam(nonlinear_model.parameters(), lr=0.1)\n",
    "loss_function = nn.MSELoss()\n",
    "train(X1, Y1, nonlinear_model, loss_function, optim, num_epochs=100)"
   ]
  },
  {
   "cell_type": "markdown",
   "metadata": {},
   "source": [
    "## Nonlinear model - by hand"
   ]
  },
  {
   "cell_type": "code",
   "execution_count": 46,
   "metadata": {},
   "outputs": [],
   "source": [
    "my_nonlinear_model = Nonlinear(hidden_size=2)"
   ]
  },
  {
   "cell_type": "code",
   "execution_count": 47,
   "metadata": {},
   "outputs": [],
   "source": [
    "my_nonlinear_model.layer_1_weights.data = tensor([[1. , 1.]])\n",
    "my_nonlinear_model.layer_1_bias.data = tensor([1. , -1.])"
   ]
  },
  {
   "cell_type": "code",
   "execution_count": 48,
   "metadata": {},
   "outputs": [
    {
     "data": {
      "text/plain": [
       "tensor([[0.0000, 0.0000],\n",
       "        [0.0000, 0.0000],\n",
       "        [0.0000, 0.0000],\n",
       "        [0.0000, 0.0000],\n",
       "        [0.0000, 0.0000],\n",
       "        [0.0000, 0.0000],\n",
       "        [0.0000, 0.0000],\n",
       "        [0.0000, 0.0000],\n",
       "        [0.1034, 0.0000],\n",
       "        [0.2414, 0.0000],\n",
       "        [0.3793, 0.0000],\n",
       "        [0.5172, 0.0000],\n",
       "        [0.6552, 0.0000],\n",
       "        [0.7931, 0.0000],\n",
       "        [0.9310, 0.0000],\n",
       "        [1.0690, 0.0000],\n",
       "        [1.2069, 0.0000],\n",
       "        [1.3448, 0.0000],\n",
       "        [1.4828, 0.0000],\n",
       "        [1.6207, 0.0000],\n",
       "        [1.7586, 0.0000],\n",
       "        [1.8966, 0.0000],\n",
       "        [2.0345, 0.0345],\n",
       "        [2.1724, 0.1724],\n",
       "        [2.3103, 0.3103],\n",
       "        [2.4483, 0.4483],\n",
       "        [2.5862, 0.5862],\n",
       "        [2.7241, 0.7241],\n",
       "        [2.8621, 0.8621],\n",
       "        [3.0000, 1.0000]], grad_fn=<ReluBackward0>)"
      ]
     },
     "execution_count": 48,
     "metadata": {},
     "output_type": "execute_result"
    }
   ],
   "source": [
    "X.matmul(my_nonlinear_model.layer_1_weights).add(my_nonlinear_model.layer_1_bias).relu()"
   ]
  },
  {
   "cell_type": "code",
   "execution_count": 49,
   "metadata": {},
   "outputs": [],
   "source": [
    "my_nonlinear_model.layer_2_weights.data = tensor([[0.5], [-0.5]])\n",
    "my_nonlinear_model.layer_2_bias.data = tensor([0.])"
   ]
  },
  {
   "cell_type": "code",
   "execution_count": 50,
   "metadata": {},
   "outputs": [
    {
     "data": {
      "text/plain": [
       "tensor([0.0000, 0.0000, 0.0000, 0.0000, 0.0000, 0.0000, 0.0000, 0.0000, 0.0517,\n",
       "        0.1207, 0.1897, 0.2586, 0.3276, 0.3966, 0.4655, 0.5345, 0.6034, 0.6724,\n",
       "        0.7414, 0.8103, 0.8793, 0.9483, 1.0000, 1.0000, 1.0000, 1.0000, 1.0000,\n",
       "        1.0000, 1.0000, 1.0000], grad_fn=<SqueezeBackward0>)"
      ]
     },
     "execution_count": 50,
     "metadata": {},
     "output_type": "execute_result"
    }
   ],
   "source": [
    "my_nonlinear_model(X)"
   ]
  },
  {
   "cell_type": "code",
   "execution_count": 51,
   "metadata": {},
   "outputs": [
    {
     "data": {
      "text/plain": [
       "[<matplotlib.lines.Line2D at 0x7ffa34510810>]"
      ]
     },
     "execution_count": 51,
     "metadata": {},
     "output_type": "execute_result"
    },
    {
     "data": {
      "image/png": "[encoded data removed]",
      "text/plain": [
       "<Figure size 432x288 with 1 Axes>"
      ]
     },
     "metadata": {
      "needs_background": "light"
     },
     "output_type": "display_data"
    }
   ],
   "source": [
    "plt.plot(X.squeeze(1).numpy(), Y.numpy(), 'r.')\n",
    "plt.plot(X.squeeze(1).numpy(), my_nonlinear_model(X).detach().numpy(), '-')"
   ]
  },
  {
   "cell_type": "markdown",
   "metadata": {},
   "source": [
    "### Normal Equations\n",
    "Although we solved for the line of best fit using stochastic gradient descent,\n",
    "we could have also used the [Normal Equations](https://en.wikipedia.org/wiki/Linear_least_squares#Derivation_of_the_normal_equations) given by\n",
    "\n",
    "$$ \\theta = (X^T X)^{-1} X^T \\vec y$$\n",
    "\n",
    "where $\\theta$ is the vector we called `a` in the linear regression code above"
   ]
  },
  {
   "cell_type": "code",
   "execution_count": null,
   "metadata": {
    "ExecuteTime": {
     "end_time": "2019-05-02T00:57:18.751491Z",
     "start_time": "2019-05-02T00:57:18.743154Z"
    }
   },
   "outputs": [],
   "source": [
    "# Exercise:\n",
    "# Use pytorch to solve for theta using the normal equations\n",
    "# plot your result when you are finished\n",
    "\n",
    "# HINT:\n",
    "# matrix inverse in pytorch: x.inverse()\n",
    "# matrix transpose in pytorch: torch.t(x)\n",
    "\n",
    "# Code goes here\n"
   ]
  },
  {
   "cell_type": "markdown",
   "metadata": {},
   "source": [
    "# Neural Nets"
   ]
  },
  {
   "cell_type": "markdown",
   "metadata": {},
   "source": [
    "Neural networks (NNs) are special forms of nonlinear regressions where the decision system for which the NN is built mimics the way \n",
    "the brain is supposed to work (whether it works like a NN is up for grabs of course).\n",
    "\n",
    "Like many of the algorithms we have seen before, it is a supervised learning technique that can perform complex tasks."
   ]
  },
  {
   "cell_type": "markdown",
   "metadata": {},
   "source": [
    "## Perceptrons"
   ]
  },
  {
   "cell_type": "markdown",
   "metadata": {},
   "source": [
    "The basic building block of a neural network is a perceptron. A perceptron is like a neuron in a human brain. It takes inputs \n",
    "(e.g. sensory in a real brain) and then produces an output signal. An entire network of perceptrons is called a neural net.\n",
    "\n",
    "![linear regression](data/img/NN_perceptron.png)"
   ]
  },
  {
   "cell_type": "markdown",
   "metadata": {},
   "source": [
    "In general, a perceptron could have more or fewer inputs."
   ]
  },
  {
   "cell_type": "markdown",
   "metadata": {},
   "source": [
    "Instead of assigning equal weight to each of the inputs, we can assign real numbers $w_1, w_2, \\ldots$ expressing the importance of the respective inputs to the output. The nueron's output, 0 or 1, is determined whether the weighted sum $\\sum_j w_j x_j$ is less than or greater than some *threshold value*.\n",
    "\n",
    "Perceptrons may emit continuous signals or binary $(0,1)$ signals. In the case of a credit card application, the final perceptron is a binary one (approved or denied). Such perceptrons are implemented by means of squashing functions. For example, a really simple squashing function is one that issues a 1 if the function value is positive and a $-1$ if it is negative."
   ]
  },
  {
   "cell_type": "markdown",
   "metadata": {},
   "source": [
    "To put this in more mathematical terms, let $z = \\sum_{j=0}^n w_j x_j$ . \n",
    "Then the *activation function* $\\phi(z)$ is defined as \n",
    "\n",
    "$$\n",
    "\\phi(z) =\n",
    "\\begin{cases}\n",
    "-1 & \\text{if } z < \\theta\\\\\n",
    " 1 & \\text{if } z \\geq \\theta\n",
    "\\end{cases}\n",
    "$$"
   ]
  },
  {
   "cell_type": "markdown",
   "metadata": {},
   "source": [
    "![](data/img/activation-function.png)"
   ]
  },
  {
   "cell_type": "markdown",
   "metadata": {},
   "source": [
    "The whole point of the perceptron is to mimic how a single nueron in the brain works: it either *fires* or it doesn't. Thus, the \n",
    "perceptron rule is fairly simple and can be summarized by the following steps.\n",
    "​\n",
    "* Initialize the weights to zero or small random numbers\n",
    "* For each training sample $\\textbf{x}_n$ perform the following steps:\n",
    "    * Compute the output value $y$\n",
    "    * Calculate error in $y$ vs $\\hat y$\n",
    "    * Update the weights\n",
    "  \n",
    "Here, the output value is the class label predicted by the activation function that we defined earlier, and the\n",
    "simultaneous update of weight $w_j$ in the weight vector $\\textbf{w}$ can be more formally written as\n",
    "​\n",
    "$$\\bar w_j = w_j + \\Delta w_j$$\n"
   ]
  },
  {
   "cell_type": "markdown",
   "metadata": {},
   "source": [
    "## Fitting a model\n",
    "\n",
    "Let's go back to our linear perceptron. It has the following parameters:\n",
    "\n",
    "* $x_i$: inputs\n",
    "* $y$ : output\n",
    "* $w_i$: learned weights\n",
    "\n",
    "What we would like to do is adjust the $w_i$'s until our model has the best fit.\n",
    "\n",
    "First, initialize the $w_i$'s in some meaningful way (usually they're drawn from a randon uniform distribution).\n",
    "\n",
    "Then, we put it into our usual **algorithm workflow:**\n",
    "\n",
    "* calculate prediction $\\hat y$\n",
    "* calculate Loss function $L(y, \\hat y)$\n",
    "* update weights using backpropagation\n",
    "\n",
    "### Loss function and backpropagation\n",
    "\n",
    "To figure out how well our prediction was during each epoch, we'll use a basic loss function, mean squared error (MSE):\n",
    "\n",
    "$L(y,\\hat{y}) = ||~ y-\\hat{y} ~||^2$,\n",
    "\n",
    "ultimately trying to find $L_{\\rm min}$, defined by the point in parameter space where $\\nabla_{w_i} L = 0$.\n",
    "\n",
    "Per-iteration update: \n",
    "\n",
    "$ w_i \\to w_i - \\eta \\nabla_{w_i} L $,\n",
    "\n",
    "where $\\eta$ is known as the learning rate; too small and takes very long to converge, too big and you oscillate about the minimum.\n"
   ]
  },
  {
   "cell_type": "markdown",
   "metadata": {},
   "source": [
    "## A basic example\n",
    "​\n",
    "We'll build an overly complex adding machine that will illustrate how neural nets work."
   ]
  },
  {
   "cell_type": "code",
   "execution_count": null,
   "metadata": {},
   "outputs": [],
   "source": [
    "model = nn.Sequential(\n",
    "    nn.Linear(2, 1, bias=False))\n",
    "\n",
    "optimizer = torch.optim.Adam(model.parameters())\n",
    "criterion = nn.MSELoss()\n",
    "print(model)"
   ]
  },
  {
   "cell_type": "code",
   "execution_count": null,
   "metadata": {},
   "outputs": [],
   "source": [
    "total_loss = []\n",
    "num_samples = 10000\n",
    "\n",
    "for num in range(num_samples):\n",
    "    # Progress bar indicator\n",
    "    if num % (num_samples//5) == 0:\n",
    "        print('{0}: %: {1:.3f}'.format(num,num/num_samples * 100))\n",
    "        \n",
    "    # data prep\n",
    "    x = 4*torch.rand(2) #generate two random numbers uniformly on (0,4)\n",
    "    data, target = Variable(x), Variable(x[0] + x[1])\n",
    "    \n",
    "    # Feed forward through NN\n",
    "    output = model(data)\n",
    "    loss = criterion(output, target)\n",
    "    total_loss.append(loss)\n",
    "    \n",
    "    # Backpropagation\n",
    "    optimizer.zero_grad()\n",
    "    loss.backward()\n",
    "    optimizer.step()"
   ]
  },
  {
   "cell_type": "code",
   "execution_count": null,
   "metadata": {},
   "outputs": [],
   "source": [
    "fig,ax=plt.subplots(figsize=(11,8))\n",
    "ax.plot(total_loss,marker='.',ls='',markersize=1.)\n",
    "ax.set_ylim(0,);ax.set_xlim(0,);ax.grid(alpha=0.2);\n",
    "ax.set_xlabel('training examples');ax.set_ylabel('mean squared loss');"
   ]
  },
  {
   "cell_type": "code",
   "execution_count": null,
   "metadata": {},
   "outputs": [],
   "source": [
    "x,y=np.linspace(-5,8,100),[]\n",
    "\n",
    "for xx in x:\n",
    "    yy=model(torch.tensor([xx,2])).data.cpu().numpy()[0]\n",
    "    y.append(yy)\n",
    "y=np.array(y)\n",
    "\n",
    "fig,ax=plt.subplots(figsize=(11,8))\n",
    "ax.plot([-5,8],[-3,10],lw=2.0,label='actual',alpha=0.7)\n",
    "ax.fill_betweenx([-3,10],0,4,alpha=0.2)\n",
    "ax.scatter(x,y,marker='.',s=3.,label='prediction',color='r')\n",
    "ax.text(0.2,0,'Where we have \\ntraining data')\n",
    "ax.legend()\n",
    "ax.set_ylim(-3,10);ax.set_xlim(-5,8);\n",
    "ax.grid(alpha=0.2);\n"
   ]
  },
  {
   "cell_type": "markdown",
   "metadata": {},
   "source": [
    "## Feedforward Neural Network\n",
    "\n",
    "![General Feed Forward Network](data/img/neural_net_123.png)\n",
    "\n",
    "For our case of learning linear relationships, the modification to the linear regression architecture is depicted below:\n",
    "\n",
    "\n",
    "![non-linear activation](data/img/linear_regression_activation.png)\n",
    "\n",
    "where\n",
    "\n",
    "$$\\varphi(z) = \\frac{1}{1+e^{-z}}$$\n",
    "\n",
    "is the so-called sigmoid function; this is typically the activation function that is first introduced, I think because of historical reasons. In modern practice, it finds most of its use in transforming single outputs from a NN into a probability. It's worth noting that if your NN will output multiple probabilities, for example, if your NN will categorize between black cats, red cats, white cats, etc., a multi-dimensional generalization of the sigmoid, called the softmax function, is typically used. \n",
    "\n",
    "The motivation behind adding an activation function is the hope that the NN model may capture non-linear relationships that exist in the data. Below are some commonly used activation functions. \n",
    "\n",
    "![activation functions](data/img/activation_function_list.png)\n",
    "\n",
    "In practice, a lot of architectures use the rectified linear unit (ReLU), along with it's close cousin, the so-called leaky-ReLU. In introducing this idea though, we'll focus on the sigmoid which maps real numbers from $(-\\infty,\\infty) \\to [0,1]$.\n",
    "\n",
    "Of course our data is linear in the case of a straight line (!) but let's see what happens if we try to force a non-linear activation layer to capture a linear relationship.."
   ]
  },
  {
   "cell_type": "markdown",
   "metadata": {},
   "source": [
    "## Non-linear model for a linear relationship\n",
    "\n",
    "### Deep Feedforward Network with sigmoid activation"
   ]
  },
  {
   "cell_type": "code",
   "execution_count": null,
   "metadata": {
    "ExecuteTime": {
     "end_time": "2019-05-02T00:26:19.752876Z",
     "start_time": "2019-05-02T00:26:19.742303Z"
    }
   },
   "outputs": [],
   "source": [
    "model = nn.Sequential(\n",
    "            nn.Linear(2, 20),\n",
    "            nn.Sigmoid(),\n",
    "            nn.Linear(20, 20),\n",
    "            nn.Sigmoid(),\n",
    "            nn.Linear(20, 20),\n",
    "            nn.Sigmoid(),\n",
    "            nn.Linear(20, 1))\n",
    "\n",
    "optimizer = torch.optim.Adam(model.parameters())\n",
    "criterion = nn.MSELoss()\n",
    "print(model)"
   ]
  },
  {
   "cell_type": "code",
   "execution_count": null,
   "metadata": {
    "ExecuteTime": {
     "end_time": "2019-05-02T00:47:02.232283Z",
     "start_time": "2019-05-02T00:46:52.792621Z"
    }
   },
   "outputs": [],
   "source": [
    "total_loss = []\n",
    "num_samples = 10000\n",
    "\n",
    "for num in range(num_samples):\n",
    "    # Progress bar indicator\n",
    "    if num % (num_samples//5) == 0:\n",
    "        print('{0}: %: {1:.3f}'.format(num,num/num_samples * 100))\n",
    "        \n",
    "    # data prep\n",
    "    x = 4*torch.rand(2) #generate two random numbers uniformly on (0,4)\n",
    "    data, target = Variable(x), Variable(x[0] + x[1])\n",
    "    \n",
    "    # Feed forward through NN\n",
    "    output = model(data)\n",
    "    loss = criterion(output, target)\n",
    "    total_loss.append(loss)\n",
    "    \n",
    "    # Backpropagation\n",
    "    optimizer.zero_grad()\n",
    "    loss.backward()\n",
    "    optimizer.step()"
   ]
  },
  {
   "cell_type": "code",
   "execution_count": null,
   "metadata": {
    "ExecuteTime": {
     "end_time": "2019-05-02T00:47:24.128293Z",
     "start_time": "2019-05-02T00:47:23.259386Z"
    }
   },
   "outputs": [],
   "source": [
    "fig,ax=plt.subplots(figsize=(11,8))\n",
    "ax.plot(total_loss,marker='.',ls='',markersize=.8)\n",
    "ax.set_ylim(0,);ax.set_xlim(0,);ax.grid(alpha=0.2);\n",
    "ax.set_xlabel('training examples');ax.set_ylabel('mean squared loss');\n",
    "\n",
    "x,y=np.linspace(-5,8,100),[]\n",
    "\n",
    "for xx in x:\n",
    "    yy=model(torch.tensor([xx,2])).data.cpu().numpy()[0]\n",
    "    y.append(yy)\n",
    "y=np.array(y)\n",
    "\n",
    "fig,ax=plt.subplots(figsize=(11,8))\n",
    "ax.plot([-5,8],[-3,10],lw=2.0,label='actual',alpha=0.7)\n",
    "ax.fill_betweenx([-3,10],0,4,alpha=0.2)\n",
    "ax.scatter(x,y,marker='.',s=3.,label='prediction',color='r')\n",
    "ax.text(0.2,0,'Where we have \\ntraining data')\n",
    "ax.legend()\n",
    "ax.set_ylim(-3,10);ax.set_xlim(-5,8);\n",
    "ax.grid(alpha=0.2);\n",
    "ax.set_title('Sigmoid activation function');"
   ]
  },
  {
   "cell_type": "markdown",
   "metadata": {},
   "source": [
    "## ReLU activation function"
   ]
  },
  {
   "cell_type": "code",
   "execution_count": null,
   "metadata": {},
   "outputs": [],
   "source": [
    "model = nn.Sequential(\n",
    "            nn.Linear(2, 20),\n",
    "            nn.ReLU(),\n",
    "            nn.Linear(20, 20),\n",
    "            nn.ReLU(),\n",
    "            nn.Linear(20, 20),\n",
    "            nn.ReLU(),\n",
    "            nn.Linear(20, 1))\n",
    "\n",
    "optimizer = torch.optim.Adam(model.parameters())\n",
    "criterion = nn.MSELoss()\n",
    "print(model)"
   ]
  },
  {
   "cell_type": "code",
   "execution_count": null,
   "metadata": {},
   "outputs": [],
   "source": [
    "total_loss = []\n",
    "num_samples = 10000\n",
    "\n",
    "for num in range(num_samples):\n",
    "    # Progress bar indicator\n",
    "    if num % (num_samples//5) == 0:\n",
    "        print('{0}: %: {1:.3f}'.format(num,num/num_samples * 100))\n",
    "        \n",
    "    # data prep\n",
    "    x = 4*torch.rand(2) #generate two random numbers uniformly on (0,4)\n",
    "    data, target = Variable(x), Variable(x[0] + x[1])\n",
    "    \n",
    "    # Feed forward through NN\n",
    "    output = model(data)\n",
    "    loss = criterion(output, target)\n",
    "    total_loss.append(loss)\n",
    "    \n",
    "    # Backpropagation\n",
    "    optimizer.zero_grad()\n",
    "    loss.backward()\n",
    "    optimizer.step()"
   ]
  },
  {
   "cell_type": "code",
   "execution_count": null,
   "metadata": {},
   "outputs": [],
   "source": [
    "fig,ax=plt.subplots(figsize=(11,8))\n",
    "ax.plot(total_loss,marker='.',ls='',markersize=.8)\n",
    "ax.set_ylim(0,);ax.set_xlim(0,);ax.grid(alpha=0.2);\n",
    "ax.set_xlabel('training examples');ax.set_ylabel('mean squared loss');\n",
    "\n",
    "x,y=np.linspace(-5,8,100),[]\n",
    "\n",
    "for xx in x:\n",
    "    yy=model(torch.tensor([xx,2])).data.cpu().numpy()[0]\n",
    "    y.append(yy)\n",
    "y=np.array(y)\n",
    "\n",
    "fig,ax=plt.subplots(figsize=(11,8))\n",
    "ax.plot([-5,8],[-3,10],lw=2.0,label='actual',alpha=0.7)\n",
    "ax.fill_betweenx([-3,10],0,4,alpha=0.2)\n",
    "ax.scatter(x,y,marker='.',s=3.,label='prediction',color='r')\n",
    "ax.text(0.2,0,'Where we have \\ntraining data')\n",
    "ax.legend()\n",
    "ax.set_ylim(-3,10);ax.set_xlim(-5,8);\n",
    "ax.grid(alpha=0.2);\n",
    "ax.set_title('ReLu activation function');"
   ]
  },
  {
   "cell_type": "markdown",
   "metadata": {},
   "source": [
    "## Teaching a machine to draw circles\n",
    "\n",
    "Here the NN learns attempts to learn the 2d rotation matrix, parameterized by the generator of rotations in two dimensions:\n",
    "\n",
    "$R={\\begin{bmatrix}\\cos \\theta &-\\sin \\theta \\\\\\sin \\theta &\\cos \\theta \\\\\\end{bmatrix}}$"
   ]
  },
  {
   "cell_type": "code",
   "execution_count": null,
   "metadata": {
    "ExecuteTime": {
     "end_time": "2019-04-30T05:42:28.228388Z",
     "start_time": "2019-04-30T05:42:28.187133Z"
    }
   },
   "outputs": [],
   "source": [
    "# First some helper functions for plotting and model training\n",
    "device = torch.device(\"cuda:0\" if torch.cuda.is_available() else \"cpu\")\n",
    "def train_models(models, optimizers, num_samples=1000, circle_interval=1.0, save_models=False, cuda=torch.cuda.is_available(), recurrent=False):\n",
    "    total_loss = []\n",
    "    for num in range(num_samples):\n",
    "        # progress indicator \n",
    "        if num % (num_samples//20) ==0:\n",
    "            print('{0}: %: {1:.3f}'.format(num, num/num_samples * 100))\n",
    "            \n",
    "        # data calc \n",
    "        # take a random point on the circle of radius 1\n",
    "        x, theta = torch.ones(2), circle_interval*2*np.pi*torch.rand(1)\n",
    "        R = torch.zeros(2,2)\n",
    "        R[0,:] = torch.Tensor([np.cos(theta[0]),-np.sin(theta[0])])\n",
    "        R[1,:] = torch.Tensor([np.sin(theta[0]), np.cos(theta[0])])\n",
    "        \n",
    "        data, target = Variable(theta), Variable(torch.mv(R,x))\n",
    "        \n",
    "        # Check if GPU can be used\n",
    "        if cuda:\n",
    "            data, target = data.cuda(), target.cuda()\n",
    "            \n",
    "        # learning phases \n",
    "        for idx, model in enumerate(models):\n",
    "            loss_iter = []\n",
    "            # forward \n",
    "            if recurrent:\n",
    "                output = model(data,None)\n",
    "            else:\n",
    "                output = model(data)\n",
    "            loss = criterion(output, target)\n",
    "            loss_iter.append(loss.data.item())\n",
    "            # backward \n",
    "            optimizers[idx].zero_grad()\n",
    "            loss.backward()\n",
    "            optimizers[idx].step()\n",
    "        total_loss.append(np.mean(loss_iter))\n",
    "        \n",
    "    # save model state \n",
    "    if save_models:\n",
    "        for l,model in enumerate(models):\n",
    "            torch.save(model.state_dict(), 'rotations_{}.pth'.format(l))\n",
    "    return total_loss,theta\n",
    "        \n",
    "def plot_circles(models, offset=0, CI=False):\n",
    "    fig, axes = plt.subplots(figsize=(5*3,3.9),ncols=3)\n",
    "    x = torch.ones(2)\n",
    "    for k,ax in enumerate(axes):\n",
    "        ax.scatter(x[0],x[1], facecolors='none', edgecolors='r')\n",
    "        ax.scatter(x[0],x[1], facecolors='none', edgecolors='b')\n",
    "        x_real, y_real = [],[]\n",
    "        x_mean, y_mean = [],[]\n",
    "        x_std, y_std = [],[]\n",
    "        for theta in np.linspace((k+offset) *2*np.pi,(k+1+offset) *2*np.pi,300):\n",
    "            x_model,y_model = [],[]\n",
    "            # sythetic (real) data \n",
    "            data = Variable(torch.Tensor([theta]))#.cuda()\n",
    "            R = torch.zeros(2,2)\n",
    "            R[0,:] = torch.Tensor([np.cos(theta),-np.sin(theta)])\n",
    "            R[1,:] = torch.Tensor([np.sin(theta), np.cos(theta)])\n",
    "            real = torch.mv(R,x)\n",
    "            x_real.append(real[0].numpy())\n",
    "            y_real.append(real[1].numpy())\n",
    "            # predict w/ all models \n",
    "            for model in models:\n",
    "                if torch.cuda.is_available():\n",
    "                    model.cpu()\n",
    "                    outputs=model(data).data\n",
    "                    xx_model, yy_model = outputs[0],outputs[1]\n",
    "                    x_model.append(xx_model.numpy())\n",
    "                    y_model.append(yy_model.numpy())\n",
    "                else:\n",
    "                    outputs=model(data).data\n",
    "                    xx_model, yy_model = outputs[0],outputs[1]\n",
    "                    x_model.append(xx_model.numpy())\n",
    "                    y_model.append(yy_model.numpy())\n",
    "            # summarize all model predictions \n",
    "            x_mean.append(np.mean(x_model))\n",
    "            y_mean.append(np.mean(y_model))\n",
    "            x_std.append(np.std(x_model))\n",
    "            y_std.append(np.std(y_model))\n",
    "        # plotting data \n",
    "        ax.scatter(x_real,y_real, facecolors='none', edgecolors='r',label='real data',s=2.)\n",
    "        ax.scatter(x_mean,y_mean, facecolors='none', edgecolors='k',label='model data', alpha=0.9,s=2.)\n",
    "        if CI:\n",
    "            ax.fill_betweenx(y_mean,x_mean-3*np.array(x_std),x_mean+3*np.array(x_std), alpha=0.1,color='b')\n",
    "            ax.fill_between(x_mean,y_mean-3*np.array(y_std),y_mean+3*np.array(y_std), alpha=0.1,color='b')\n",
    "        ax.legend()\n",
    "        ax.set_ylim(-2,2);ax.set_xlim(-2,2);ax.grid(alpha=0.3)\n",
    "        ax.set_title(r'${}\\pi \\leq \\theta \\leq {}\\pi$'.format(2*(k+offset),2*(k+1+offset)),y=1.01);\n",
    "    \n",
    "    return x_mean, y_mean, np.array(x_std), np.array(y_std)\n",
    "        \n",
    "def weight_init(m): # so-called xavier normalization https://arxiv.org/abs/1211.5063\n",
    "    if isinstance(m, nn.Linear):\n",
    "        size = m.weight.size()\n",
    "        fan_out = size[0]\n",
    "        fan_in = size[1]\n",
    "        variance = np.sqrt(2.0/(fan_in + fan_out))\n",
    "        m.weight.data.normal_(0.0, variance)"
   ]
  },
  {
   "cell_type": "code",
   "execution_count": null,
   "metadata": {
    "ExecuteTime": {
     "end_time": "2019-04-30T05:47:50.984630Z",
     "start_time": "2019-04-30T05:45:17.951543Z"
    }
   },
   "outputs": [],
   "source": [
    "num_nodes=10\n",
    "\n",
    "# Usually we define neural nets as a class in pytorch\n",
    "class Rotations(nn.Module):\n",
    "    def __init__(self):\n",
    "        super(Rotations, self).__init__()\n",
    "        self.layer1 = nn.Sequential(\n",
    "            nn.Linear(1,num_nodes),\n",
    "            nn.Sigmoid(),\n",
    "            nn.Linear(num_nodes,2))      \n",
    "    def forward(self, x):\n",
    "        out=self.layer1(x)\n",
    "        return out\n",
    "\n",
    "model = Rotations().to(device)\n",
    "optimizer = torch.optim.Adam(model.parameters())\n",
    "criterion = nn.MSELoss()\n",
    "print(model)\n",
    "\n",
    "total_loss, theta = train_models([model], [optimizer], num_samples=200000, circle_interval=2.0)\n",
    "\n",
    "fig,ax = plt.subplots(figsize=(11,8))\n",
    "ax.plot(total_loss,marker='.',ls='',markersize=.8)\n",
    "ax.set_ylim(0,);ax.set_xlim(0,);ax.grid(alpha=0.2);\n",
    "ax.set_xlabel('training examples');ax.set_ylabel('mean squared loss');\n",
    "\n",
    "output=plot_circles([model],offset=0,CI=False)"
   ]
  },
  {
   "cell_type": "markdown",
   "metadata": {},
   "source": [
    "### Will a deeper network perform better?"
   ]
  },
  {
   "cell_type": "code",
   "execution_count": null,
   "metadata": {
    "ExecuteTime": {
     "end_time": "2019-04-30T06:05:29.936212Z",
     "start_time": "2019-04-30T06:00:59.778558Z"
    }
   },
   "outputs": [],
   "source": [
    "# Add more layers to the model and see if performance on the test set increases\n",
    "num_nodes=10\n",
    "class Rotations(nn.Module):\n",
    "    def __init__(self):\n",
    "        super(Rotations, self).__init__()\n",
    "        self.layer1 = nn.Sequential(\n",
    "            nn.Linear(1,num_nodes),\n",
    "            nn.Sigmoid(),\n",
    "            nn.Linear(num_nodes,num_nodes),\n",
    "            nn.Sigmoid(),\n",
    "            nn.Linear(num_nodes,num_nodes),\n",
    "            nn.Sigmoid(),\n",
    "            nn.Linear(num_nodes,2))      \n",
    "    def forward(self, x):\n",
    "        out=self.layer1(x)\n",
    "        return out\n",
    "\n",
    "model=Rotations().to(device)\n",
    "optimizer=torch.optim.Adam(model.parameters())\n",
    "criterion=nn.MSELoss()\n",
    "print(model)\n",
    "\n",
    "total_loss,theta=train_models([model],[optimizer],num_samples=150000,circle_interval=2.0)\n",
    "\n",
    "fig,ax=plt.subplots(figsize=(7,5))\n",
    "ax.plot(total_loss,marker='.',ls='',markersize=.8)\n",
    "ax.set_ylim(0,);ax.set_xlim(0,);ax.grid(alpha=0.2);\n",
    "ax.set_xlabel('training examples');ax.set_ylabel('mean squared loss');\n",
    "\n",
    "output=plot_circles([model],offset=0,CI=False)"
   ]
  },
  {
   "cell_type": "markdown",
   "metadata": {},
   "source": [
    "## Bayesian approach"
   ]
  },
  {
   "cell_type": "markdown",
   "metadata": {},
   "source": [
    "One simple approach to apply the bayesian method described by Yarin Gal, is to take multiple of the same models and train them independently. This allows each model to take independent paths through parameter space, usually finding their way near some optimal minima. In practice, this allows you to hedge the risk of getting stuck in some local minima and missing out on the global one, if it exists. \n",
    "\n",
    "A visual way of understanding the situation of training a machine learning model, in general, is by considering a 3D surface plot where the x and y dimensions are two parameters you may modify, with the loss on the z axis, or height, which your aim is to minimize. \n",
    "\n",
    "![landscape of deep learning models](data/img/graphical-idea-backprop.png)\n",
    "\n",
    "The surface that the data carves out in this space is predicated by the data; the aim of the model design is then to build a model flexible and robust enough to find the global minima, but not overly complex enough to overfit and get stuck at a local minima. Also, if your model is too simple, it can skip right over all the minima altogether, and not learn the nuance of the process described by the data. Having too high/low of a learning rate can also make the training process difficult."
   ]
  },
  {
   "cell_type": "markdown",
   "metadata": {},
   "source": [
    "# Image Recognition and Transfer Learning\n",
    "\n",
    "![Convolutional Architecture](data/img/cnn_architecture.png)"
   ]
  },
  {
   "cell_type": "code",
   "execution_count": null,
   "metadata": {
    "ExecuteTime": {
     "end_time": "2019-04-30T06:06:43.622057Z",
     "start_time": "2019-04-30T06:06:41.147690Z"
    }
   },
   "outputs": [],
   "source": [
    "# Transforms in PyTorch allow us to make transformations to images in the\n",
    "# order in which they're written.\n",
    "\n",
    "# e.g., below, we load an image, store it as a tensor, and normalize the values\n",
    "\n",
    "transform = transforms.Compose(\n",
    "    [transforms.ToTensor(),\n",
    "     transforms.Normalize((0.5, 0.5, 0.5), (0.5, 0.5, 0.5))])\n",
    "\n",
    "\n",
    "# download the CIFAR10 dataset\n",
    "trainset = torchvision.datasets.CIFAR10(root='./data', train=True,\n",
    "                                        download=True, transform=transform)\n",
    "trainloader = torch.utils.data.DataLoader(trainset, batch_size=4,\n",
    "                                          shuffle=True, num_workers=2)\n",
    "\n",
    "# setting train=False downloads the validation set\n",
    "testset = torchvision.datasets.CIFAR10(root='./data', train=False,\n",
    "                                       download=True, transform=transform)\n",
    "testloader = torch.utils.data.DataLoader(testset, batch_size=4,\n",
    "                                         shuffle=False, num_workers=2)\n",
    "\n",
    "classes = ('plane', 'car', 'bird', 'cat',\n",
    "           'deer', 'dog', 'frog', 'horse', 'ship', 'truck')"
   ]
  },
  {
   "cell_type": "code",
   "execution_count": null,
   "metadata": {
    "ExecuteTime": {
     "end_time": "2019-04-30T06:07:07.023913Z",
     "start_time": "2019-04-30T06:07:07.018256Z"
    }
   },
   "outputs": [],
   "source": [
    "# functions to show an image\n",
    "def imshow(img):\n",
    "    img = img / 2 + 0.5     # unnormalize\n",
    "    npimg = img.numpy()\n",
    "    plt.imshow(np.transpose(npimg, (1, 2, 0)))"
   ]
  },
  {
   "cell_type": "code",
   "execution_count": null,
   "metadata": {
    "ExecuteTime": {
     "end_time": "2019-04-30T06:07:10.209986Z",
     "start_time": "2019-04-30T06:07:07.974608Z"
    }
   },
   "outputs": [],
   "source": [
    "# get some random training images\n",
    "dataiter = iter(trainloader)\n",
    "images, labels = dataiter.next()\n",
    "\n",
    "# show images\n",
    "imshow(torchvision.utils.make_grid(images))"
   ]
  },
  {
   "cell_type": "code",
   "execution_count": null,
   "metadata": {
    "ExecuteTime": {
     "end_time": "2019-04-30T06:07:12.237746Z",
     "start_time": "2019-04-30T06:07:12.223104Z"
    }
   },
   "outputs": [],
   "source": [
    "# what are the labels?\n",
    "print(' '.join('%5s' % classes[labels[j]] for j in range(4)))"
   ]
  },
  {
   "cell_type": "code",
   "execution_count": null,
   "metadata": {
    "ExecuteTime": {
     "end_time": "2019-04-30T06:07:15.082789Z",
     "start_time": "2019-04-30T06:07:15.065502Z"
    }
   },
   "outputs": [],
   "source": [
    "# Build our first image recognition NN\n",
    "import torch.nn.functional as F\n",
    "class myFirstCNN(nn.Module):\n",
    "    def __init__(self):\n",
    "        super(myFirstCNN, self).__init__()\n",
    "        self.conv1 = nn.Conv2d(3, 6, 5)\n",
    "        self.pool = nn.MaxPool2d(2, 2)\n",
    "        self.conv2 = nn.Conv2d(6, 16, 5)\n",
    "        self.fc1 = nn.Linear(16 * 5 * 5, 120)\n",
    "        self.fc2 = nn.Linear(120, 84)\n",
    "        self.fc3 = nn.Linear(84, 10)\n",
    "        \n",
    "    def forward(self, x):\n",
    "        x = self.pool(F.relu(self.conv1(x)))\n",
    "        x = self.pool(F.relu(self.conv2(x)))\n",
    "        x = x.view(-1, 16 * 5 * 5) # same as reshape\n",
    "        x = F.relu(self.fc1(x))\n",
    "        x = F.relu(self.fc2(x))\n",
    "        x = self.fc3(x)\n",
    "        return x"
   ]
  },
  {
   "cell_type": "code",
   "execution_count": null,
   "metadata": {
    "ExecuteTime": {
     "end_time": "2019-04-30T06:07:17.832929Z",
     "start_time": "2019-04-30T06:07:17.823074Z"
    }
   },
   "outputs": [],
   "source": [
    "model = myFirstCNN()\n",
    "\n",
    "criterion = nn.CrossEntropyLoss()\n",
    "optimizer = torch.optim.SGD(model.parameters(), lr=0.001, momentum=0.9)"
   ]
  },
  {
   "cell_type": "code",
   "execution_count": null,
   "metadata": {
    "ExecuteTime": {
     "end_time": "2019-04-30T06:11:24.017028Z",
     "start_time": "2019-04-30T06:07:20.705128Z"
    }
   },
   "outputs": [],
   "source": [
    "# running for short epochs to minimize compute time\n",
    "for epoch in range(3):  # loop over the dataset multiple times\n",
    "\n",
    "    running_loss = 0.0\n",
    "    for i, data in enumerate(trainloader, 0):\n",
    "        # get the inputs\n",
    "        inputs, labels = data\n",
    "\n",
    "        # zero the parameter gradients\n",
    "        optimizer.zero_grad()\n",
    "\n",
    "        # forward + backward + optimize\n",
    "        outputs = model(inputs)\n",
    "        loss = criterion(outputs, labels)\n",
    "        loss.backward()\n",
    "        optimizer.step()\n",
    "\n",
    "        # print statistics\n",
    "        running_loss += loss.item()\n",
    "        if i % 2000 == 1999:    # print every 2000 mini-batches\n",
    "            print('[%d, %5d] loss: %.3f' %\n",
    "                  (epoch + 1, i + 1, running_loss / 2000))\n",
    "            running_loss = 0.0\n",
    "\n",
    "print('Finished Training')"
   ]
  },
  {
   "cell_type": "code",
   "execution_count": null,
   "metadata": {},
   "outputs": [],
   "source": [
    "dataiter = iter(testloader)\n",
    "images, labels = dataiter.next()\n",
    "\n",
    "# print images\n",
    "imshow(torchvision.utils.make_grid(images))"
   ]
  },
  {
   "cell_type": "code",
   "execution_count": null,
   "metadata": {},
   "outputs": [],
   "source": [
    "print('GroundTruth:', ' '.join('%5s' % classes[labels[j]] for j in range(4)))"
   ]
  },
  {
   "cell_type": "code",
   "execution_count": null,
   "metadata": {},
   "outputs": [],
   "source": [
    "outputs = model(images)"
   ]
  },
  {
   "cell_type": "code",
   "execution_count": null,
   "metadata": {},
   "outputs": [],
   "source": [
    "_, predicted = torch.max(outputs, 1)\n",
    "\n",
    "print('Predicted: ', ' '.join('%5s' % classes[predicted[j]]\n",
    "                              for j in range(4)))"
   ]
  },
  {
   "cell_type": "code",
   "execution_count": null,
   "metadata": {},
   "outputs": [],
   "source": [
    "correct = 0\n",
    "total = 0\n",
    "with torch.no_grad():\n",
    "    for data in testloader:\n",
    "        images, labels = data\n",
    "        outputs = imagenet(images)\n",
    "        _, predicted = torch.max(outputs.data, 1)\n",
    "        total += labels.size(0)\n",
    "        correct += (predicted == labels).sum().item()\n",
    "\n",
    "print('Accuracy of the network on the 10000 test images: %d %%' % (\n",
    "    100 * correct / total))\n"
   ]
  },
  {
   "cell_type": "markdown",
   "metadata": {},
   "source": [
    "## Transfer Learning\n",
    "\n",
    "Transfer learning is one of the most surprising and useful discoveries to come out of the computer vision community. Stated simply, transfer learning allows one model that was trained on different types of images, e.g. dogs vs cats, to be used for a different set of images, e.g. planes vs trains, while reducing the training time dramatically. When Google released ImageNet, they stated it took them over 24 hours to train the model on some of the most powerful GPUs available at the time. Now, with transfer learning, we will train a model in less than 5 minutes.\n"
   ]
  },
  {
   "cell_type": "markdown",
   "metadata": {},
   "source": [
    "The philosophy behind transfer learning is simple. We keep the \"base\" layers of a model frozen since the weights have already been tuned to identify patterns such as lines, circles, and other shapes, and insert layers at the end that will be tuned for the specific task at hand.\n",
    "\n",
    "![](data/img/NN_vision.png)\n",
    "\n",
    "![](data/img/transfer_learning.png)\n",
    "\n",
    "\n",
    "For our task, let's take a look at the King and Queen of the Miami food scene: \n",
    "\n",
    "**The Cuban Sandwich**  \n",
    "\n",
    "![](data/img/cubano.jpg)\n",
    "\n",
    "**The Stuffed Arepa**\n",
    "\n",
    "![](data/img/arepa.jpg)"
   ]
  },
  {
   "cell_type": "code",
   "execution_count": null,
   "metadata": {
    "ExecuteTime": {
     "end_time": "2019-04-29T13:46:28.719471Z",
     "start_time": "2019-04-29T13:46:28.704878Z"
    }
   },
   "outputs": [],
   "source": [
    "#normalize = transforms.Normalize(mean=[0.485, 0.456, 0.406],\n",
    "#                                 std=[0.229, 0.224, 0.225])\n",
    " \n",
    "data_transforms = {\n",
    "    'train':\n",
    "        transforms.Compose([\n",
    "            transforms.Resize((224,224)),\n",
    "            transforms.RandomAffine(0, shear=10, scale=(0.8,1.2)),\n",
    "            transforms.RandomHorizontalFlip(),\n",
    "            transforms.ToTensor()]),\n",
    "    'validation':\n",
    "        transforms.Compose([\n",
    "            transforms.Resize((224,224)),\n",
    "            transforms.ToTensor()])}\n",
    " \n",
    "image_datasets = {\n",
    "    'train':\n",
    "        datasets.ImageFolder('data/cva_data/train', data_transforms['train']),\n",
    "    'validation':\n",
    "        datasets.ImageFolder('data/cva_data/validation', data_transforms['validation'])}\n",
    " \n",
    "dataloaders = {\n",
    "    'train':\n",
    "        torch.utils.data.DataLoader(\n",
    "            image_datasets['train'],\n",
    "            batch_size=32,\n",
    "            shuffle=True,\n",
    "            num_workers=4),\n",
    "    'validation':\n",
    "        torch.utils.data.DataLoader(\n",
    "            image_datasets['validation'],\n",
    "            batch_size=32,\n",
    "            shuffle=False,\n",
    "            num_workers=4)}"
   ]
  },
  {
   "cell_type": "code",
   "execution_count": null,
   "metadata": {
    "ExecuteTime": {
     "end_time": "2019-05-02T01:28:02.580919Z",
     "start_time": "2019-05-02T01:28:01.614605Z"
    }
   },
   "outputs": [],
   "source": [
    "device = torch.device(\"cuda:0\" if torch.cuda.is_available() else \"cpu\")\n",
    " \n",
    "model = models.resnet50(pretrained=True).to(device)\n",
    " \n",
    "for param in model.parameters():\n",
    "    param.requires_grad = False\n",
    "    \n",
    "# modify the final layer of resnet50 (called 'fc')\n",
    "# originally model.fc = nn.Linear(2048, 1000) for the 1000 image classes\n",
    "# we modify it to our specific needs\n",
    "\n",
    "model.fc = nn.Sequential(\n",
    "    nn.Linear(2048, 128),\n",
    "    # inplace=True is a shortcut to not modify the forward method \n",
    "    nn.ReLU(inplace=True),\n",
    "    nn.Linear(128, 2)).to(device)\n",
    " \n",
    "criterion = nn.CrossEntropyLoss()\n",
    "optimizer = torch.optim.Adam(model.fc.parameters())"
   ]
  },
  {
   "cell_type": "code",
   "execution_count": null,
   "metadata": {},
   "outputs": [],
   "source": [
    "def train_model(model, criterion, optimizer, num_epochs=3):\n",
    "    for epoch in range(num_epochs):\n",
    "        print(f'Epoch {epoch + 1}/{num_epochs}')\n",
    "        print('-' * 10)\n",
    "\n",
    "        for phase in ['train', 'validation']:\n",
    "            if phase == 'train':\n",
    "                model.train()\n",
    "            else:\n",
    "                model.eval()\n",
    " \n",
    "            running_loss = 0.0\n",
    "            running_corrects = 0\n",
    " \n",
    "            for inputs, labels in dataloaders[phase]:\n",
    "                inputs = inputs.to(device)\n",
    "                labels = labels.to(device)\n",
    " \n",
    "                outputs = model(inputs)\n",
    "                loss = criterion(outputs, labels)\n",
    " \n",
    "                if phase == 'train':\n",
    "                    optimizer.zero_grad()\n",
    "                    loss.backward()\n",
    "                    optimizer.step()\n",
    " \n",
    "                _, preds = torch.max(outputs, 1)\n",
    "                running_loss += loss.item() * inputs.size(0)\n",
    "                running_corrects += torch.sum(preds == labels.data)\n",
    " \n",
    "            epoch_loss = running_loss / len(image_datasets[phase])\n",
    "            epoch_acc = running_corrects.double() / len(image_datasets[phase])\n",
    " \n",
    "            print(f'{phase} loss: {epoch_loss}, acc: {epoch_acc}')\n",
    "    return model\n",
    " \n",
    "model_trained = train_model(model, criterion, optimizer, num_epochs=3)"
   ]
  },
  {
   "cell_type": "markdown",
   "metadata": {},
   "source": [
    "### Saving Models"
   ]
  },
  {
   "cell_type": "code",
   "execution_count": null,
   "metadata": {},
   "outputs": [],
   "source": [
    "torch.save(model_trained.state_dict(),'models/cva_weights.h5')"
   ]
  },
  {
   "cell_type": "markdown",
   "metadata": {},
   "source": [
    "### Loading Models"
   ]
  },
  {
   "cell_type": "code",
   "execution_count": null,
   "metadata": {
    "ExecuteTime": {
     "end_time": "2019-04-29T13:47:11.945605Z",
     "start_time": "2019-04-29T13:47:11.110004Z"
    }
   },
   "outputs": [],
   "source": [
    "model = models.resnet50(pretrained=False).to(device)\n",
    "model.fc = nn.Sequential(\n",
    "    nn.Linear(2048, 128),\n",
    "    nn.ReLU(inplace=True),\n",
    "    nn.Linear(128, 2)).to(device)\n",
    "model.load_state_dict(torch.load('models/cva_weights.h5'))\n",
    "model.eval() # stop training model"
   ]
  },
  {
   "cell_type": "markdown",
   "metadata": {},
   "source": [
    "### Make predictions on test images"
   ]
  },
  {
   "cell_type": "code",
   "execution_count": null,
   "metadata": {
    "ExecuteTime": {
     "end_time": "2019-04-29T13:47:15.486794Z",
     "start_time": "2019-04-29T13:47:15.441762Z"
    }
   },
   "outputs": [],
   "source": [
    "validation_img_paths = [\"data/cva_data/validation/arepas/00000165.jpg\",\n",
    "                        \"data/cva_data/validation/cubanos/00000037.jpg\",\n",
    "                        \"data/cva_data/validation/cubanos/00000061.jpg\",\n",
    "                        \"data/cva_data/validation/arepas/00000003.jpeg\"]\n",
    "img_list = [Image.open(img_path) for img_path in validation_img_paths]\n"
   ]
  },
  {
   "cell_type": "code",
   "execution_count": null,
   "metadata": {
    "ExecuteTime": {
     "end_time": "2019-04-29T13:54:38.976494Z",
     "start_time": "2019-04-29T13:54:37.385606Z"
    }
   },
   "outputs": [],
   "source": [
    "validation_batch = torch.stack([data_transforms['validation'](img).to(device)\n",
    "                                for img in img_list])\n",
    " \n",
    "pred_logits_tensor = model(validation_batch)\n",
    "pred_probs = F.softmax(pred_logits_tensor, dim=1).cpu().data.numpy()"
   ]
  },
  {
   "cell_type": "code",
   "execution_count": null,
   "metadata": {
    "ExecuteTime": {
     "end_time": "2019-04-29T13:54:40.651430Z",
     "start_time": "2019-04-29T13:54:40.088288Z"
    }
   },
   "outputs": [],
   "source": [
    "fig, axs = plt.subplots(1, len(img_list), figsize=(20, 5))\n",
    "for i, img in enumerate(img_list):\n",
    "    ax = axs[i]\n",
    "    ax.axis('off')\n",
    "    ax.set_title(\"{:.0f}% Arepa, {:.0f}% Cubano\".format(100*pred_probs[i,0],\n",
    "                                                          100*pred_probs[i,1]))\n",
    "    ax.imshow(img)\n"
   ]
  },
  {
   "cell_type": "markdown",
   "metadata": {},
   "source": [
    "# CNN from Scratch"
   ]
  },
  {
   "cell_type": "markdown",
   "metadata": {},
   "source": [
    "###  `Datasets` and `Dataloaders`\n",
    "\n",
    "In PyTorch, you'll usually create or import a `Dataset` subclass to represent your data. Once you've done that, you can use it to instantiate a `Dataloader` object which allows you to easily iterate over your training set in `BATCH_SIZE` chunks."
   ]
  },
  {
   "cell_type": "code",
   "execution_count": null,
   "metadata": {
    "ExecuteTime": {
     "end_time": "2019-05-01T15:23:01.483803Z",
     "start_time": "2019-05-01T15:22:52.888024Z"
    }
   },
   "outputs": [],
   "source": [
    "image_size = 28\n",
    "num_classes = 10\n",
    "num_channels = 1\n",
    "batch_size = 64\n",
    "id_to_label = {\n",
    "    0 :'T-shirt/top',\n",
    "    1 :'Trouser',\n",
    "    2 :'Pullover',\n",
    "    3 :'Dress',\n",
    "    4 :'Coat',\n",
    "    5 :'Sandal',\n",
    "    6 :'Shirt',\n",
    "    7 :'Sneaker',\n",
    "    8 :'Bag',\n",
    "    9 :'Ankle boot'}\n",
    "\n",
    "\n",
    "class FashionDataset(Dataset):\n",
    "\n",
    "    def __init__(self, path, \n",
    "                 image_size, num_channels, image_transform=None):\n",
    "        self.num_channels = num_channels\n",
    "        self.image_size = image_size\n",
    "        self.image_transform = image_transform\n",
    "        data_df = pd.read_csv(path)\n",
    "        self.X = data_df.values[:, 1:]\n",
    "        self.X = self.X.reshape(-1, image_size, image_size, num_channels)\n",
    "        self.X = self.X.astype('float32')\n",
    "        self.y = data_df.values[:, 0]\n",
    "        \n",
    "    def __getitem__(self, index):\n",
    "        batch_X, batch_y = self.X[index], self.y[index]\n",
    "        if self.image_transform is not None:\n",
    "            batch_X = self.image_transform(batch_X)\n",
    "        return batch_X, batch_y\n",
    "\n",
    "    def __len__(self):\n",
    "        return len(self.X)\n",
    "\n",
    "# This simple transform coverts the image from an numpy array\n",
    "# to a PyTorch tensor and remaps its values from 0-255 to 0-1. \n",
    "# Many other types of transformations are available, and they \n",
    "# can easily be composed into a pipeline. For more info see: \n",
    "# https://pytorch.org/docs/stable/torchvision/transforms.html\n",
    "image_transform = transforms.Compose([transforms.ToTensor()])\n",
    "\n",
    "train_dataset = FashionDataset(\n",
    "    'fashionmnist/fashion-mnist_train.csv', \n",
    "    image_size, \n",
    "    num_channels, \n",
    "    image_transform)\n",
    "\n",
    "train_dataloader = DataLoader(\n",
    "    dataset=train_dataset,\n",
    "    batch_size=batch_size,\n",
    "    shuffle=True)\n",
    "\n",
    "val_dataset = FashionDataset(\n",
    "    'fashionmnist/fashion-mnist_test.csv', \n",
    "    image_size, \n",
    "    num_channels, \n",
    "    image_transform)\n",
    "\n",
    "val_dataloader = DataLoader(\n",
    "    dataset=train_dataset,\n",
    "    batch_size=batch_size)"
   ]
  },
  {
   "cell_type": "markdown",
   "metadata": {},
   "source": [
    "### Show some examples from the training set"
   ]
  },
  {
   "cell_type": "code",
   "execution_count": null,
   "metadata": {
    "ExecuteTime": {
     "end_time": "2019-05-02T01:58:53.841592Z",
     "start_time": "2019-05-02T01:58:53.065507Z"
    }
   },
   "outputs": [],
   "source": [
    "def plot_images(data, labels, image_size):\n",
    "    fig, axes = plt.subplots(\n",
    "        1, data.shape[0], figsize=(16, 4), \n",
    "        subplot_kw={'xticks':[], 'yticks':[]},\n",
    "        gridspec_kw=dict(hspace=0.1, wspace=0.1))\n",
    "    for i, ax in enumerate(axes.flat):\n",
    "        ax.imshow(data[i].reshape(image_size, image_size), cmap='binary')\n",
    "        ax.set_xlabel(labels[i])\n",
    "        \n",
    "images = train_dataset.X[:10]\n",
    "class_ids = train_dataset.y[:10]\n",
    "class_labels = [id_to_label[class_id] for class_id in class_ids]\n",
    "plot_images(images, class_labels, image_size)"
   ]
  },
  {
   "cell_type": "markdown",
   "metadata": {},
   "source": [
    "## Modeling"
   ]
  },
  {
   "cell_type": "markdown",
   "metadata": {},
   "source": [
    "This baseline network uses a single convolution with only 4 filters. Because of the simplicity of our dataset, it still manages to achieve nearly 90% accuracy after only 5 epochs.\n",
    "\n",
    "Experiment and see if you can increase the accuracy on the validation set to above 95%.\n",
    "\n",
    "Things you might try:\n",
    "\n",
    "* Increasing the number of filters per convolution.\n",
    "* Adding more convolutions.\n",
    "* Adding a `BatchNorm2d` layer after `Conv2d`.\n",
    "* Increasing the number of epochs.\n",
    "* Changing the kernel size.\n",
    "* Using different types of pooling or using stride > 1 in convolutional layers instead of pooling.\n",
    "\n",
    "You might also find the [PyTorch API reference](https://pytorch.org/docs/stable/nn.html) useful."
   ]
  },
  {
   "cell_type": "code",
   "execution_count": null,
   "metadata": {
    "ExecuteTime": {
     "end_time": "2019-05-02T02:14:36.037653Z",
     "start_time": "2019-05-02T02:14:36.019257Z"
    }
   },
   "outputs": [],
   "source": [
    "class FashionModel(nn.Module):\n",
    "    \n",
    "    def __init__(self, num_channels, num_classes):\n",
    "        super().__init__()\n",
    "        self.conv_1 = nn.Sequential(\n",
    "            nn.Conv2d(1, 16, kernel_size=3, stride=1, padding=1),\n",
    "            nn.BatchNorm2d(16),\n",
    "            nn.ReLU(inplace=True),\n",
    "            nn.MaxPool2d(kernel_size=2, stride=2, padding=0))\n",
    "        # Add more conv2d layers\n",
    "        # recall that the input size for the new layer is 16! \n",
    "        # Make the outputs 32 and 64 to create 3 total convolution layers\n",
    "        \n",
    "        \n",
    "        \n",
    "        # code goes here\n",
    "        \n",
    "        # to determine the correct inputs for the last layer you'll need the formulas: \n",
    "        # output_size of conv2d = (image_width - kernel_size + 2*padding)/stride + 1\n",
    "        # output_size of maxpool = (output_size of conv2d - kernel_size + 2*padding)/stride + 1\n",
    "        \n",
    "        # then it's the number of size of output, e.g., 16, 32, 64, times the output size of maxpool\n",
    "        # example with first conv layer:\n",
    "        # image_width = 28 (our images are square otherwise we would have to do this for width/height independently)\n",
    "        # image width after convolution = (28 - 3 + 2*1)/1 + 1 = 28\n",
    "        # image width after maxpool = (28 - 2 + 2*0)/2 + 1 = 14\n",
    "        # so since we have 16 output channels, our input to the linear layer is 14 * 14 * 16\n",
    "        \n",
    "        self.linear = nn.Linear(14 * 14 * 16, num_classes)\n",
    "        \n",
    "    def forward(self, x):\n",
    "        x = self.conv_1(x)\n",
    "        # Uncomment as more convolution layers are added\n",
    "#         x = self.conv_2(x)\n",
    "#         x = self.conv_3(x)\n",
    "        x = x.reshape(x.size(0), -1)\n",
    "        x = self.linear(x)\n",
    "        return x\n",
    "\n",
    "\n",
    "# Instantiate the model.    \n",
    "model = FashionModel(num_channels, num_classes)\n",
    "\n",
    "# Send the model's tensors to the GPU if available.\n",
    "device = torch.device('cuda' if torch.cuda.is_available() else 'cpu')\n",
    "model = model.to(device)    "
   ]
  },
  {
   "cell_type": "markdown",
   "metadata": {},
   "source": [
    "## Training"
   ]
  },
  {
   "cell_type": "code",
   "execution_count": null,
   "metadata": {
    "ExecuteTime": {
     "end_time": "2019-05-02T02:14:51.121614Z",
     "start_time": "2019-05-02T02:14:42.815674Z"
    }
   },
   "outputs": [],
   "source": [
    "num_epochs = 10\n",
    "log_freq = 100\n",
    "checkpoint_path = 'checkpoint.pickle'\n",
    "\n",
    "\n",
    "optimizer = torch.optim.Adam(model.parameters())\n",
    "criterion = nn.CrossEntropyLoss()\n",
    "for epoch in range(1, num_epochs + 1):\n",
    "    model.train()  # Switch to training mode.\n",
    "    print(f'Starting epoch {epoch}.')\n",
    "    epoch_start_time = time.time()\n",
    "    running_loss = 0.0\n",
    "    running_accuracy = 0.0\n",
    "    for batch_id, (batch_X, batch_y) in enumerate(train_dataloader):\n",
    "        batch_X = batch_X.to(device)\n",
    "        batch_y = batch_y.to(device)\n",
    "        output = model(batch_X)\n",
    "        loss = criterion(output, batch_y)\n",
    "        optimizer.zero_grad()\n",
    "        loss.backward()\n",
    "        optimizer.step()\n",
    "        \n",
    "        # Periodically print the loss and prediction accuracy.\n",
    "        running_loss += loss.item()\n",
    "        y_pred = output.argmax(dim=-1)\n",
    "        running_accuracy += accuracy_score(batch_y.cpu(), y_pred.cpu())\n",
    "        if batch_id % log_freq == log_freq - 1:\n",
    "            average_loss = running_loss / log_freq\n",
    "            average_accuracy = running_accuracy / log_freq\n",
    "            print(f'Mini-batch: {batch_id + 1}/{len(train_dataloader)} '\n",
    "                  f'Loss: {average_loss:.5f} Accuracy: {average_accuracy:.5f}')\n",
    "            running_loss = 0.0\n",
    "            running_accuracy = 0.0\n",
    "            \n",
    "    # Log elapsed_time for the epoch.            \n",
    "    elapsed_time = time.time() - epoch_start_time\n",
    "    print(f'\\nEpoch {epoch} completed in {elapsed_time // 60:.0f} minutes '\n",
    "          f'{elapsed_time % 60:.0f} seconds.')\n",
    "    \n",
    "    # Calculate and log loss on validation set.\n",
    "    with torch.no_grad():\n",
    "        model.eval()\n",
    "        running_loss = 0.0\n",
    "        running_accuracy = 0.0\n",
    "        for batch_id, (batch_X, batch_y) in enumerate(val_dataloader):\n",
    "            batch_X = batch_X.to(device)\n",
    "            batch_y = batch_y.to(device)\n",
    "            output = model(batch_X)\n",
    "            loss = criterion(output, batch_y)\n",
    "            running_loss += loss.item()\n",
    "            y_pred = output.argmax(dim=-1)  \n",
    "            running_accuracy += accuracy_score(batch_y.cpu(), y_pred.cpu())\n",
    "        average_loss = running_loss / len(val_dataloader)\n",
    "        average_accuracy = running_accuracy / len(val_dataloader)\n",
    "        print(f'Val Loss: {average_loss:.5f} Val Accuracy: {average_accuracy:.5f}\\n')"
   ]
  },
  {
   "cell_type": "markdown",
   "metadata": {},
   "source": [
    "# RNN Character Level Generation\n",
    "\n",
    "Text generation is a fun way to familiarize yourself with Recurrent Neural Nets.\n",
    "\n",
    "In this notebook, we will deal with **character-level** text generation and why they can be just as useful as word-level text generation.\n",
    "\n",
    "For this example, we'll be using text files to generate code similar to our input. In other words, if we put in Trump tweets, our generator should output words that sound like Trump.\n",
    "\n",
    "### Our current understanding of RNNs\n",
    "![](data/img/LSTM_next_character.png)\n",
    "\n",
    "\n",
    "### Reminder\n",
    "\n",
    "![](data/img/rnn_unrolling.png)\n",
    "\n",
    "#### \"RNNs have a hidden state that feeds back into the cell at the next time step\""
   ]
  },
  {
   "cell_type": "markdown",
   "metadata": {},
   "source": [
    "## What is actually going on?\n",
    "\n",
    "### Example with sequence length 5"
   ]
  },
  {
   "cell_type": "markdown",
   "metadata": {},
   "source": [
    "![](data/img/rnn_forward.png)"
   ]
  },
  {
   "cell_type": "markdown",
   "metadata": {},
   "source": [
    "### What about the backwards pass?"
   ]
  },
  {
   "cell_type": "markdown",
   "metadata": {},
   "source": [
    "![](data/img/rnn_backward.png)"
   ]
  },
  {
   "cell_type": "markdown",
   "metadata": {},
   "source": [
    "## Preprocessing"
   ]
  },
  {
   "cell_type": "code",
   "execution_count": null,
   "metadata": {},
   "outputs": [],
   "source": [
    "# install unidecode\n",
    "!pip install unidecode"
   ]
  },
  {
   "cell_type": "code",
   "execution_count": null,
   "metadata": {
    "ExecuteTime": {
     "end_time": "2019-04-30T21:57:47.121064Z",
     "start_time": "2019-04-30T21:57:47.113879Z"
    }
   },
   "outputs": [],
   "source": [
    "# Read in text and change unicode characters to ASCII\n",
    "import unidecode\n",
    "import string\n",
    "import random\n",
    "import re\n",
    "\n",
    "all_characters = string.printable\n",
    "n_characters = len(all_characters)"
   ]
  },
  {
   "cell_type": "code",
   "execution_count": null,
   "metadata": {
    "ExecuteTime": {
     "end_time": "2019-04-30T21:57:48.885409Z",
     "start_time": "2019-04-30T21:57:48.873437Z"
    }
   },
   "outputs": [],
   "source": [
    "# read in file to train RNN\n",
    "file = unidecode.unidecode(open('data/shakespeare.txt').read())\n",
    "file_len = len(file)\n",
    "print(f'file_len = {file_len}')"
   ]
  },
  {
   "cell_type": "markdown",
   "metadata": {},
   "source": [
    "To give our model inputs from this large string of text, we'll split it up into chunks"
   ]
  },
  {
   "cell_type": "code",
   "execution_count": null,
   "metadata": {
    "ExecuteTime": {
     "end_time": "2019-04-30T21:57:52.871182Z",
     "start_time": "2019-04-30T21:57:52.861252Z"
    }
   },
   "outputs": [],
   "source": [
    "chunk_len = 400\n",
    "\n",
    "def random_chunk():\n",
    "    start_index = random.randint(0, file_len - chunk_len)\n",
    "    end_index = start_index + chunk_len + 1\n",
    "    return file[start_index:end_index]\n",
    "\n",
    "print(random_chunk())"
   ]
  },
  {
   "cell_type": "markdown",
   "metadata": {},
   "source": [
    "## Build Model\n",
    "\n",
    "This model will take as input the character for step $t$ and is expected to output the next character for step $t+1$. There are three layers - one linear layer that encodes the input character into an internal state, one GRU layer (which may itself have multiple layers) that operates on that internal state and a hidden state, and a decoder layer that outputs the probability distribution."
   ]
  },
  {
   "cell_type": "code",
   "execution_count": null,
   "metadata": {
    "ExecuteTime": {
     "end_time": "2019-04-30T21:58:21.474477Z",
     "start_time": "2019-04-30T21:58:21.464818Z"
    }
   },
   "outputs": [],
   "source": [
    "class RNN(nn.Module):\n",
    "    def __init__(self, input_size, hidden_size, output_size, n_layers=1):\n",
    "        super(RNN, self).__init__()\n",
    "        self.input_size = input_size\n",
    "        self.hidden_size = hidden_size\n",
    "        self.output_size = output_size\n",
    "        self.n_layers = n_layers\n",
    "        \n",
    "        self.encoder = nn.Embedding(input_size, hidden_size)\n",
    "        self.gru = nn.GRU(hidden_size, hidden_size, n_layers)\n",
    "        self.decoder = nn.Linear(hidden_size, output_size)\n",
    "        \n",
    "    def forward(self, input, hidden):\n",
    "        output = self.encoder(input.view(1, -1))\n",
    "        output, hidden = self.gru(output.view(1, 1, -1), hidden)\n",
    "        output = self.decoder(output.view(1, -1))\n",
    "        \n",
    "        return output, hidden\n",
    "    \n",
    "    def init_hidden(self):\n",
    "        return Variable(torch.randn(self.n_layers, 1, self.hidden_size))"
   ]
  },
  {
   "cell_type": "markdown",
   "metadata": {},
   "source": [
    "## Inputs and Targets\n",
    "\n",
    "Now that we've defined our model, we need to give it both input data, via our chunks, and our target data. Each character is one-hot encoded to the vocab size "
   ]
  },
  {
   "cell_type": "code",
   "execution_count": null,
   "metadata": {
    "ExecuteTime": {
     "end_time": "2019-04-30T21:58:24.169426Z",
     "start_time": "2019-04-30T21:58:24.161142Z"
    }
   },
   "outputs": [],
   "source": [
    "def char2tensor(string):\n",
    "    tensor = torch.zeros(len(string)).long()\n",
    "    for char in range(len(string)):\n",
    "        if string[char] in all_characters:\n",
    "            tensor[char] = all_characters.index(string[char])\n",
    "        else:\n",
    "            tensor[char] = 94 #predict space if character unknown\n",
    "        \n",
    "    return Variable(tensor)\n",
    "\n",
    "# Let's see it in action.\n",
    "print(char2tensor('Metis0123abczABC'))"
   ]
  },
  {
   "cell_type": "markdown",
   "metadata": {},
   "source": [
    "Now that we can generate chunks of data, we can build our inputs and targets.\n",
    "\n",
    "Our inputs will be all of the chunk except for the last letter. \n",
    "\n",
    "Our target will be all of the chunk except for the first letter."
   ]
  },
  {
   "cell_type": "code",
   "execution_count": null,
   "metadata": {
    "ExecuteTime": {
     "end_time": "2019-04-30T21:58:26.734169Z",
     "start_time": "2019-04-30T21:58:26.721769Z"
    }
   },
   "outputs": [],
   "source": [
    "def random_training_set():\n",
    "    chunk = random_chunk()\n",
    "    inp = char2tensor(chunk[:-1])\n",
    "    target = char2tensor(chunk[1:])\n",
    "    return inp, target"
   ]
  },
  {
   "cell_type": "markdown",
   "metadata": {},
   "source": [
    "## Evaluating the Model\n",
    "\n",
    "To evaluate the network we will feed one character at a time, use the outputs of the network as a probability distribution for the next character, and repeat. To start generation we pass a priming string to start building up the hidden state, from which we then generate one character at a time."
   ]
  },
  {
   "cell_type": "code",
   "execution_count": null,
   "metadata": {
    "ExecuteTime": {
     "end_time": "2019-04-30T21:58:29.035941Z",
     "start_time": "2019-04-30T21:58:28.959259Z"
    }
   },
   "outputs": [],
   "source": [
    "def evaluate(model, prime_str='A', predict_len=100, temperature=0.8):\n",
    "    \n",
    "    hidden = model.init_hidden()\n",
    "    prime_input = char2tensor(prime_str)\n",
    "    predicted = prime_str\n",
    "    \n",
    "    # use priming string to build up hidden state\n",
    "    \n",
    "    for p in range(len(prime_str) - 1):\n",
    "        _, hidden = model(prime_input[p], hidden)\n",
    "    inp = prime_input[-1]\n",
    "    \n",
    "    for p in range(predict_len):\n",
    "        output, hidden = model(inp, hidden)\n",
    "        \n",
    "        # Sample from the network as a multinomial distribution\n",
    "        output_dist = output.data.view(-1).div(temperature).exp()\n",
    "        top_i = torch.multinomial(output_dist, 1)[0]\n",
    "        \n",
    "        # Add predicted character to string and use as next input\n",
    "        predicted_char = all_characters[top_i]\n",
    "        predicted += predicted_char\n",
    "        inp = char2tensor(predicted_char)\n",
    "        \n",
    "    return predicted"
   ]
  },
  {
   "cell_type": "markdown",
   "metadata": {},
   "source": [
    "## Training"
   ]
  },
  {
   "cell_type": "code",
   "execution_count": null,
   "metadata": {
    "ExecuteTime": {
     "end_time": "2019-04-30T21:58:32.785485Z",
     "start_time": "2019-04-30T21:58:32.776492Z"
    }
   },
   "outputs": [],
   "source": [
    "# helper function\n",
    "import time, math\n",
    "\n",
    "def time_since(since):\n",
    "    s = time.time() - since\n",
    "    m = math.floor(s/60)\n",
    "    s -= m*60\n",
    "    return '%dm %ds' % (m, s)"
   ]
  },
  {
   "cell_type": "code",
   "execution_count": null,
   "metadata": {
    "ExecuteTime": {
     "end_time": "2019-04-30T21:58:35.268443Z",
     "start_time": "2019-04-30T21:58:35.251463Z"
    }
   },
   "outputs": [],
   "source": [
    "# The actual training part\n",
    "def train(inp, target):\n",
    "    hidden = model.init_hidden()\n",
    "    model.zero_grad()\n",
    "    loss = 0\n",
    "\n",
    "    for char in range(chunk_len):\n",
    "        output, hidden = model(inp[char], hidden)\n",
    "        loss += criterion(output, target[char].unsqueeze(0))\n",
    "\n",
    "    loss.backward()\n",
    "    model_optimizer.step()\n",
    "\n",
    "    return loss.data.item() / chunk_len"
   ]
  },
  {
   "cell_type": "code",
   "execution_count": null,
   "metadata": {},
   "outputs": [],
   "source": [
    "# parameters\n",
    "n_epochs = 1000\n",
    "print_every = 100\n",
    "plot_every = 10\n",
    "hidden_size = 256\n",
    "n_layers = 2\n",
    "learning_rate = 0.001\n",
    "\n",
    "# model declaration\n",
    "model = RNN(n_characters, hidden_size, n_characters, n_layers)\n",
    "model_optimizer = torch.optim.Adam(model.parameters(), lr=learning_rate)\n",
    "criterion = nn.CrossEntropyLoss()\n",
    "\n",
    "start = time.time()\n",
    "all_losses = []\n",
    "loss_avg = 0\n",
    "\n",
    "for epoch in range(1, n_epochs + 1):\n",
    "    loss = train(*random_training_set())       \n",
    "    loss_avg += loss\n",
    "\n",
    "    if epoch % print_every == 0:\n",
    "        print('[%s (%d %d%%) %.4f]' % (time_since(start), epoch, epoch / n_epochs * 100, loss))\n",
    "        print(evaluate(model, 'A ', 100), '\\n')\n",
    "\n",
    "    if epoch % plot_every == 0:\n",
    "        all_losses.append(loss_avg / plot_every)\n",
    "        loss_avg = 0"
   ]
  },
  {
   "cell_type": "code",
   "execution_count": null,
   "metadata": {},
   "outputs": [],
   "source": [
    "import matplotlib.pyplot as plt\n",
    "import matplotlib.ticker as ticker\n",
    "%matplotlib inline\n",
    "\n",
    "plt.figure()\n",
    "plt.plot(all_losses)"
   ]
  },
  {
   "cell_type": "markdown",
   "metadata": {},
   "source": [
    "### Load pre-trained models"
   ]
  },
  {
   "cell_type": "code",
   "execution_count": null,
   "metadata": {
    "ExecuteTime": {
     "end_time": "2019-04-30T21:58:39.443051Z",
     "start_time": "2019-04-30T21:58:39.383052Z"
    }
   },
   "outputs": [],
   "source": [
    "trump = torch.load('models/potus.pt')\n",
    "billy = torch.load('models/shakespeare.pt')\n",
    "cells = torch.load('models/cell.pt')"
   ]
  },
  {
   "cell_type": "code",
   "execution_count": null,
   "metadata": {
    "ExecuteTime": {
     "end_time": "2019-05-01T18:04:17.621600Z",
     "start_time": "2019-05-01T18:04:17.348341Z"
    }
   },
   "outputs": [],
   "source": [
    "# Evaluate Trump\n",
    "print(evaluate(trump, 'covfefe ', predict_len=240, temperature=0.5))"
   ]
  },
  {
   "cell_type": "code",
   "execution_count": null,
   "metadata": {
    "ExecuteTime": {
     "end_time": "2019-05-01T12:59:59.874947Z",
     "start_time": "2019-05-01T12:59:59.537376Z"
    }
   },
   "outputs": [],
   "source": [
    "# Evaluate Billy Shakespeare\n",
    "print(evaluate(billy, 'To be or not to be: ', predict_len=200, temperature=0.5))"
   ]
  },
  {
   "cell_type": "code",
   "execution_count": null,
   "metadata": {
    "ExecuteTime": {
     "end_time": "2019-05-01T18:12:56.428857Z",
     "start_time": "2019-05-01T18:12:56.112249Z"
    }
   },
   "outputs": [],
   "source": [
    "# Evaluate NLP model of math biology latex file\n",
    "print(evaluate(cells, 'Vascular ', predict_len=200, temperature=0.6))"
   ]
  },
  {
   "cell_type": "code",
   "execution_count": null,
   "metadata": {},
   "outputs": [],
   "source": []
  }
 ],
 "metadata": {
  "kernelspec": {
   "display_name": "Python 2",
   "language": "python",
   "name": "python2"
  },
  "language_info": {
   "codemirror_mode": {
    "name": "ipython",
    "version": 2
   },
   "file_extension": ".py",
   "mimetype": "text/x-python",
   "name": "python",
   "nbconvert_exporter": "python",
   "pygments_lexer": "ipython2",
   "version": "2.7.14"
  }
 },
 "nbformat": 4,
 "nbformat_minor": 2
}
