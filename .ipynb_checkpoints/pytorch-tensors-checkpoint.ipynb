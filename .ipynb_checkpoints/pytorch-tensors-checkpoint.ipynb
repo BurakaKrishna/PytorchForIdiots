{
 "cells": [
  {
   "cell_type": "markdown",
   "metadata": {
    "colab_type": "text",
    "id": "bIAYbYajk1w9"
   },
   "source": [
    "# Pytorch Tensors\n",
    "- Tensors\n",
    "- Creating Tensors\n",
    "- Tensor Data Types\n",
    "- Size (shape) of Tensors"
   ]
  },
  {
   "cell_type": "code",
   "execution_count": 1,
   "metadata": {
    "colab": {
     "base_uri": "https://localhost:8080/",
     "height": 336
    },
    "colab_type": "code",
    "executionInfo": {
     "elapsed": 170845,
     "status": "ok",
     "timestamp": 1538803854042,
     "user": {
      "displayName": "Buomsoo Kim",
      "photoUrl": "",
      "userId": "18268696804115368229"
     },
     "user_tz": 420
    },
    "id": "GVU5-yp3N89I",
    "outputId": "77b5be33-7c05-439c-b124-0903f64a41f7"
   },
   "outputs": [
    {
     "name": "stdout",
     "output_type": "stream",
     "text": [
      "Collecting torch\n",
      "\u001b[?25l  Downloading https://files.pythonhosted.org/packages/49/0e/e382bcf1a6ae8225f50b99cc26effa2d4cc6d66975ccf3fa9590efcbedce/torch-0.4.1-cp36-cp36m-manylinux1_x86_64.whl (519.5MB)\n",
      "\u001b[K    100% |████████████████████████████████| 519.5MB 29kB/s \n",
      "tcmalloc: large alloc 1073750016 bytes == 0x586b2000 @  0x7f0833a5f1c4 0x46d6a4 0x5fcbcc 0x4c494d 0x54f3c4 0x553aaf 0x54e4c8 0x54f4f6 0x553aaf 0x54efc1 0x54f24d 0x553aaf 0x54efc1 0x54f24d 0x553aaf 0x54efc1 0x54f24d 0x551ee0 0x54e4c8 0x54f4f6 0x553aaf 0x54efc1 0x54f24d 0x551ee0 0x54efc1 0x54f24d 0x551ee0 0x54e4c8 0x54f4f6 0x553aaf 0x54e4c8\n",
      "\u001b[?25hCollecting torchvision\n",
      "\u001b[?25l  Downloading https://files.pythonhosted.org/packages/ca/0d/f00b2885711e08bd71242ebe7b96561e6f6d01fdb4b9dcf4d37e2e13c5e1/torchvision-0.2.1-py2.py3-none-any.whl (54kB)\n",
      "\u001b[K    100% |████████████████████████████████| 61kB 21.9MB/s \n",
      "\u001b[?25hRequirement already satisfied: numpy in /usr/local/lib/python3.6/dist-packages (from torchvision) (1.14.6)\n",
      "Collecting pillow>=4.1.1 (from torchvision)\n",
      "\u001b[?25l  Downloading https://files.pythonhosted.org/packages/62/94/5430ebaa83f91cc7a9f687ff5238e26164a779cca2ef9903232268b0a318/Pillow-5.3.0-cp36-cp36m-manylinux1_x86_64.whl (2.0MB)\n",
      "\u001b[K    100% |████████████████████████████████| 2.0MB 4.9MB/s \n",
      "\u001b[?25hRequirement already satisfied: six in /usr/local/lib/python3.6/dist-packages (from torchvision) (1.11.0)\n",
      "Installing collected packages: torch, pillow, torchvision\n",
      "  Found existing installation: Pillow 4.0.0\n",
      "    Uninstalling Pillow-4.0.0:\n",
      "      Successfully uninstalled Pillow-4.0.0\n",
      "Successfully installed pillow-5.3.0 torch-0.4.1 torchvision-0.2.1\n"
     ]
    }
   ],
   "source": [
    "!pip3 install torch torchvision"
   ]
  },
  {
   "cell_type": "code",
   "execution_count": 2,
   "metadata": {
    "colab": {
     "base_uri": "https://localhost:8080/",
     "height": 34
    },
    "colab_type": "code",
    "executionInfo": {
     "elapsed": 7976,
     "status": "ok",
     "timestamp": 1538803875999,
     "user": {
      "displayName": "Buomsoo Kim",
      "photoUrl": "",
      "userId": "18268696804115368229"
     },
     "user_tz": 420
    },
    "id": "8yy37hEYOEiQ",
    "outputId": "16bf052d-753a-47a7-8b83-c21d2876b322"
   },
   "outputs": [
    {
     "data": {
      "text/plain": [
       "'0.4.1'"
      ]
     },
     "execution_count": 2,
     "metadata": {
      "tags": []
     },
     "output_type": "execute_result"
    }
   ],
   "source": [
    "import numpy as np\n",
    "import pandas as pd\n",
    "import torch, torchvision\n",
    "torch.__version__"
   ]
  },
  {
   "cell_type": "markdown",
   "metadata": {
    "colab_type": "text",
    "id": "ewrw93tt2BfV"
   },
   "source": [
    "## 1. Tensors\n",
    "- Pytorch Tensors are similar to Tensors in TensorFlow. Both are based on NumPy arrays and function similar to how the NumPy array does.\n",
    "- In a nutshell, Pytorch tensors are NumPy arrays with GPU computing.\n",
    "- Note: from v.0.4.0, ```Variable``` is deprecated. Use only Tensors\n",
    "- Documentation: [```torch.Tensor```](https://pytorch.org/docs/stable/tensors.html)"
   ]
  },
  {
   "cell_type": "markdown",
   "metadata": {
    "colab_type": "text",
    "id": "YtjF_56l3d__"
   },
   "source": [
    "## 2. Creating tensors\n",
    "Tensors can be created in a number of ways:\n",
    "\n",
    "- From NumPy arrays\n",
    "- From Python list/tuples\n",
    "- Using Pytorch functions"
   ]
  },
  {
   "cell_type": "code",
   "execution_count": 8,
   "metadata": {
    "colab": {
     "base_uri": "https://localhost:8080/",
     "height": 87
    },
    "colab_type": "code",
    "executionInfo": {
     "elapsed": 1233,
     "status": "ok",
     "timestamp": 1538804268528,
     "user": {
      "displayName": "Buomsoo Kim",
      "photoUrl": "",
      "userId": "18268696804115368229"
     },
     "user_tz": 420
    },
    "id": "xz642SBhDGMb",
    "outputId": "eeb00578-858d-416a-8423-53b085d3533d"
   },
   "outputs": [
    {
     "name": "stdout",
     "output_type": "stream",
     "text": [
      "[1 2 3]\n",
      "int64\n",
      "tensor([1, 2, 3])\n",
      "torch.int64\n"
     ]
    }
   ],
   "source": [
    "# tensors can be created from arrays\n",
    "# note that data type is conserved even though array is converted into tensor\n",
    "x = np.array([1, 2, 3])\n",
    "print(x)\n",
    "print(x.dtype)\n",
    "x = torch.from_numpy(x)\n",
    "print(x)\n",
    "print(x.dtype)"
   ]
  },
  {
   "cell_type": "code",
   "execution_count": 9,
   "metadata": {
    "colab": {
     "base_uri": "https://localhost:8080/",
     "height": 87
    },
    "colab_type": "code",
    "executionInfo": {
     "elapsed": 1639,
     "status": "ok",
     "timestamp": 1538804328844,
     "user": {
      "displayName": "Buomsoo Kim",
      "photoUrl": "",
      "userId": "18268696804115368229"
     },
     "user_tz": 420
    },
    "id": "kc-s_Jb44bjB",
    "outputId": "6830c0e1-626d-4e23-a754-f0d61e155a77"
   },
   "outputs": [
    {
     "name": "stdout",
     "output_type": "stream",
     "text": [
      "[1. 2. 3.]\n",
      "float32\n",
      "tensor([1., 2., 3.])\n",
      "torch.float32\n"
     ]
    }
   ],
   "source": [
    "y = np.array([1., 2., 3.], dtype = np.float32)\n",
    "print(y)\n",
    "print(y.dtype)\n",
    "y = torch.from_numpy(y)\n",
    "print(y)\n",
    "print(y.dtype)"
   ]
  },
  {
   "cell_type": "code",
   "execution_count": 13,
   "metadata": {
    "colab": {
     "base_uri": "https://localhost:8080/",
     "height": 87
    },
    "colab_type": "code",
    "executionInfo": {
     "elapsed": 1644,
     "status": "ok",
     "timestamp": 1538804627869,
     "user": {
      "displayName": "Buomsoo Kim",
      "photoUrl": "",
      "userId": "18268696804115368229"
     },
     "user_tz": 420
    },
    "id": "mRnx4sZv3xWJ",
    "outputId": "1d5cd232-dd7e-40e2-9708-d549ba84a063"
   },
   "outputs": [
    {
     "name": "stdout",
     "output_type": "stream",
     "text": [
      "tensor([1, 2, 3])\n",
      "torch.int64\n",
      "tensor([1, 2, 3], dtype=torch.int32)\n",
      "torch.int32\n"
     ]
    }
   ],
   "source": [
    "# when creating tensor from list/tuple, data type can be designated explicitly\n",
    "x = torch.tensor([1, 2, 3])\n",
    "print(x)\n",
    "print(x.dtype)\n",
    "\n",
    "y = torch.IntTensor([1, 2, 3])\n",
    "print(y)\n",
    "print(y.dtype)"
   ]
  },
  {
   "cell_type": "code",
   "execution_count": 16,
   "metadata": {
    "colab": {
     "base_uri": "https://localhost:8080/",
     "height": 175
    },
    "colab_type": "code",
    "executionInfo": {
     "elapsed": 1648,
     "status": "ok",
     "timestamp": 1538804667410,
     "user": {
      "displayName": "Buomsoo Kim",
      "photoUrl": "",
      "userId": "18268696804115368229"
     },
     "user_tz": 420
    },
    "id": "_6LlSZ3U3VlK",
    "outputId": "7f52c40f-ad08-403a-e4d1-54928456d20c"
   },
   "outputs": [
    {
     "name": "stdout",
     "output_type": "stream",
     "text": [
      "tensor([[0.0000, 0.0000],\n",
      "        [0.0000, 0.0000],\n",
      "        [0.0000, 0.0000],\n",
      "        [0.0000, 0.0000]])\n",
      "tensor([ 1.1233,  2.0569,  0.6844, -1.1102, -0.4936])\n",
      "tensor([[[0., 0., 0., 0.],\n",
      "         [0., 0., 0., 0.]]])\n",
      "tensor([[[1., 1., 1., 1.],\n",
      "         [1., 1., 1., 1.]]])\n"
     ]
    }
   ],
   "source": [
    "# there are some pytorch functions that are similar to those in numpy\n",
    "x = torch.empty(5)           # 1d tensor, uninitialized\n",
    "print(x)\n",
    "x = torch.randn(4, 2)        # 2d random tensor\n",
    "print(x)\n",
    "x = torch.zeros(1, 2, 4)     # 3d tensor \n",
    "print(x)\n",
    "x = torch.ones(1, 2, 4)      # 3d tensor \n",
    "print(x)"
   ]
  },
  {
   "cell_type": "markdown",
   "metadata": {
    "colab_type": "text",
    "id": "WVZTmJ4CY8fM"
   },
   "source": [
    "## 3. Tensor Data Types\n",
    "- There are 8 data types in Pytorch and each has corresponding NumPy data type and CPU/GPU tensor instances\n",
    "  - ```torch.uint8```\n",
    "  - ```torch.float16``` (```torch.half```)\n",
    "  - ```torch.float32``` (```torch.float```)\n",
    "  - ```torch.float64``` (```torch.double```)\n",
    "  - ```torch.int8``` \n",
    "  - ```torch.int16``` (```torch.short```)\n",
    "  - ```torch.int32``` (```torch.int```)\n",
    "  - ```torch.int64``` (```torch.long```)\n",
    "- Each tensor has its own data type and it can be changed\n",
    "- CPU tensor can be changed into GPU tensor and vice versa"
   ]
  },
  {
   "cell_type": "code",
   "execution_count": 27,
   "metadata": {
    "colab": {
     "base_uri": "https://localhost:8080/",
     "height": 34
    },
    "colab_type": "code",
    "executionInfo": {
     "elapsed": 1237,
     "status": "ok",
     "timestamp": 1538805429034,
     "user": {
      "displayName": "Buomsoo Kim",
      "photoUrl": "",
      "userId": "18268696804115368229"
     },
     "user_tz": 420
    },
    "id": "Y9FOkKfy8xW2",
    "outputId": "4a0a3842-33df-4dfd-caab-6516c234a970"
   },
   "outputs": [
    {
     "name": "stdout",
     "output_type": "stream",
     "text": [
      "torch.float64\n"
     ]
    }
   ],
   "source": [
    "# explicitly setting and printing out data type \n",
    "x = torch.zeros(3, 2, dtype = torch.double)\n",
    "print(x.dtype)"
   ]
  },
  {
   "cell_type": "code",
   "execution_count": 0,
   "metadata": {
    "colab": {},
    "colab_type": "code",
    "id": "wPt1Yip68_oB"
   },
   "outputs": [],
   "source": [
    "# operation between tensors with different data types is not allowed\n",
    "x = torch.zeros(2, 2, dtype = torch.int)\n",
    "y = torch.zeros(2, 2, dtype = torch.float)\n",
    "print(x + y)    # error"
   ]
  },
  {
   "cell_type": "code",
   "execution_count": 26,
   "metadata": {
    "colab": {
     "base_uri": "https://localhost:8080/",
     "height": 52
    },
    "colab_type": "code",
    "executionInfo": {
     "elapsed": 1245,
     "status": "ok",
     "timestamp": 1538805382740,
     "user": {
      "displayName": "Buomsoo Kim",
      "photoUrl": "",
      "userId": "18268696804115368229"
     },
     "user_tz": 420
    },
    "id": "gjOw2qVC68I0",
    "outputId": "53253fe7-dc80-4313-9a8b-a95f2bee0900"
   },
   "outputs": [
    {
     "name": "stdout",
     "output_type": "stream",
     "text": [
      "torch.float32\n",
      "torch.int64\n"
     ]
    }
   ],
   "source": [
    "# changing data type of tensor\n",
    "x = torch.FloatTensor([1, 2, 3])\n",
    "print(x.dtype)\n",
    "x = x.long()\n",
    "print(x.dtype)"
   ]
  },
  {
   "cell_type": "code",
   "execution_count": 39,
   "metadata": {
    "colab": {
     "base_uri": "https://localhost:8080/",
     "height": 52
    },
    "colab_type": "code",
    "executionInfo": {
     "elapsed": 1615,
     "status": "ok",
     "timestamp": 1538805717937,
     "user": {
      "displayName": "Buomsoo Kim",
      "photoUrl": "",
      "userId": "18268696804115368229"
     },
     "user_tz": 420
    },
    "id": "MScsQXTX91Ar",
    "outputId": "2e498ede-24e7-4856-d053-31b5f1c2a9d9"
   },
   "outputs": [
    {
     "name": "stdout",
     "output_type": "stream",
     "text": [
      "tensor([1., 1., 1.], device='cuda:0')\n",
      "tensor([1., 1., 1.])\n"
     ]
    }
   ],
   "source": [
    "# creating a GPU tensor\n",
    "device = torch.device(\"cuda\")\n",
    "x = torch.ones(3, device = device)\n",
    "y = torch.ones(3)\n",
    "print(x)\n",
    "print(y)"
   ]
  },
  {
   "cell_type": "code",
   "execution_count": 36,
   "metadata": {
    "colab": {
     "base_uri": "https://localhost:8080/",
     "height": 52
    },
    "colab_type": "code",
    "executionInfo": {
     "elapsed": 1627,
     "status": "ok",
     "timestamp": 1538805618364,
     "user": {
      "displayName": "Buomsoo Kim",
      "photoUrl": "",
      "userId": "18268696804115368229"
     },
     "user_tz": 420
    },
    "id": "oD_sNKRf8f1N",
    "outputId": "d97f6fb7-a73f-41b7-8163-1b1ca2f385b7"
   },
   "outputs": [
    {
     "name": "stdout",
     "output_type": "stream",
     "text": [
      "tensor([1., 2., 3.])\n",
      "tensor([1., 2., 3.], device='cuda:0')\n"
     ]
    }
   ],
   "source": [
    "# converting CPU tensor to GPU tensor\n",
    "device = torch.device(\"cuda\")\n",
    "x = torch.FloatTensor([1, 2, 3])\n",
    "print(x)\n",
    "x = x.to(device)\n",
    "print(x)"
   ]
  },
  {
   "cell_type": "code",
   "execution_count": 37,
   "metadata": {
    "colab": {
     "base_uri": "https://localhost:8080/",
     "height": 52
    },
    "colab_type": "code",
    "executionInfo": {
     "elapsed": 1229,
     "status": "ok",
     "timestamp": 1538805652086,
     "user": {
      "displayName": "Buomsoo Kim",
      "photoUrl": "",
      "userId": "18268696804115368229"
     },
     "user_tz": 420
    },
    "id": "nh5GGuln9g_x",
    "outputId": "99c11d0b-e0f4-4409-e3d2-6a9a03edca4e"
   },
   "outputs": [
    {
     "name": "stdout",
     "output_type": "stream",
     "text": [
      "tensor([1., 2., 3.], device='cuda:0')\n",
      "tensor([1., 2., 3.])\n"
     ]
    }
   ],
   "source": [
    "# converting GPU tensor to CPU tensor\n",
    "print(x)\n",
    "x = x.cpu()\n",
    "print(x)"
   ]
  },
  {
   "cell_type": "markdown",
   "metadata": {
    "colab_type": "text",
    "id": "7K9iC17g-N2E"
   },
   "source": [
    "## 4. Size (shape) of Tensors\n",
    "- Size of a tensor is equivalent to shape of NumPy array\n",
    "  - Size of a tensor can be displayed using ```size()```\n",
    "  - A tensor can be reshaped using ```view()```"
   ]
  },
  {
   "cell_type": "code",
   "execution_count": 42,
   "metadata": {
    "colab": {
     "base_uri": "https://localhost:8080/",
     "height": 87
    },
    "colab_type": "code",
    "executionInfo": {
     "elapsed": 1607,
     "status": "ok",
     "timestamp": 1538805900819,
     "user": {
      "displayName": "Buomsoo Kim",
      "photoUrl": "",
      "userId": "18268696804115368229"
     },
     "user_tz": 420
    },
    "id": "chXz3L5N-GpA",
    "outputId": "a8a3e04b-f5a8-410b-e224-6bdd2c0c0684"
   },
   "outputs": [
    {
     "name": "stdout",
     "output_type": "stream",
     "text": [
      "(3,)\n",
      "torch.Size([3])\n",
      "(2, 2)\n",
      "torch.Size([2, 2])\n"
     ]
    }
   ],
   "source": [
    "# size of tensor is equivalent to shape of NumPy array\n",
    "x = np.asarray([2, 4, 5])\n",
    "print(x.shape)\n",
    "x = torch.tensor([2, 4, 5])\n",
    "print(x.size())\n",
    "\n",
    "x = np.asarray([[1,2], [3,4]])\n",
    "print(x.shape)\n",
    "x = torch.tensor([[1,2], [3,4]])\n",
    "print(x.size())"
   ]
  },
  {
   "cell_type": "code",
   "execution_count": 43,
   "metadata": {
    "colab": {
     "base_uri": "https://localhost:8080/",
     "height": 70
    },
    "colab_type": "code",
    "executionInfo": {
     "elapsed": 1166,
     "status": "ok",
     "timestamp": 1538805982602,
     "user": {
      "displayName": "Buomsoo Kim",
      "photoUrl": "",
      "userId": "18268696804115368229"
     },
     "user_tz": 420
    },
    "id": "1hgZ8h3B-fFd",
    "outputId": "8e175211-fb1f-479d-f1a5-d2c114ea3619"
   },
   "outputs": [
    {
     "name": "stdout",
     "output_type": "stream",
     "text": [
      "torch.Size([2, 8])\n",
      "torch.Size([4, 4])\n",
      "torch.Size([8, 2])\n"
     ]
    }
   ],
   "source": [
    "# reshaping tensors\n",
    "x = torch.ones(2, 8, dtype = torch.float)\n",
    "print(x.size())\n",
    "x = x.view(4, 4)\n",
    "print(x.size())\n",
    "x = x.view(8, -1)\n",
    "print(x.size())"
   ]
  },
  {
   "cell_type": "code",
   "execution_count": 44,
   "metadata": {
    "colab": {
     "base_uri": "https://localhost:8080/",
     "height": 52
    },
    "colab_type": "code",
    "executionInfo": {
     "elapsed": 1510,
     "status": "ok",
     "timestamp": 1538806024196,
     "user": {
      "displayName": "Buomsoo Kim",
      "photoUrl": "",
      "userId": "18268696804115368229"
     },
     "user_tz": 420
    },
    "id": "zyAVn_Ng--Cl",
    "outputId": "c77901f6-f79d-45bc-ca54-130764504bca"
   },
   "outputs": [
    {
     "name": "stdout",
     "output_type": "stream",
     "text": [
      "tensor([1])\n",
      "1\n"
     ]
    }
   ],
   "source": [
    "# to get scalar value of tensor with size 1, use item()\n",
    "x = torch.tensor([7])\n",
    "x /= 7\n",
    "print(x)\n",
    "print(x.item())"
   ]
  }
 ],
 "metadata": {
  "accelerator": "GPU",
  "colab": {
   "collapsed_sections": [],
   "name": "pytorch-tensors.ipynb",
   "provenance": [],
   "version": "0.3.2"
  },
  "kernelspec": {
   "display_name": "Python 2",
   "language": "python",
   "name": "python2"
  },
  "language_info": {
   "codemirror_mode": {
    "name": "ipython",
    "version": 2
   },
   "file_extension": ".py",
   "mimetype": "text/x-python",
   "name": "python",
   "nbconvert_exporter": "python",
   "pygments_lexer": "ipython2",
   "version": "2.7.15"
  }
 },
 "nbformat": 4,
 "nbformat_minor": 1
}
